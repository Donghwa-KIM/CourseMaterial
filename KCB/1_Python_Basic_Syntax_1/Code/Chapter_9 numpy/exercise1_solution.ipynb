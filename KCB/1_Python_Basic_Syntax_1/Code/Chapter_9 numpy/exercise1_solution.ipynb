{
 "cells": [
  {
   "cell_type": "markdown",
   "metadata": {
    "school_cell_uuid": "d4a5daaaddc54edbb80ae6cd24281794"
   },
   "source": [
    "### 연습 문제 1-1\n",
    "\n",
    "#### 다음과 같은 행렬을 만든다.\n",
    "\n",
    "#### 10 20 30 40\n",
    "#### 50 60 70 80"
   ]
  },
  {
   "cell_type": "code",
   "execution_count": 1,
   "metadata": {},
   "outputs": [
    {
     "data": {
      "text/plain": [
       "array([[10, 20, 30, 40],\n",
       "       [50, 60, 70, 80]])"
      ]
     },
     "execution_count": 1,
     "metadata": {},
     "output_type": "execute_result"
    }
   ],
   "source": [
    "import numpy as np\n",
    "\n",
    "a = np.array([[10, 20, 30, 40], [50, 60, 70, 80]])\n",
    "a"
   ]
  },
  {
   "cell_type": "markdown",
   "metadata": {
    "school_cell_uuid": "77b7f6c626874200bc16eede39d72458"
   },
   "source": [
    "### 연습 문제 1-2"
   ]
  },
  {
   "cell_type": "markdown",
   "metadata": {
    "school_cell_uuid": "fa912ffbea6d4f56af4aacd4ee1e4983"
   },
   "source": [
    "#### 다음 행렬과 같은 행렬이 있다.\n",
    "m = array([[ 0,  1,  2,  3,  4],\n",
    "           [ 5,  6,  7,  8,  9],\n",
    "           [10, 11, 12, 13, 14]])"
   ]
  },
  {
   "cell_type": "code",
   "execution_count": 12,
   "metadata": {
    "collapsed": false,
    "jupyter": {
     "outputs_hidden": false
    },
    "school_cell_uuid": "870a014fcf88464d843a6a17aac48103"
   },
   "outputs": [
    {
     "data": {
      "text/plain": [
       "array([[ 0,  1,  2,  3,  4],\n",
       "       [ 5,  6,  7,  8,  9],\n",
       "       [10, 11, 12, 13, 14]])"
      ]
     },
     "execution_count": 12,
     "metadata": {},
     "output_type": "execute_result"
    }
   ],
   "source": [
    "m = np.array([[0, 1, 2, 3, 4], [5, 6, 7, 8, 9], [10, 11, 12, 13, 14]])\n",
    "m"
   ]
  },
  {
   "cell_type": "markdown",
   "metadata": {
    "school_cell_uuid": "4e4a53b7d1b941ed8f6ee5db2649cd46"
   },
   "source": [
    "#### 1-2-1. 이 행렬에서 값 7을 인덱싱한다."
   ]
  },
  {
   "cell_type": "code",
   "execution_count": 18,
   "metadata": {
    "collapsed": false,
    "jupyter": {
     "outputs_hidden": false
    },
    "school_cell_uuid": "5f309f0e3f7a44febae6760a7c6cd991"
   },
   "outputs": [
    {
     "data": {
      "text/plain": [
       "7"
      ]
     },
     "execution_count": 18,
     "metadata": {},
     "output_type": "execute_result"
    }
   ],
   "source": [
    "m[1, 2]"
   ]
  },
  {
   "cell_type": "markdown",
   "metadata": {
    "school_cell_uuid": "46f7decc24374d84abb97413d099bb52"
   },
   "source": [
    "#### 1-2-2. 이 행렬에서 값 14을 인덱싱한다."
   ]
  },
  {
   "cell_type": "code",
   "execution_count": 17,
   "metadata": {
    "collapsed": false,
    "jupyter": {
     "outputs_hidden": false
    },
    "school_cell_uuid": "b7104c96efc44c8fb09951bc04b8fdbd"
   },
   "outputs": [
    {
     "data": {
      "text/plain": [
       "14"
      ]
     },
     "execution_count": 17,
     "metadata": {},
     "output_type": "execute_result"
    }
   ],
   "source": [
    "m[-1, -1]"
   ]
  },
  {
   "cell_type": "markdown",
   "metadata": {
    "school_cell_uuid": "46053d9d30af4b9c8e2f957d88c11b7c"
   },
   "source": [
    "#### 1-2-3. 이 행렬에서 배열 [6, 7]을 슬라이싱한다."
   ]
  },
  {
   "cell_type": "code",
   "execution_count": 16,
   "metadata": {
    "collapsed": false,
    "jupyter": {
     "outputs_hidden": false
    },
    "school_cell_uuid": "63693f07a4534b748f33a580dbf789c8"
   },
   "outputs": [
    {
     "data": {
      "text/plain": [
       "array([6, 7])"
      ]
     },
     "execution_count": 16,
     "metadata": {},
     "output_type": "execute_result"
    }
   ],
   "source": [
    "m[1, 1 : 3]"
   ]
  },
  {
   "cell_type": "markdown",
   "metadata": {
    "school_cell_uuid": "2c24d963bbd54dd5bba5376204403389"
   },
   "source": [
    "#### 1-2-4. 이 행렬에서 배열 [7, 12]을 슬라이싱한다."
   ]
  },
  {
   "cell_type": "code",
   "execution_count": 14,
   "metadata": {
    "collapsed": false,
    "jupyter": {
     "outputs_hidden": false
    },
    "school_cell_uuid": "d4996d7e462a4ee399f18c0aa5fbbaa5"
   },
   "outputs": [
    {
     "data": {
      "text/plain": [
       "array([ 7, 12])"
      ]
     },
     "execution_count": 14,
     "metadata": {},
     "output_type": "execute_result"
    }
   ],
   "source": [
    "m[[1, 2], [2, 2]]"
   ]
  },
  {
   "cell_type": "markdown",
   "metadata": {
    "school_cell_uuid": "1a8c5314b7794f20ac087e0c5bf93c69"
   },
   "source": [
    "#### 1-2-5. 이 행렬에서 배열 [[3, 4], [8, 9]]을 슬라이싱한다."
   ]
  },
  {
   "cell_type": "code",
   "execution_count": 15,
   "metadata": {
    "collapsed": false,
    "jupyter": {
     "outputs_hidden": false
    },
    "school_cell_uuid": "ddfc74e656c8458d9783e1663d8325c4"
   },
   "outputs": [
    {
     "data": {
      "text/plain": [
       "array([[3, 4],\n",
       "       [8, 9]])"
      ]
     },
     "execution_count": 15,
     "metadata": {},
     "output_type": "execute_result"
    }
   ],
   "source": [
    "m[:2, 3:]"
   ]
  }
 ],
 "metadata": {
  "kernelspec": {
   "display_name": "Python 3",
   "language": "python",
   "name": "python3"
  },
  "language_info": {
   "codemirror_mode": {
    "name": "ipython",
    "version": 3
   },
   "file_extension": ".py",
   "mimetype": "text/x-python",
   "name": "python",
   "nbconvert_exporter": "python",
   "pygments_lexer": "ipython3",
   "version": "3.6.8"
  }
 },
 "nbformat": 4,
 "nbformat_minor": 4
}
