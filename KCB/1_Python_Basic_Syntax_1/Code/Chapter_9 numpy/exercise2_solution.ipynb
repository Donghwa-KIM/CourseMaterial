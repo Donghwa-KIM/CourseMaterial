{
 "cells": [
  {
   "cell_type": "markdown",
   "metadata": {
    "school_cell_uuid": "d6e4c5e082c5401888e6024d774de992"
   },
   "source": [
    "### 연습 문제 2-1\n",
    "\n",
    "#### 벡터 x가 다음과 같을 때, 여러가지 수식을 사용하여 같은 크기의 벡터 y를 만드세요.\n",
    "##### 예시) x + 10"
   ]
  },
  {
   "cell_type": "code",
   "execution_count": 2,
   "metadata": {
    "collapsed": false,
    "jupyter": {
     "outputs_hidden": false
    },
    "school_cell_uuid": "c2b4d559de704595bfb56b6ab7f146ea"
   },
   "outputs": [],
   "source": [
    "import numpy as np\n",
    "\n",
    "x = np.arange(10)"
   ]
  },
  {
   "cell_type": "code",
   "execution_count": 2,
   "metadata": {
    "collapsed": false,
    "jupyter": {
     "outputs_hidden": false
    },
    "school_cell_uuid": "c387beec73db4c4a9e9534e92d58225e"
   },
   "outputs": [
    {
     "data": {
      "text/plain": [
       "array([10, 11, 12, 13, 14, 15, 16, 17, 18, 19])"
      ]
     },
     "execution_count": 2,
     "metadata": {},
     "output_type": "execute_result"
    }
   ],
   "source": [
    "x + 10"
   ]
  },
  {
   "cell_type": "code",
   "execution_count": 3,
   "metadata": {
    "collapsed": false,
    "jupyter": {
     "outputs_hidden": false
    },
    "school_cell_uuid": "29ad6bf7b5cf484cb38308713d4da543"
   },
   "outputs": [
    {
     "data": {
      "text/plain": [
       "array([ 0, 10, 20, 30, 40, 50, 60, 70, 80, 90])"
      ]
     },
     "execution_count": 3,
     "metadata": {},
     "output_type": "execute_result"
    }
   ],
   "source": [
    "x * 10"
   ]
  },
  {
   "cell_type": "code",
   "execution_count": 4,
   "metadata": {
    "collapsed": false,
    "jupyter": {
     "outputs_hidden": false
    },
    "school_cell_uuid": "34b09255cbc74481a9c18b4717e29f54"
   },
   "outputs": [
    {
     "data": {
      "text/plain": [
       "array([1.00000000e+00, 2.71828183e+00, 7.38905610e+00, 2.00855369e+01,\n",
       "       5.45981500e+01, 1.48413159e+02, 4.03428793e+02, 1.09663316e+03,\n",
       "       2.98095799e+03, 8.10308393e+03])"
      ]
     },
     "execution_count": 4,
     "metadata": {},
     "output_type": "execute_result"
    }
   ],
   "source": [
    "np.exp(x)"
   ]
  },
  {
   "cell_type": "code",
   "execution_count": 5,
   "metadata": {
    "collapsed": false,
    "jupyter": {
     "outputs_hidden": false
    },
    "school_cell_uuid": "3438acb5151e4da68ab005d313df3af1"
   },
   "outputs": [
    {
     "data": {
      "text/plain": [
       "array([         1,         10,        100,       1000,      10000,\n",
       "           100000,    1000000,   10000000,  100000000, 1000000000])"
      ]
     },
     "execution_count": 5,
     "metadata": {},
     "output_type": "execute_result"
    }
   ],
   "source": [
    "10 ** x"
   ]
  },
  {
   "cell_type": "code",
   "execution_count": 6,
   "metadata": {
    "collapsed": false,
    "jupyter": {
     "outputs_hidden": false
    },
    "school_cell_uuid": "ddcc3a4e17ac43d78aca1b2376f9d2a8"
   },
   "outputs": [
    {
     "data": {
      "text/plain": [
       "array([ True, False, False, False, False, False, False, False, False,\n",
       "       False])"
      ]
     },
     "execution_count": 6,
     "metadata": {},
     "output_type": "execute_result"
    }
   ],
   "source": [
    "y = np.zeros_like(x)\n",
    "\n",
    "x == y"
   ]
  },
  {
   "cell_type": "code",
   "execution_count": 7,
   "metadata": {
    "collapsed": false,
    "jupyter": {
     "outputs_hidden": false
    },
    "school_cell_uuid": "f36c427b7f2243c49b5fbf3491b5c90c"
   },
   "outputs": [
    {
     "data": {
      "text/plain": [
       "array([0, 1, 2, 3, 4, 5, 6, 7, 8, 9])"
      ]
     },
     "execution_count": 7,
     "metadata": {},
     "output_type": "execute_result"
    }
   ],
   "source": [
    "x - y"
   ]
  },
  {
   "cell_type": "markdown",
   "metadata": {
    "school_cell_uuid": "c4a42b866c2d48529ef2630c9cbcd2fd"
   },
   "source": [
    "### 연습 문제 2-2\n",
    "\n",
    "#### 5 x 6 형태의 데이터 행렬을 만들고 이 데이터에 대해 다음과 같은 값을 구한다.\n",
    "1. 전체의 최댓값\n",
    "2. 각 행의 합\n",
    "3. 각 열의 평균"
   ]
  },
  {
   "cell_type": "code",
   "execution_count": 24,
   "metadata": {
    "collapsed": false,
    "jupyter": {
     "outputs_hidden": false
    },
    "school_cell_uuid": "b9f67de3429f4126bb9fc87823241e7d"
   },
   "outputs": [
    {
     "data": {
      "text/plain": [
       "array([[14, 10, 21,  1, 10, 12],\n",
       "       [24, 10, 29, 24, 19, 20],\n",
       "       [ 4, 25,  7, 21, 11, 17],\n",
       "       [ 2, 25,  7, 22,  2,  2],\n",
       "       [13, 27, 20,  2,  0, 21]])"
      ]
     },
     "execution_count": 24,
     "metadata": {},
     "output_type": "execute_result"
    }
   ],
   "source": [
    "arr = np.random.randint(30, size=(5, 6))\n",
    "arr"
   ]
  },
  {
   "cell_type": "code",
   "execution_count": 5,
   "metadata": {
    "collapsed": false,
    "jupyter": {
     "outputs_hidden": false
    },
    "school_cell_uuid": "bd62ed4b57d147738616443e26375cae"
   },
   "outputs": [
    {
     "data": {
      "text/plain": [
       "29"
      ]
     },
     "execution_count": 5,
     "metadata": {},
     "output_type": "execute_result"
    }
   ],
   "source": [
    "np.max(arr) # 1.전체의 최댓값"
   ]
  },
  {
   "cell_type": "code",
   "execution_count": 31,
   "metadata": {
    "collapsed": false,
    "jupyter": {
     "outputs_hidden": false
    },
    "school_cell_uuid": "b19cc9da38fd4db585b2f1a1af161c00"
   },
   "outputs": [
    {
     "data": {
      "text/plain": [
       "array([ 67,  24, 120, 180, 240])"
      ]
     },
     "execution_count": 31,
     "metadata": {},
     "output_type": "execute_result"
    }
   ],
   "source": [
    "arr.sum(axis=1) # 2.각 행의 합"
   ]
  },
  {
   "cell_type": "code",
   "execution_count": 32,
   "metadata": {
    "collapsed": false,
    "jupyter": {
     "outputs_hidden": false
    },
    "school_cell_uuid": "0793628421154238b89804c0fd32b501"
   },
   "outputs": [
    {
     "data": {
      "text/plain": [
       "array([ 23.2,  19. ,  19.4,  21. ,  22. ,  21.6])"
      ]
     },
     "execution_count": 32,
     "metadata": {},
     "output_type": "execute_result"
    }
   ],
   "source": [
    "arr.mean(axis=0) # 3.각 열의 평균"
   ]
  },
  {
   "cell_type": "markdown",
   "metadata": {
    "school_cell_uuid": "29dc77dd473946e996586a2053b2b218"
   },
   "source": [
    "### 연습 문제 2-3\n",
    "\n",
    "#### 연습 문제 2-2에서 만든 데이터에 대해 다음을 구한다.\n",
    "1. 첫번째 열 값으로 모든 행을 정렬\n",
    "2. 두번째 행 값으로 모든 열을 정렬"
   ]
  },
  {
   "cell_type": "code",
   "execution_count": 33,
   "metadata": {
    "collapsed": false,
    "jupyter": {
     "outputs_hidden": false
    },
    "school_cell_uuid": "bdf3d3a1cf834430899221293c04d8fa"
   },
   "outputs": [
    {
     "data": {
      "text/plain": [
       "array([[22,  3,  6,  9, 12, 15],\n",
       "       [ 4,  2,  1,  6,  8,  3],\n",
       "       [20, 20, 20, 20, 20, 20],\n",
       "       [30, 30, 30, 30, 30, 30],\n",
       "       [40, 40, 40, 40, 40, 40]])"
      ]
     },
     "execution_count": 33,
     "metadata": {},
     "output_type": "execute_result"
    }
   ],
   "source": [
    "arr"
   ]
  },
  {
   "cell_type": "code",
   "execution_count": 25,
   "metadata": {
    "collapsed": false,
    "jupyter": {
     "outputs_hidden": false
    },
    "school_cell_uuid": "0a97ce0a0d484fbd84f9278f319dfb65"
   },
   "outputs": [
    {
     "data": {
      "text/plain": [
       "array([[ 2, 25,  7, 22,  2,  2],\n",
       "       [ 4, 25,  7, 21, 11, 17],\n",
       "       [13, 27, 20,  2,  0, 21],\n",
       "       [14, 10, 21,  1, 10, 12],\n",
       "       [24, 10, 29, 24, 19, 20]])"
      ]
     },
     "execution_count": 25,
     "metadata": {},
     "output_type": "execute_result"
    }
   ],
   "source": [
    "arr[np.argsort(arr[:,0])] # 1.첫번째 열 값으로 모든 행을 정렬"
   ]
  },
  {
   "cell_type": "code",
   "execution_count": 26,
   "metadata": {
    "collapsed": false,
    "jupyter": {
     "outputs_hidden": false
    },
    "school_cell_uuid": "895325cc80e44de78295e38f927fe774"
   },
   "outputs": [
    {
     "data": {
      "text/plain": [
       "array([[10, 10, 12, 14,  1, 21],\n",
       "       [10, 19, 20, 24, 24, 29],\n",
       "       [25, 11, 17,  4, 21,  7],\n",
       "       [25,  2,  2,  2, 22,  7],\n",
       "       [27,  0, 21, 13,  2, 20]])"
      ]
     },
     "execution_count": 26,
     "metadata": {},
     "output_type": "execute_result"
    }
   ],
   "source": [
    "arr[:5, np.argsort(arr[1,:])] # 2.두번째 행 값으로 모든 열을 정렬"
   ]
  }
 ],
 "metadata": {
  "kernelspec": {
   "display_name": "Python 3",
   "language": "python",
   "name": "python3"
  },
  "language_info": {
   "codemirror_mode": {
    "name": "ipython",
    "version": 3
   },
   "file_extension": ".py",
   "mimetype": "text/x-python",
   "name": "python",
   "nbconvert_exporter": "python",
   "pygments_lexer": "ipython3",
   "version": "3.6.8"
  }
 },
 "nbformat": 4,
 "nbformat_minor": 4
}
