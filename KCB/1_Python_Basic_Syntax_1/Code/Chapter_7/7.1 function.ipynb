{
 "cells": [
  {
   "cell_type": "markdown",
   "metadata": {},
   "source": [
    "# *__함수__"
   ]
  },
  {
   "cell_type": "markdown",
   "metadata": {},
   "source": [
    "### 함수란 무엇인가\n",
    "- 함수는 문들을 하나로 묶은 단위이다. 이러한 특성 덕분에 반복적인 실행이 가능하며, 주위의 상황에 얽매이지 않는 코드를 작성할 수 있다\n",
    "- 다시말해, 언제든지 어떤 기능이 필요하면 관련 함수를 불러 실행할 수 있다\n",
    "- 함수는 코드를 재사용하게 해주고 프로그램을 논리적으로 구성하게 해준다"
   ]
  },
  {
   "cell_type": "markdown",
   "metadata": {},
   "source": [
    "### __함수의 정의__\n",
    "- 함수를 정의하는 키워드는 def 이다\n",
    "- 함수 선언 형태는 def [함수이름](함수인자1, 함수인자2, ...): 이다 (콜론을 잊지 말자)\n",
    "- 함수를 부르는 형태는 [함수이름](인수1, 인수2, ...) 이다\n",
    "- 엄밀하게 말해 매개변수(함수인자)와 인수는 다른 개념이나 엄청 까다롭게 구분하여 사용하지는 않는다\n",
    "- def 밑에 라인은 들여쓰기가 필수다\n",
    "- 출력하고자 하는 값은 return 뒤에 적어준다"
   ]
  },
  {
   "cell_type": "markdown",
   "metadata": {},
   "source": [
    "__덧셈을 구하는 함수__"
   ]
  },
  {
   "cell_type": "code",
   "execution_count": null,
   "metadata": {},
   "outputs": [],
   "source": [
    "def add(a, b):\n",
    "    return a + b"
   ]
  },
  {
   "cell_type": "code",
   "execution_count": null,
   "metadata": {},
   "outputs": [],
   "source": [
    "add"
   ]
  },
  {
   "cell_type": "code",
   "execution_count": null,
   "metadata": {},
   "outputs": [],
   "source": [
    "add(1, 2)"
   ]
  },
  {
   "cell_type": "markdown",
   "metadata": {},
   "source": [
    "- 함수는 계층 구조를 가진다"
   ]
  },
  {
   "cell_type": "code",
   "execution_count": null,
   "metadata": {},
   "outputs": [],
   "source": [
    "def addmul(a, b, c):\n",
    "    add_result = add(a, b)\n",
    "    return add_result * c    "
   ]
  },
  {
   "cell_type": "code",
   "execution_count": null,
   "metadata": {},
   "outputs": [],
   "source": [
    "addmul(1, 2, 3)"
   ]
  },
  {
   "cell_type": "markdown",
   "metadata": {},
   "source": [
    "### __자료형의 동적인 결정__\n",
    "- 파이썬의 모든 객체는 동적으로 자료형이 결정된다\n",
    "- 다시말해, 어떤 연산을 수행할 때 해당 객체에 맞는 연산을 자동으로 호출한다\n",
    "    - 예를 들어, + 연산은 객체가 숫자인 경우에는 수치 덧셈, 문자열인 경우에는 문자열 연결하기, 리스트인 경우에는 리스트 연결하기와같이 객체에 맞는 연산이 적용된다"
   ]
  },
  {
   "cell_type": "markdown",
   "metadata": {},
   "source": [
    "__따라서 add() 함수는 + 연산을 가지는 모든 객체에 적용된다__"
   ]
  },
  {
   "cell_type": "code",
   "execution_count": null,
   "metadata": {},
   "outputs": [],
   "source": [
    "c = add(1, 3.4)\n",
    "print(c)"
   ]
  },
  {
   "cell_type": "code",
   "execution_count": null,
   "metadata": {},
   "outputs": [],
   "source": [
    "d = add('dynamic', ' typing')\n",
    "print(d)"
   ]
  },
  {
   "cell_type": "code",
   "execution_count": null,
   "metadata": {},
   "outputs": [],
   "source": [
    "e = add(['list'], ['and', 'list'])\n",
    "print(e)"
   ]
  },
  {
   "cell_type": "markdown",
   "metadata": {},
   "source": [
    "### __return 문__\n",
    "- 인수 없이 return 문만을 사용하면 함수를 호출한 측에 아무 값도 전달하지 않는다\n",
    "- 것 처럼 보이지만, 실제로는 None 객체를 전달한다\n",
    "- None 객체는 파이썬 내장 객체로 값이 없음을 나타내는 객체이다"
   ]
  },
  {
   "cell_type": "code",
   "execution_count": null,
   "metadata": {},
   "outputs": [],
   "source": [
    "def nothing():\n",
    "    return"
   ]
  },
  {
   "cell_type": "code",
   "execution_count": null,
   "metadata": {},
   "outputs": [],
   "source": [
    "nothing()"
   ]
  },
  {
   "cell_type": "code",
   "execution_count": null,
   "metadata": {},
   "outputs": [],
   "source": [
    "print(nothing())"
   ]
  },
  {
   "cell_type": "markdown",
   "metadata": {},
   "source": [
    "- return 문 없이 종료하는 경우도 None 객체를 전달한다"
   ]
  },
  {
   "cell_type": "code",
   "execution_count": null,
   "metadata": {},
   "outputs": [],
   "source": [
    "def simple():\n",
    "    pass"
   ]
  },
  {
   "cell_type": "code",
   "execution_count": null,
   "metadata": {},
   "outputs": [],
   "source": [
    "simple()"
   ]
  },
  {
   "cell_type": "code",
   "execution_count": null,
   "metadata": {},
   "outputs": [],
   "source": [
    "print(simple())"
   ]
  },
  {
   "cell_type": "markdown",
   "metadata": {},
   "source": [
    "### __유효 범위__\n",
    "- 유효 범위란 변수가 유효하게 사용되는 문맥 범위를 정하는 규칙이다\n",
    "- 즉, 변수가 어느 범위에서 유효한지를 결정하는 것이다\n",
    "- 변수가 함수 내에서 정의되면, 함수의 지역 변수가 된다\n",
    "- 반대로 변수가 함수 외부에서 정의되면, 해당 모듈의 전역 변수가 된다"
   ]
  },
  {
   "cell_type": "markdown",
   "metadata": {},
   "source": [
    "- 예시"
   ]
  },
  {
   "cell_type": "code",
   "execution_count": null,
   "metadata": {},
   "outputs": [],
   "source": [
    "x = 10\n",
    "y = 11\n",
    "def foo():\n",
    "    x = 20\n",
    "    def bar():\n",
    "        a = 30\n",
    "        print(\"bar() 함수 내부의 a, x, y 값 : \", a, x, y)\n",
    "    bar()\n",
    "    x = 40\n",
    "    bar()"
   ]
  },
  {
   "cell_type": "code",
   "execution_count": null,
   "metadata": {},
   "outputs": [],
   "source": [
    "foo()"
   ]
  },
  {
   "cell_type": "code",
   "execution_count": null,
   "metadata": {},
   "outputs": [],
   "source": [
    "a = 2\n",
    "b = 3\n",
    "c = 200\n",
    "def add(a, b):\n",
    "    c = a + b\n",
    "    return c"
   ]
  },
  {
   "cell_type": "code",
   "execution_count": null,
   "metadata": {},
   "outputs": [],
   "source": [
    "print(add(a, b))\n",
    "print(c)"
   ]
  },
  {
   "cell_type": "markdown",
   "metadata": {},
   "source": [
    "### __인수의 기본값__\n",
    "- 인수의 기본값이란 함수를 호출할 때 인수를 넘겨주지 않아도 인수가 자신의 기본값을 취하도록 하는 기능이다\n",
    "- 기본값을 지정하면 꼭 필요한 인수만 넘겨주면 되므로 함수 호출이 편리해진다"
   ]
  },
  {
   "cell_type": "markdown",
   "metadata": {},
   "source": [
    "기본 예시"
   ]
  },
  {
   "cell_type": "code",
   "execution_count": null,
   "metadata": {},
   "outputs": [],
   "source": [
    "def addone(a, b=1):\n",
    "    return a + b"
   ]
  },
  {
   "cell_type": "code",
   "execution_count": null,
   "metadata": {},
   "outputs": [],
   "source": [
    "print(addone(3))"
   ]
  },
  {
   "cell_type": "markdown",
   "metadata": {},
   "source": [
    "이런식으로 지정하는 것과 무엇이 다른가요"
   ]
  },
  {
   "cell_type": "code",
   "execution_count": null,
   "metadata": {},
   "outputs": [],
   "source": [
    "def addone2(a):\n",
    "    return a + 1"
   ]
  },
  {
   "cell_type": "code",
   "execution_count": null,
   "metadata": {},
   "outputs": [],
   "source": [
    "print(addone2(3))"
   ]
  },
  {
   "cell_type": "markdown",
   "metadata": {},
   "source": [
    "addone() 함수는 매개변수가 두 개이기 때문에 인수를 두 개까지 줄 수 있다 <br>\n",
    "addone2()는 그렇지 못하다"
   ]
  },
  {
   "cell_type": "code",
   "execution_count": null,
   "metadata": {},
   "outputs": [],
   "source": [
    "print(addone(3, 4))"
   ]
  },
  {
   "cell_type": "code",
   "execution_count": null,
   "metadata": {},
   "outputs": [],
   "source": [
    "print(addone2(3, 4))"
   ]
  }
 ],
 "metadata": {
  "kernelspec": {
   "display_name": "Python 3",
   "language": "python",
   "name": "python3"
  },
  "language_info": {
   "codemirror_mode": {
    "name": "ipython",
    "version": 3
   },
   "file_extension": ".py",
   "mimetype": "text/x-python",
   "name": "python",
   "nbconvert_exporter": "python",
   "pygments_lexer": "ipython3",
   "version": "3.6.8"
  }
 },
 "nbformat": 4,
 "nbformat_minor": 4
}
