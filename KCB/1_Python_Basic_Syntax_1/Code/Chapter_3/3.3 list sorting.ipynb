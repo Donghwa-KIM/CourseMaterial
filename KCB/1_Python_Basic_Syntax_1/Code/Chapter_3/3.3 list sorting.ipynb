{
 "cells": [
  {
   "cell_type": "markdown",
   "metadata": {},
   "source": [
    "# *__리스트 정렬하기__"
   ]
  },
  {
   "cell_type": "markdown",
   "metadata": {},
   "source": [
    "- sort() 메서드 사용하기\n",
    "    - sort() 메서드는 내장된 순서에 따라 모든 데이터를 정렬한다\n",
    "    - 역순으로 정렬하기를 원한다면 sort() 메서드에 reverse 키워드를 사용한다\n",
    "    - 영어의 경우 대문자가 소문자보다 우선 정렬된다\n",
    "    - key 키워드를 사용하여 특정 조건하에서 리스트를 정렬할 수 있다"
   ]
  },
  {
   "cell_type": "code",
   "execution_count": null,
   "metadata": {},
   "outputs": [],
   "source": [
    "L = [1, 5, 3, 9, 8, 4, 2]\n",
    "print(L)"
   ]
  },
  {
   "cell_type": "code",
   "execution_count": null,
   "metadata": {},
   "outputs": [],
   "source": [
    "L.sort()\n",
    "print(L)"
   ]
  },
  {
   "cell_type": "code",
   "execution_count": null,
   "metadata": {},
   "outputs": [],
   "source": [
    "L.sort(reverse = True)\n",
    "print(L)"
   ]
  },
  {
   "cell_type": "code",
   "execution_count": null,
   "metadata": {},
   "outputs": [],
   "source": [
    "L = 'Python is a Programming Language'.split()\n",
    "print(L)"
   ]
  },
  {
   "cell_type": "code",
   "execution_count": null,
   "metadata": {},
   "outputs": [],
   "source": [
    "L.sort()\n",
    "print(L)"
   ]
  },
  {
   "cell_type": "code",
   "execution_count": null,
   "metadata": {},
   "outputs": [],
   "source": [
    "L.sort(key = str.lower)\n",
    "print(L)"
   ]
  },
  {
   "cell_type": "code",
   "execution_count": null,
   "metadata": {},
   "outputs": [],
   "source": [
    "L.sort(key = str.lower, reverse = True)\n",
    "print(L)"
   ]
  },
  {
   "cell_type": "markdown",
   "metadata": {},
   "source": [
    "- sorted() 함수를 사용한 정렬\n",
    "    - 리스트 내부의 순서는 변경하지 않은채 새로운 정렬된 리스트를 원할 경우에 sorted() 함수를 사용한다\n",
    "    - sort()와 같이 key와 reverse 키워드를 사용할 수 있다"
   ]
  },
  {
   "cell_type": "code",
   "execution_count": null,
   "metadata": {},
   "outputs": [],
   "source": [
    "L = [1, 6, 3, 8, 6, 2, 9]\n",
    "sorted_L = L.sort()\n",
    "print(sorted_L)"
   ]
  },
  {
   "cell_type": "code",
   "execution_count": null,
   "metadata": {},
   "outputs": [],
   "source": [
    "L = [1, 6, 3, 8, 6, 2, 9]\n",
    "sorted_L = sorted(L)\n",
    "print(sorted_L)"
   ]
  },
  {
   "cell_type": "code",
   "execution_count": null,
   "metadata": {},
   "outputs": [],
   "source": [
    "L = [1, 6, 3, 8, 6, 2, 9]\n",
    "sorted_L = sorted(L, reverse = True)\n",
    "print(sorted_L)"
   ]
  },
  {
   "cell_type": "code",
   "execution_count": null,
   "metadata": {},
   "outputs": [],
   "source": [
    "L = 'Python is a Programming Language'.split()\n",
    "sorted_L = sorted(L, key = str.lower)\n",
    "print(sorted_L)"
   ]
  }
 ],
 "metadata": {
  "kernelspec": {
   "display_name": "Python 3",
   "language": "python",
   "name": "python3"
  },
  "language_info": {
   "codemirror_mode": {
    "name": "ipython",
    "version": 3
   },
   "file_extension": ".py",
   "mimetype": "text/x-python",
   "name": "python",
   "nbconvert_exporter": "python",
   "pygments_lexer": "ipython3",
   "version": "3.6.8"
  }
 },
 "nbformat": 4,
 "nbformat_minor": 4
}
