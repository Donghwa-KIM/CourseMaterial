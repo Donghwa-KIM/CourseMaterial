{
 "cells": [
  {
   "cell_type": "markdown",
   "metadata": {},
   "source": [
    "# *__리스트 내장__\n",
    "### 리스트 내장(list comprehension)은 시퀀스 자료형으로부터 리스트를 만드는 데 유용하다\n",
    "- 리스트를 반환하는 for 반복문을 한 줄에 작성하는 방식이다"
   ]
  },
  {
   "cell_type": "markdown",
   "metadata": {},
   "source": [
    "- 리스트 내장을 이용하여 0부터 9까지 수의 제곱 값을 가지는 리스트를 만들 수 있다"
   ]
  },
  {
   "cell_type": "code",
   "execution_count": null,
   "metadata": {},
   "outputs": [],
   "source": [
    "L = [k * k for k in range(10)]\n",
    "print(L)"
   ]
  },
  {
   "cell_type": "markdown",
   "metadata": {},
   "source": [
    "- 위의 코드는 풀어적으면 다음과 같다"
   ]
  },
  {
   "cell_type": "code",
   "execution_count": null,
   "metadata": {},
   "outputs": [],
   "source": [
    "L = [] # 비어있는 리스트 생성\n",
    "for k in range(10):\n",
    "    L.append(k * k)\n",
    "print(L)"
   ]
  },
  {
   "cell_type": "markdown",
   "metadata": {},
   "source": [
    "- 리스트 내장은 일반적은 반복문과 같이 조건(if 문)을 추가할 수 있다\n",
    "    1. 10보다 작은 정수 중 홀수의 제곱만을 반환하는 예시\n",
    "    2. 2의 배수와 3의 배수 중 두 수의 합이 7의 배수가 되는 두 수와 그 두 두의 곱을 반환하는 예시"
   ]
  },
  {
   "cell_type": "code",
   "execution_count": null,
   "metadata": {},
   "outputs": [],
   "source": [
    "L = [k * k for k in range(10) if k % 2 == 1]\n",
    "print(L)"
   ]
  },
  {
   "cell_type": "code",
   "execution_count": null,
   "metadata": {},
   "outputs": [],
   "source": [
    "L = [(i, j, i * j) for i in range(2, 20, 2) for j in range(3, 20, 3) if (i + j) % 7 == 0]\n",
    "print(L)"
   ]
  }
 ],
 "metadata": {
  "kernelspec": {
   "display_name": "Python 3",
   "language": "python",
   "name": "python3"
  },
  "language_info": {
   "codemirror_mode": {
    "name": "ipython",
    "version": 3
   },
   "file_extension": ".py",
   "mimetype": "text/x-python",
   "name": "python",
   "nbconvert_exporter": "python",
   "pygments_lexer": "ipython3",
   "version": "3.6.8"
  }
 },
 "nbformat": 4,
 "nbformat_minor": 4
}
