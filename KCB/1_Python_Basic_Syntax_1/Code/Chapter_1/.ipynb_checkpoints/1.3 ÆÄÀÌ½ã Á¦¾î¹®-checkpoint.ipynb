{
 "cells": [
  {
   "cell_type": "markdown",
   "metadata": {},
   "source": [
    "# __파이썬 제어문__"
   ]
  },
  {
   "cell_type": "markdown",
   "metadata": {},
   "source": [
    "## 1. __if 문__\n",
    "가장 널리 사용되는 조건문으로 특정 조건에 맞으면 코드를 실행하고 그렇지 않으면 건너뛴다 <br>\n",
    "아래의 예시가 가장 일반적인 형식:<br>\n",
    "if <조건식1>:<br>\n",
    "&nbsp;&nbsp;&nbsp;&nbsp;<문1> <br>\n",
    "elif <조건식2>:<br>\n",
    "    &nbsp;&nbsp;&nbsp;&nbsp;<문2> <br>\n",
    "else:<br>\n",
    "    &nbsp;&nbsp;&nbsp;&nbsp;<문3> <br>\n",
    "\n",
    "위의 과정에서 <조건식1>이 참일경우 <문1>이 실행, <조건식2>가 참일 경우 <문2>가 실행, 그리고 <조건식1>과 <조건식2>가 모두 거짓일 경우에는 <문3>이 실행 된다\n",
    "(들여쓰기에 주의하세요!)"
   ]
  },
  {
   "cell_type": "markdown",
   "metadata": {},
   "source": [
    "#### 예시1 - if"
   ]
  },
  {
   "cell_type": "code",
   "execution_count": null,
   "metadata": {},
   "outputs": [],
   "source": [
    "score = 90\n",
    "if score >= 90:\n",
    "    print(\"축하합니다\")"
   ]
  },
  {
   "cell_type": "markdown",
   "metadata": {},
   "source": [
    "#### 예시2 - if ~ else"
   ]
  },
  {
   "cell_type": "code",
   "execution_count": null,
   "metadata": {},
   "outputs": [],
   "source": [
    "score = 80\n",
    "if score >= 90:\n",
    "    print(\"축하합니다\")\n",
    "else:\n",
    "    print(\"노력하세요\")"
   ]
  },
  {
   "cell_type": "markdown",
   "metadata": {},
   "source": [
    "#### 예시3 - if ~ elif ~ else"
   ]
  },
  {
   "cell_type": "code",
   "execution_count": null,
   "metadata": {},
   "outputs": [],
   "source": [
    "score = 80\n",
    "if score >= 90:\n",
    "    print(\"축하합니다\")\n",
    "elif score >= 80:\n",
    "    print(\"노력하세요\")\n",
    "else:\n",
    "    print(\"분발하세요\")"
   ]
  },
  {
   "cell_type": "markdown",
   "metadata": {},
   "source": [
    "## 2. __for 문__\n",
    "가장 많이 사용하는 반복문이며 형식은 다음과 같다: <br>\n",
    "for <타겟> in <객체>: <br>\n",
    "&nbsp;&nbsp;&nbsp;&nbsp;<문1> <br>\n",
    "<객체>의 각 항목이 <타겟>으로 치환되어 <문1>을 실행 <br>\n",
    "<타겟>은 변수의 이름과 같이 작성자가 편의대로 지정 가능"
   ]
  },
  {
   "cell_type": "code",
   "execution_count": null,
   "metadata": {},
   "outputs": [],
   "source": [
    "a = ['cat', 'cow', 'tiger']\n",
    "for name in a:\n",
    "    print(len(name), name)"
   ]
  },
  {
   "cell_type": "markdown",
   "metadata": {},
   "source": [
    "순차적으로 <b>숫자</b>를 반복하는 경우에는 range()함수를 사용한다 <br>\n",
    "range()함수는 0부터 함수의 input의 수만큼의 범위를 가진다"
   ]
  },
  {
   "cell_type": "code",
   "execution_count": null,
   "metadata": {},
   "outputs": [],
   "source": [
    "list(range(10))"
   ]
  },
  {
   "cell_type": "code",
   "execution_count": null,
   "metadata": {},
   "outputs": [],
   "source": [
    "for i in range(10):\n",
    "    print(i * 2)"
   ]
  },
  {
   "cell_type": "markdown",
   "metadata": {},
   "source": [
    "for문의 반복을 멈추려면 'break'를 사용한다"
   ]
  },
  {
   "cell_type": "code",
   "execution_count": null,
   "metadata": {},
   "outputs": [],
   "source": [
    "for i in range(10):\n",
    "    print(i * 2)\n",
    "    if i == 3:\n",
    "        break"
   ]
  }
 ],
 "metadata": {
  "kernelspec": {
   "display_name": "Python 3",
   "language": "python",
   "name": "python3"
  },
  "language_info": {
   "codemirror_mode": {
    "name": "ipython",
    "version": 3
   },
   "file_extension": ".py",
   "mimetype": "text/x-python",
   "name": "python",
   "nbconvert_exporter": "python",
   "pygments_lexer": "ipython3",
   "version": "3.6.4"
  }
 },
 "nbformat": 4,
 "nbformat_minor": 2
}
