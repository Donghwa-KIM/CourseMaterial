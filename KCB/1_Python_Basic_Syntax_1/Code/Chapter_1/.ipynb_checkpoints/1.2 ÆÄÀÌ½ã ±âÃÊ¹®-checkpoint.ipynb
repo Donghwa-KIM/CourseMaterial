{
 "cells": [
  {
   "cell_type": "markdown",
   "metadata": {},
   "source": [
    "# __파이썬 기초문__\n",
    "---"
   ]
  },
  {
   "cell_type": "markdown",
   "metadata": {},
   "source": [
    "### -__주석__\n",
    "#### 코드 내에 하는 메모로 파일 실행시 프로그램에서 읽지 않는 부분이다"
   ]
  },
  {
   "cell_type": "code",
   "execution_count": null,
   "metadata": {},
   "outputs": [],
   "source": [
    "# 샵을 적은 후에 한 칸 띄우고 글을 적으면 주석이 된다\n",
    "print('이 줄은 프린트가 되지만')\n",
    "# print('이 줄은 프린트가 되지 않는다')"
   ]
  },
  {
   "cell_type": "markdown",
   "metadata": {},
   "source": [
    "### -__여러줄에 코딩 하기__\n",
    "#### 라인이 길어져 줄을 나누어야 할 경우 '\\\\'를 사용하면 여러 줄을 한 줄의 라인으로 인식한다"
   ]
  },
  {
   "cell_type": "code",
   "execution_count": null,
   "metadata": {},
   "outputs": [],
   "source": [
    "a, b = 1, 3\n",
    "if (a==1) and \n",
    "    (b==3):\n",
    "        print(a + b)"
   ]
  },
  {
   "cell_type": "code",
   "execution_count": null,
   "metadata": {},
   "outputs": [],
   "source": [
    "a, b = 1, 3\n",
    "if (a==1) and \\\n",
    "    (b==3):\n",
    "        print(a + b)"
   ]
  },
  {
   "cell_type": "markdown",
   "metadata": {},
   "source": [
    "### -__변수에 값 할당하기__\n",
    "#### 파이썬에서는 '='를 통하여 변수에 원하는 값을 할당할 수 있다\n",
    "#### 등호와는 다른 개념으로 엄밀히 말해 '<-'를 사용하는 것이 맞으나 귀찮기 때문에 그냥 등호를 사용한다"
   ]
  },
  {
   "cell_type": "code",
   "execution_count": null,
   "metadata": {},
   "outputs": [],
   "source": [
    "a = 3\n",
    "print(a)"
   ]
  },
  {
   "cell_type": "markdown",
   "metadata": {},
   "source": [
    "### 변수에 할당된 값이 있는 경우에 새로운 값을 할당하면 새로운 값만 남는다"
   ]
  },
  {
   "cell_type": "code",
   "execution_count": null,
   "metadata": {},
   "outputs": [],
   "source": [
    "a = 7\n",
    "print(a)"
   ]
  },
  {
   "cell_type": "markdown",
   "metadata": {},
   "source": [
    "### -__출력__"
   ]
  },
  {
   "cell_type": "markdown",
   "metadata": {},
   "source": [
    "#### 가장 기본적으로 사용하는 print() 함수는 여러 값을 쉼표(,)로 구분할 수 있다"
   ]
  },
  {
   "cell_type": "code",
   "execution_count": null,
   "metadata": {},
   "outputs": [],
   "source": [
    "print('add :', 4 + 5, 'sub : ', 4 - 2)"
   ]
  },
  {
   "cell_type": "markdown",
   "metadata": {},
   "source": [
    "#### format() 메서드를 활용하여 출력하고자 하는 변수를 보다 깔끔하게 정리할 수 있다\n",
    "#### 'string1 {1}, string2 {2}{3}'.format({1},{2},{3})"
   ]
  },
  {
   "cell_type": "code",
   "execution_count": null,
   "metadata": {},
   "outputs": [],
   "source": [
    "'Name : {}, Phone : {}'.format('Seo', 1234)"
   ]
  },
  {
   "cell_type": "markdown",
   "metadata": {},
   "source": [
    "#### format()에서 자릿수를 고정하고 싶으면 (loss 출력과 같은 상황에서) 다음과 같이 ':'을 사용한다"
   ]
  },
  {
   "cell_type": "code",
   "execution_count": null,
   "metadata": {},
   "outputs": [],
   "source": [
    "import math\n",
    "print('sqrt({})={:.3f}'.format(2, math.sqrt(2)))\n",
    "print('sqrt({})={:.4f}'.format(2, math.sqrt(2)))"
   ]
  },
  {
   "cell_type": "markdown",
   "metadata": {},
   "source": [
    "#### pprint를 사용하면 보다 깔끔하게 결과물을 출력할 수 있다"
   ]
  },
  {
   "cell_type": "code",
   "execution_count": null,
   "metadata": {},
   "outputs": [],
   "source": [
    "import pprint\n",
    "complicated = ['spam', (1, 2, 3), ('ham', 'egg', ('ab', 'cd', ('abc', 'def')))]\n",
    "complicated = complicated * 3"
   ]
  },
  {
   "cell_type": "code",
   "execution_count": null,
   "metadata": {},
   "outputs": [],
   "source": [
    "print(complicated)"
   ]
  },
  {
   "cell_type": "code",
   "execution_count": null,
   "metadata": {},
   "outputs": [],
   "source": [
    "pprint.pprint(complicated)"
   ]
  }
 ],
 "metadata": {
  "kernelspec": {
   "display_name": "Python 3",
   "language": "python",
   "name": "python3"
  },
  "language_info": {
   "codemirror_mode": {
    "name": "ipython",
    "version": 3
   },
   "file_extension": ".py",
   "mimetype": "text/x-python",
   "name": "python",
   "nbconvert_exporter": "python",
   "pygments_lexer": "ipython3",
   "version": "3.6.4"
  }
 },
 "nbformat": 4,
 "nbformat_minor": 2
}
