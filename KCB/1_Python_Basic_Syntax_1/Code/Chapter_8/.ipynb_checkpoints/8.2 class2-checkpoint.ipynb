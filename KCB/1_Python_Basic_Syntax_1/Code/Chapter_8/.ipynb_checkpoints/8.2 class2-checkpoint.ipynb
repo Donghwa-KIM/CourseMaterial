{
 "cells": [
  {
   "cell_type": "markdown",
   "metadata": {},
   "source": [
    "# 클래스 형태\n",
    "    - class [class_name]: 을 헤더라 부른다\n",
    "    - 내용을 담고 있는 부분은 몸체라 부르고 함수와 같이 들여쓰기가 필수이다"
   ]
  },
  {
   "cell_type": "markdown",
   "metadata": {},
   "source": [
    "## __인스턴스 객체의 생성__"
   ]
  },
  {
   "cell_type": "markdown",
   "metadata": {},
   "source": [
    "비어있는 class Simple을 생성해보자"
   ]
  },
  {
   "cell_type": "code",
   "execution_count": null,
   "metadata": {},
   "outputs": [],
   "source": [
    "class Simple:\n",
    "    pass\n",
    "print(Simple)"
   ]
  },
  {
   "cell_type": "markdown",
   "metadata": {},
   "source": [
    "클래스의 인스턴스 객체를 생성해 보자"
   ]
  },
  {
   "cell_type": "code",
   "execution_count": null,
   "metadata": {},
   "outputs": [],
   "source": [
    "s1 = Simple()\n",
    "s2 = Simple()\n",
    "print(s1, s2)"
   ]
  },
  {
   "cell_type": "markdown",
   "metadata": {},
   "source": [
    "인스턴스 객체는 독립적인 이름 공간을 갖는다"
   ]
  },
  {
   "cell_type": "code",
   "execution_count": null,
   "metadata": {},
   "outputs": [],
   "source": [
    "s1.stack = []\n",
    "s1.stack.append(1)\n",
    "s1.stack.append(2)\n",
    "s1.stack.append(3)\n",
    "print(s1.stack)"
   ]
  },
  {
   "cell_type": "code",
   "execution_count": null,
   "metadata": {},
   "outputs": [],
   "source": [
    "s1.stack.pop()"
   ]
  },
  {
   "cell_type": "code",
   "execution_count": null,
   "metadata": {},
   "outputs": [],
   "source": [
    "print(s1.stack)"
   ]
  },
  {
   "cell_type": "code",
   "execution_count": null,
   "metadata": {},
   "outputs": [],
   "source": [
    "print(s2.stack)"
   ]
  },
  {
   "cell_type": "code",
   "execution_count": null,
   "metadata": {},
   "outputs": [],
   "source": [
    "class Stack:\n",
    "    stack = []\n",
    "print(Simple)"
   ]
  },
  {
   "cell_type": "code",
   "execution_count": null,
   "metadata": {},
   "outputs": [],
   "source": [
    "s1 = Stack()\n",
    "s2 = Stack()\n",
    "print(s1, s2)"
   ]
  },
  {
   "cell_type": "code",
   "execution_count": null,
   "metadata": {},
   "outputs": [],
   "source": [
    "s2.stack2 = []\n",
    "s2.stack2.append(1)\n",
    "s2.stack2.append(2)\n",
    "s2.stack2.append(3)\n",
    "print(s2.stack)\n",
    "print(s2.stack2)"
   ]
  },
  {
   "cell_type": "code",
   "execution_count": null,
   "metadata": {},
   "outputs": [],
   "source": [
    "print(s1.stack)"
   ]
  },
  {
   "cell_type": "code",
   "execution_count": null,
   "metadata": {},
   "outputs": [],
   "source": [
    "print(s1.stack2)"
   ]
  },
  {
   "cell_type": "markdown",
   "metadata": {},
   "source": [
    "## __메서드의 정의와 호출__\n",
    "    - 지금까지 class 외부에서 멤버를 생성하고 사용하는 방법을 알아보았다\n",
    "    - 지금부터 class 내부에서 멤버를 생성하고 사용하는 방법을 살펴보자\n",
    "    - 메서드를 정의하는 방법은 일반 함수를 정의하는 것과 동일하다\n",
    "    - 다만 일반 함수와 다른 특수한 인수를 가지는데 관례상 self란 이름을 지어준다\n",
    "    - 이 특수한 인수는 해당 클래스의 인스턴스 객체여야만 한다"
   ]
  },
  {
   "cell_type": "markdown",
   "metadata": {},
   "source": [
    "예제 클래스 생성"
   ]
  },
  {
   "cell_type": "code",
   "execution_count": null,
   "metadata": {},
   "outputs": [],
   "source": [
    "class MyClass:\n",
    "    def set(self, v):\n",
    "        self.value = v\n",
    "    def get(self):\n",
    "        return self.value"
   ]
  },
  {
   "cell_type": "markdown",
   "metadata": {},
   "source": [
    "메서드를 호출하는 첫 번째 방법 - 언바운드 메서드 호출(많이 사용하지 않습니다)"
   ]
  },
  {
   "cell_type": "code",
   "execution_count": null,
   "metadata": {},
   "outputs": [],
   "source": [
    "c = MyClass()\n",
    "MyClass.set"
   ]
  },
  {
   "cell_type": "code",
   "execution_count": null,
   "metadata": {},
   "outputs": [],
   "source": [
    "MyClass.set(c, 'egg')"
   ]
  },
  {
   "cell_type": "code",
   "execution_count": null,
   "metadata": {},
   "outputs": [],
   "source": [
    "get_value = MyClass.get(c)\n",
    "print(get_value)"
   ]
  },
  {
   "cell_type": "markdown",
   "metadata": {},
   "source": [
    "메서드를 호출하는 두 번째 방법 - 바운드 메서드 호출(일반적인 방법)"
   ]
  },
  {
   "cell_type": "code",
   "execution_count": null,
   "metadata": {},
   "outputs": [],
   "source": [
    "c = MyClass()\n",
    "print(c)"
   ]
  },
  {
   "cell_type": "code",
   "execution_count": null,
   "metadata": {},
   "outputs": [],
   "source": [
    "c.set"
   ]
  },
  {
   "cell_type": "code",
   "execution_count": null,
   "metadata": {},
   "outputs": [],
   "source": [
    "c.set('egg')"
   ]
  },
  {
   "cell_type": "code",
   "execution_count": null,
   "metadata": {},
   "outputs": [],
   "source": [
    "get_value = c.get()\n",
    "print(get_value)"
   ]
  },
  {
   "cell_type": "markdown",
   "metadata": {},
   "source": [
    "## __class 내부에서의 메서드 호출__\n",
    "    - 클래스 내부에서 인스턴스 멤버나 클래스 메서드를 호출할 때는 인수 self를 이용해야 한다"
   ]
  },
  {
   "cell_type": "code",
   "execution_count": null,
   "metadata": {},
   "outputs": [],
   "source": [
    "class MyClass2:\n",
    "    def set(self, v):\n",
    "        self.value = v\n",
    "    def get(self):\n",
    "        return self.value\n",
    "    def incr(self):\n",
    "        self.value += 1\n",
    "        return self.get()"
   ]
  },
  {
   "cell_type": "code",
   "execution_count": null,
   "metadata": {},
   "outputs": [],
   "source": [
    "c = MyClass2()\n",
    "c.set(3)\n",
    "add_value = c.incr()\n",
    "print(add_value)\n",
    "\n",
    "# self.value는 c에 정의된 value라는 variable임\n",
    "print(c.value)"
   ]
  },
  {
   "cell_type": "markdown",
   "metadata": {},
   "source": [
    "self를 사용하지 않는다면 클래스 외부에서 해당 메서드를 찾는다"
   ]
  },
  {
   "cell_type": "code",
   "execution_count": null,
   "metadata": {},
   "outputs": [],
   "source": [
    "class MyClass3:\n",
    "    def set(self, v):\n",
    "        self.value = v\n",
    "    def get(self):\n",
    "        return self.value\n",
    "    def incr(self):\n",
    "        self.value += 1\n",
    "        return get()"
   ]
  },
  {
   "cell_type": "code",
   "execution_count": null,
   "metadata": {},
   "outputs": [],
   "source": [
    "c = MyClass3()\n",
    "c.set(3)\n",
    "add_value = c.incr()\n",
    "print(add_value)"
   ]
  },
  {
   "cell_type": "markdown",
   "metadata": {},
   "source": [
    "## __생성자__\n",
    "    - 생성자 함수의 이름은 __init__ 이다\n",
    "    - 생성자는 인스턴스 객체가 생성되고 나서 자동으로 호출된다\n",
    "   "
   ]
  },
  {
   "cell_type": "markdown",
   "metadata": {},
   "source": [
    "value 값을 0으로 지정하는 생성자를 가진 함수 예시"
   ]
  },
  {
   "cell_type": "code",
   "execution_count": null,
   "metadata": {},
   "outputs": [],
   "source": [
    "class MyClass4:\n",
    "    def __init__(self):\n",
    "        self.value = 5\n",
    "    def set(self, v):\n",
    "        self.value = v\n",
    "    def get(self):\n",
    "        return self.value"
   ]
  },
  {
   "cell_type": "code",
   "execution_count": null,
   "metadata": {},
   "outputs": [],
   "source": [
    "c = MyClass4()"
   ]
  },
  {
   "cell_type": "code",
   "execution_count": null,
   "metadata": {},
   "outputs": [],
   "source": [
    "get_value = c.get()\n",
    "print(get_value)"
   ]
  },
  {
   "cell_type": "code",
   "execution_count": null,
   "metadata": {},
   "outputs": [],
   "source": [
    "c.set(3)\n",
    "print(c.get())\n",
    "\n",
    "# self.value는 c에 정의된 value라는 variable임\n",
    "print(c.value)"
   ]
  },
  {
   "cell_type": "markdown",
   "metadata": {},
   "source": [
    "## __함수 예시__"
   ]
  },
  {
   "cell_type": "code",
   "execution_count": null,
   "metadata": {},
   "outputs": [],
   "source": [
    "class Member:\n",
    "    def __init__(self, name, nick, birthday):\n",
    "        self.name = name\n",
    "        self.nick = nick\n",
    "        self.birthday = birthday\n",
    "    def getName(self):\n",
    "        return self.name\n",
    "    def getNick(self):\n",
    "        return self.nick\n",
    "    def getBirthday(self):\n",
    "        return self.birthday"
   ]
  },
  {
   "cell_type": "code",
   "execution_count": null,
   "metadata": {},
   "outputs": [],
   "source": [
    "m1 = Member('이름', '별명', '11.11.11')"
   ]
  },
  {
   "cell_type": "code",
   "execution_count": null,
   "metadata": {},
   "outputs": [],
   "source": [
    "m1.getName()"
   ]
  },
  {
   "cell_type": "code",
   "execution_count": null,
   "metadata": {},
   "outputs": [],
   "source": [
    "m1.getNick()"
   ]
  },
  {
   "cell_type": "code",
   "execution_count": null,
   "metadata": {},
   "outputs": [],
   "source": [
    "m1.getBirthday()"
   ]
  }
 ],
 "metadata": {
  "kernelspec": {
   "display_name": "Python 3",
   "language": "python",
   "name": "python3"
  },
  "language_info": {
   "codemirror_mode": {
    "name": "ipython",
    "version": 3
   },
   "file_extension": ".py",
   "mimetype": "text/x-python",
   "name": "python",
   "nbconvert_exporter": "python",
   "pygments_lexer": "ipython3",
   "version": "3.6.8"
  }
 },
 "nbformat": 4,
 "nbformat_minor": 4
}
