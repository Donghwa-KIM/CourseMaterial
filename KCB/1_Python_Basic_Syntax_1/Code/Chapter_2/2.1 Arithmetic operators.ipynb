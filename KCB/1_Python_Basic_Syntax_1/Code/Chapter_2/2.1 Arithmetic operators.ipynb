{
 "cells": [
  {
   "cell_type": "markdown",
   "metadata": {},
   "source": [
    "# *__산술 연산자__\n",
    "- 파이썬은 기본적으로 덧셈, 뺄셈, 곱셈, 나눗셈, 몫, 지수, 나머지 등의 연산자를 가지고 있다\n",
    "- 연산 순서는 일반적인 사칙연산 순서와 같다"
   ]
  },
  {
   "cell_type": "markdown",
   "metadata": {},
   "source": [
    "- 덧셈"
   ]
  },
  {
   "cell_type": "code",
   "execution_count": null,
   "metadata": {},
   "outputs": [],
   "source": [
    "1 + 2"
   ]
  },
  {
   "cell_type": "markdown",
   "metadata": {},
   "source": [
    "- 뺄셈\n"
   ]
  },
  {
   "cell_type": "code",
   "execution_count": null,
   "metadata": {},
   "outputs": [],
   "source": [
    "1 - 3"
   ]
  },
  {
   "cell_type": "markdown",
   "metadata": {},
   "source": [
    "- 나눗셈\n",
    "    - 나눗셈은 항상 부동 소수점의 결과를 얻는다\n",
    "    - 몫만 취할 경우 //를 사용한다\n",
    "    - 나머지를 구할때는 %를 사용한다"
   ]
  },
  {
   "cell_type": "code",
   "execution_count": null,
   "metadata": {},
   "outputs": [],
   "source": [
    "print(1 / 3) # 일반 나눗셈\n",
    "print(5 // 2) # 몫\n",
    "print(5 % 2) # 나머지"
   ]
  },
  {
   "cell_type": "markdown",
   "metadata": {},
   "source": [
    "- 곱셈"
   ]
  },
  {
   "cell_type": "code",
   "execution_count": null,
   "metadata": {},
   "outputs": [],
   "source": [
    "3 * 3"
   ]
  },
  {
   "cell_type": "markdown",
   "metadata": {},
   "source": [
    "---\n",
    "# *__관계 연산자__\n",
    "- 객체의 대소를 비교하는 연산을 관게 연산이라고 한다 <br>\n",
    "- 값을 서로 비교하는 연산자로는 '=='를 사용하며 '='와 혼동하기 쉽다"
   ]
  },
  {
   "cell_type": "code",
   "execution_count": null,
   "metadata": {},
   "outputs": [],
   "source": [
    "print(6 == 9)\n",
    "print(6 != 9)\n",
    "print(1 >= 3)"
   ]
  },
  {
   "cell_type": "code",
   "execution_count": null,
   "metadata": {},
   "outputs": [],
   "source": [
    "a, b = 3, 5\n",
    "a < b"
   ]
  },
  {
   "cell_type": "markdown",
   "metadata": {},
   "source": [
    "- 객체 간 크기 비교\n",
    "    - 객체간 크기 비교는 가장 앞에서부터 하나씩 비교하며 결과가 결정되는 순간 비교를 중단한다"
   ]
  },
  {
   "cell_type": "code",
   "execution_count": null,
   "metadata": {},
   "outputs": [],
   "source": [
    "print('abcd' > 'abd')\n",
    "print([2, 1, 4] > [1, 2, 4])"
   ]
  },
  {
   "cell_type": "markdown",
   "metadata": {},
   "source": [
    "---\n",
    "# *__논리 연산자__"
   ]
  },
  {
   "cell_type": "code",
   "execution_count": null,
   "metadata": {},
   "outputs": [],
   "source": [
    "a, b = 20, 30\n",
    "a > 10 and b < 50"
   ]
  },
  {
   "cell_type": "markdown",
   "metadata": {},
   "source": [
    "- 객체의 진릿값\n",
    "    - 파이썬은 진릿값의 결과로 참이면 True, 거짓이면 False를 반환한다\n",
    "    - 내부적으로 True는 1, False는 0의 값을 가진다"
   ]
  },
  {
   "cell_type": "code",
   "execution_count": null,
   "metadata": {},
   "outputs": [],
   "source": [
    "print(True + 1)\n",
    "print(False + 1)"
   ]
  },
  {
   "cell_type": "markdown",
   "metadata": {},
   "source": [
    "- 객체의 진릿값 판단하기\n",
    "    - any()와 all()을 사용하여 판단 가능"
   ]
  },
  {
   "cell_type": "code",
   "execution_count": null,
   "metadata": {},
   "outputs": [],
   "source": [
    "true = [True, True, True]\n",
    "true_false = [True, True, True, False]\n",
    "\n",
    "print(all(true))\n",
    "print(all(true_false))"
   ]
  },
  {
   "cell_type": "code",
   "execution_count": null,
   "metadata": {},
   "outputs": [],
   "source": [
    "true = [True, True, True]\n",
    "true_false = [True, True, True, False]\n",
    "\n",
    "print(any(true))\n",
    "print(any(true_false))"
   ]
  },
  {
   "cell_type": "markdown",
   "metadata": {},
   "source": [
    "---\n",
    "# *__수치 연산 함수__"
   ]
  },
  {
   "cell_type": "markdown",
   "metadata": {},
   "source": [
    "\n",
    "| 함수                         | 설명                     |\n",
    "|------------------------------|--------------------------|\n",
    "| abs(x)                       | x의 절댓값을 구한다      |\n",
    "| int(x)                       | x를 정수형으로 변환한다  |\n",
    "| float(x)                     | x를 실수형으로 변환한다  |\n",
    "| max(iterable), min(iterable) | 최댓값과 최솟값을 구한다 |\n",
    "| sum(iterable)                | 합을 구한다              |"
   ]
  },
  {
   "cell_type": "code",
   "execution_count": null,
   "metadata": {},
   "outputs": [],
   "source": [
    "print('abs(-3) : ',abs(-3))\n",
    "print('int(3.14) : ',int(3.14))\n",
    "print('float(3) : ',float(3))\n",
    "print('max : ',max([1,2,3,4,5]), ' ,min : ',min([1,2,3,4,5]))\n",
    "print('sum : ',sum([1,2,3,4,5]))"
   ]
  },
  {
   "cell_type": "markdown",
   "metadata": {},
   "source": [
    "---\n",
    "# *__math 모듈 사용하기__\n",
    "위의 내장 함수로 부족할 경우에는 math 모듈을 통하여 다양한 수식을 계산할 수 있다"
   ]
  },
  {
   "cell_type": "code",
   "execution_count": null,
   "metadata": {},
   "outputs": [],
   "source": [
    "import math\n",
    "\n",
    "print('파이 : ', math.pi)\n",
    "print('제곱근 : ', math.sqrt(2))\n",
    "print('사인 : ', math.sin(2))"
   ]
  }
 ],
 "metadata": {
  "kernelspec": {
   "display_name": "Python 3",
   "language": "python",
   "name": "python3"
  },
  "language_info": {
   "codemirror_mode": {
    "name": "ipython",
    "version": 3
   },
   "file_extension": ".py",
   "mimetype": "text/x-python",
   "name": "python",
   "nbconvert_exporter": "python",
   "pygments_lexer": "ipython3",
   "version": "3.6.8"
  }
 },
 "nbformat": 4,
 "nbformat_minor": 4
}
