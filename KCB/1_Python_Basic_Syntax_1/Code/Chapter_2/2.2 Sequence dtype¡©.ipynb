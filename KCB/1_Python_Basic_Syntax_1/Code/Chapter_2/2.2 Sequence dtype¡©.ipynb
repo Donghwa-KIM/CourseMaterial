{
 "cells": [
  {
   "cell_type": "markdown",
   "metadata": {},
   "source": [
    "# *__시퀀스 자료형__\n",
    "- __시퀀스 자료형__\n",
    "    - 시퀀스 자료형은 여러 객체를 저장하는 자료형으로 각 객체는 순서를 가진다\n",
    "    - 각 요소는 인덱스를 사용하여 참조할 수 있다\n",
    "    - 대표적인 시퀀스 자료형에는 문자열, 리스트, 튜플이 있다\n",
    "    "
   ]
  },
  {
   "cell_type": "code",
   "execution_count": null,
   "metadata": {},
   "outputs": [],
   "source": [
    "s = '가나다라마바사'             # 문자열\n",
    "L = [1, 2, 3]                 # 리스트\n",
    "t = ('이것이', 'tuple', 0, 1)  # 튜플"
   ]
  },
  {
   "cell_type": "markdown",
   "metadata": {},
   "source": [
    "- 시퀀스 자료형이 가지고 있는 특성은 다음과 같다"
   ]
  },
  {
   "cell_type": "markdown",
   "metadata": {},
   "source": [
    "| 구분      | 연산              | 설명                                                      |\n",
    "|-----------|-------------------|-----------------------------------------------------------|\n",
    "| 인덱싱    | [k] 형식          | k번 위치의 값 하나를 취한다                               |\n",
    "| 슬라이싱  | [s:t:p] 형식      | s부터 t사이 구간의 값을 p 간격으로 취한다                 |\n",
    "| 연결하기  | + 연산자          | 두 시퀀스형 데이터를 붙인다                               |\n",
    "| 반복하기  | * 연산자          | 시퀀스형 데이터를 여러 번 반복하여 새로운 데이터를 만든다 |\n",
    "| 멤버 검사 | in 연산자         | 어떤 값이 시퀀스 자료형에 속하는지를 검사한다               |\n",
    "| 길이 정보 | len() - 내장 함수 | 시퀀스형 데이터의 크기를 나타낸다                         |"
   ]
  },
  {
   "cell_type": "markdown",
   "metadata": {},
   "source": [
    "- 인덱싱\n",
    "    - 파이썬에서 인덱스의 시작은 1 이 아닌 0 이다"
   ]
  },
  {
   "cell_type": "code",
   "execution_count": null,
   "metadata": {},
   "outputs": [],
   "source": [
    "s = 'abcdef'\n",
    "print(s[0])\n",
    "print(s[3])\n",
    "print(s[-1])\n",
    "print(s[10])"
   ]
  },
  {
   "cell_type": "markdown",
   "metadata": {},
   "source": [
    "- 슬라이싱\n",
    "    - 슬라이싱은 일정 영역의 객체를 반환한다"
   ]
  },
  {
   "cell_type": "code",
   "execution_count": null,
   "metadata": {},
   "outputs": [],
   "source": [
    "s = 'abcdef'\n",
    "print(s[1:3])\n",
    "print(s[1:])\n",
    "print(s[:])"
   ]
  },
  {
   "cell_type": "markdown",
   "metadata": {},
   "source": [
    "    - 왜 s[1:3]에서 bcd가 아니라 bc가 출력되는가"
   ]
  },
  {
   "cell_type": "code",
   "execution_count": null,
   "metadata": {},
   "outputs": [],
   "source": [
    "print(s[1:3])\n",
    "print(s[3:5])\n",
    "print(s[5:7])"
   ]
  },
  {
   "cell_type": "markdown",
   "metadata": {},
   "source": [
    "- 연결하기\n",
    "    - '같은' 시퀀스 자료형인 두 객체를 연결하는 것\n",
    "    - \\+ 연산자를 이용함"
   ]
  },
  {
   "cell_type": "code",
   "execution_count": null,
   "metadata": {},
   "outputs": [],
   "source": [
    "s1 = 'abc'\n",
    "s2 = 'xyz'\n",
    "print(s1 + s2)"
   ]
  },
  {
   "cell_type": "markdown",
   "metadata": {},
   "source": [
    "- 슬라이싱과 연결하기를 사용하여 다음과 같이 활용할 수 있다\n",
    "    - 아래의 예제에서 확인할 수 있듯이 문자열의 슬라이싱에는 공백이 포함된다"
   ]
  },
  {
   "cell_type": "code",
   "execution_count": null,
   "metadata": {},
   "outputs": [],
   "source": [
    "s = 'spam and egg'\n",
    "s1 = s[:5] + 'cheese ' + s[5:]\n",
    "print(s1)"
   ]
  },
  {
   "cell_type": "markdown",
   "metadata": {},
   "source": [
    "- 반복하기\n",
    "    - 반복하기는 시퀀스 자료형인 객체를 여러 번 반복하여 붙이는 것\n",
    "    - \\* 연산자를 이용함"
   ]
  },
  {
   "cell_type": "code",
   "execution_count": null,
   "metadata": {},
   "outputs": [],
   "source": [
    "s1 = 'abc'\n",
    "s2 = s1 * 5\n",
    "print(s2)"
   ]
  },
  {
   "cell_type": "markdown",
   "metadata": {},
   "source": [
    "- 멤버 검사\n",
    "    - 어떤 객체가 시퀀스 자료형인 객체에 포함 되는지 아닌지를 판별\n",
    "    - 반환값은 True, False가 나옴\n",
    "    - 'in'을 이용함"
   ]
  },
  {
   "cell_type": "code",
   "execution_count": null,
   "metadata": {},
   "outputs": [],
   "source": [
    "'파' in '파이썬'"
   ]
  },
  {
   "cell_type": "code",
   "execution_count": null,
   "metadata": {},
   "outputs": [],
   "source": [
    "t = (1, 2, 3, 4, 5)\n",
    "2 in t"
   ]
  },
  {
   "cell_type": "markdown",
   "metadata": {},
   "source": [
    "- 길이 정보\n",
    "    - 시퀀스형 객체 안에 있는 전체 요소의 개수를 얻을 수 있다\n",
    "    - len() 함수를 이용"
   ]
  },
  {
   "cell_type": "code",
   "execution_count": null,
   "metadata": {},
   "outputs": [],
   "source": [
    "s = 'abcdef'\n",
    "len(s)"
   ]
  },
  {
   "cell_type": "markdown",
   "metadata": {},
   "source": [
    "---\n",
    "# *__문자열__"
   ]
  },
  {
   "cell_type": "code",
   "execution_count": null,
   "metadata": {},
   "outputs": [],
   "source": [
    "s = ''                                     # 빈 문자열\n",
    "s1 = 'Python is great!'                    # ''를 통한 정의\n",
    "s2 = \"What's the problem\"                  # \"\"를 통한 정의\n",
    "\n",
    "print(s2)"
   ]
  },
  {
   "cell_type": "code",
   "execution_count": null,
   "metadata": {},
   "outputs": [],
   "source": [
    "s2 = 'What's the problem'\n",
    "print(s2)"
   ]
  },
  {
   "cell_type": "code",
   "execution_count": null,
   "metadata": {},
   "outputs": [],
   "source": [
    "s2 = 'What\\'s the problem'\n",
    "print(s2)"
   ]
  },
  {
   "cell_type": "markdown",
   "metadata": {},
   "source": [
    "- 문자열 메서드\n",
    "    - 대문자 : 문자열.upper()\n",
    "    - 소문자 : 문자열.lower()\n",
    "    - 횟수 : 문자열.count(규칙)\n",
    "    - 탐색 : 문자열.find(규칙)\n",
    "    - 분리 : 문자열.split(규칙)\n",
    "    - 결합 : 규칙.join(iterable)"
   ]
  },
  {
   "cell_type": "code",
   "execution_count": null,
   "metadata": {},
   "outputs": [],
   "source": [
    "s = 'I Like Programming.'\n",
    "print(\"대문자 : \", s.upper())\n",
    "print(\"소문자 : \", s.lower())"
   ]
  },
  {
   "cell_type": "code",
   "execution_count": null,
   "metadata": {},
   "outputs": [],
   "source": [
    "s = 'i like programming, and i like playing'\n",
    "print(\"like가 등장한 횟수 : \", s.count('like'))\n",
    "print(\"like는 몇번째에 등장 했는가 : \", s.find('like'))"
   ]
  },
  {
   "cell_type": "markdown",
   "metadata": {},
   "source": [
    "- find()의 경우에는 찾고자 하는 전체 문자열이 존재할 때, 탐색하는 문자열에서 찾고자 하는 문자열의 첫 번째 문자의 인덱스를 반환한다"
   ]
  },
  {
   "cell_type": "code",
   "execution_count": null,
   "metadata": {},
   "outputs": [],
   "source": [
    "print(\"ike는 몇번째에 등장 했는가 : \", s.find('ike'))\n",
    "print(\"i는 몇번째에 등장 했는가 : \", s.find('i'))"
   ]
  },
  {
   "cell_type": "code",
   "execution_count": null,
   "metadata": {},
   "outputs": [],
   "source": [
    "u = 'spam or ham'\n",
    "print('공백으로 분리 : ', u.split())\n",
    "print('공백으로 분리 : ', u.split(' '))\n",
    "print('or 분리 : ', u.split('or'))"
   ]
  },
  {
   "cell_type": "code",
   "execution_count": null,
   "metadata": {},
   "outputs": [],
   "source": [
    "u = ['spam', 'or', 'ham']\n",
    "print('공백으로 결합 : ', ' '.join(u))\n",
    "print('쉼표로 결합 : ', ','.join(u))\n",
    "print('tab으로 결합 : ', '\\t'.join(u))\n",
    "print('혹은 : ', ', '.join(u))"
   ]
  }
 ],
 "metadata": {
  "kernelspec": {
   "display_name": "Python 3",
   "language": "python",
   "name": "python3"
  },
  "language_info": {
   "codemirror_mode": {
    "name": "ipython",
    "version": 3
   },
   "file_extension": ".py",
   "mimetype": "text/x-python",
   "name": "python",
   "nbconvert_exporter": "python",
   "pygments_lexer": "ipython3",
   "version": "3.6.8"
  }
 },
 "nbformat": 4,
 "nbformat_minor": 4
}
