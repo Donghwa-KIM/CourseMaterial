{
 "cells": [
  {
   "cell_type": "markdown",
   "metadata": {},
   "source": [
    "# **실제 분류 데이터를 활용하여 SVM학습 모델 학습**"
   ]
  },
  {
   "cell_type": "code",
   "execution_count": 1,
   "metadata": {},
   "outputs": [],
   "source": [
    "%matplotlib inline\n",
    "\n",
    "from sklearn.datasets import make_blobs\n",
    "import mglearn\n",
    "from mpl_toolkits.mplot3d import Axes3D, axes3d\n",
    "import numpy as np\n",
    "import pandas as pd\n",
    "import matplotlib\n",
    "import matplotlib.pyplot as plt\n",
    "from matplotlib.colors import Normalize\n",
    "from sklearn.svm import SVC\n",
    "from sklearn.metrics import confusion_matrix, mean_squared_error\n",
    "from sklearn.preprocessing import StandardScaler,normalize\n",
    "from sklearn.model_selection import StratifiedShuffleSplit, GridSearchCV, train_test_split\n",
    "from sklearn.neural_network import MLPClassifier\n",
    "from collections import Counter\n",
    "import matplotlib.cm as cm\n",
    "\n",
    "import warnings\n",
    "warnings.simplefilter(\"ignore\", UserWarning)"
   ]
  },
  {
   "cell_type": "markdown",
   "metadata": {},
   "source": [
    "**wdbc - classification 예제**\n",
    "- Diagnosis \n",
    "    - M = malignant(악성)\n",
    "    - B = benign(양성)"
   ]
  },
  {
   "cell_type": "markdown",
   "metadata": {},
   "source": [
    "- 실제 분류 예제 데이터(wdbc.csv) 를 사용하여 인공신경망 모델과 SVM모델을 비교\n",
    "- 549 row x 31 col으로 구성된 분류데이터\n",
    "- Class의 비율은 약 4:6의 비율을 가짐\n",
    "- 학습데이터를 정규화작업을 거쳐, 학습과 모델 평가를 위해 7:3의 비율로 학습데이터와 평가데이터로 나누어 보도록 보겠습니다."
   ]
  },
  {
   "cell_type": "code",
   "execution_count": 2,
   "metadata": {},
   "outputs": [
    {
     "data": {
      "text/plain": [
       "array([[13.08, 15.71, 85.63, ..., 0.3184, 0.08183, 'M'],\n",
       "       [9.504, 12.44, 60.34, ..., 0.245, 0.07773, 'M'],\n",
       "       [13.03, 18.42, 82.61, ..., 0.1987, 0.061689999999999995, 'M'],\n",
       "       ...,\n",
       "       [20.13, 28.25, 131.2, ..., 0.2572, 0.06637, 'B'],\n",
       "       [16.6, 28.08, 108.3, ..., 0.2218, 0.0782, 'B'],\n",
       "       [20.6, 29.33, 140.1, ..., 0.4087, 0.124, 'B']], dtype=object)"
      ]
     },
     "execution_count": 2,
     "metadata": {},
     "output_type": "execute_result"
    }
   ],
   "source": [
    "# 실제 데이터를 통한 SVM 모델 학습 classification\n",
    "\n",
    "# pandas.read.csv \n",
    "wdbc = \"_________\"\n",
    "\n",
    "# as array\n",
    "wdbc = \"_________\"\n",
    "wdbc"
   ]
  },
  {
   "cell_type": "markdown",
   "metadata": {},
   "source": [
    "- Target 전처리"
   ]
  },
  {
   "cell_type": "code",
   "execution_count": 3,
   "metadata": {},
   "outputs": [
    {
     "data": {
      "text/plain": [
       "<map at 0x1e19d5ce208>"
      ]
     },
     "execution_count": 3,
     "metadata": {},
     "output_type": "execute_result"
    }
   ],
   "source": [
    "map(lambda x: \"________\", wdbc[:, 30])"
   ]
  },
  {
   "cell_type": "code",
   "execution_count": 4,
   "metadata": {},
   "outputs": [
    {
     "data": {
      "text/plain": [
       "[1, 1, 1, 1, 1, 1, 1, 1, 1, 1]"
      ]
     },
     "execution_count": 4,
     "metadata": {},
     "output_type": "execute_result"
    }
   ],
   "source": [
    "list(map(lambda x: \"________\", wdbc[:, 30]))[0:10]"
   ]
  },
  {
   "cell_type": "code",
   "execution_count": 5,
   "metadata": {},
   "outputs": [
    {
     "data": {
      "text/plain": [
       "array([1, 1, 1, 1, 1, 1, 1, 1, 1, 1, 1, 1, 1, 1, 1, 1, 1, 1, 1, 1, 1, 1,\n",
       "       1, 1, 1, 1, 1, 1, 1, 1, 1, 1, 1, 1, 1, 1, 1, 1, 1, 1, 1, 1, 1, 1,\n",
       "       1, 1, 1, 1, 1, 1, 1, 1, 1, 1, 1, 1, 1, 1, 1, 1, 1, 1, 1, 1, 1, 1,\n",
       "       1, 1, 1, 1, 1, 1, 1, 1, 1, 1, 1, 1, 1, 1, 1, 1, 1, 1, 1, 1, 1, 1,\n",
       "       1, 1, 1, 1, 1, 1, 1, 1, 1, 1, 1, 1, 1, 1, 1, 1, 1, 1, 1, 1, 1, 1,\n",
       "       1, 1, 1, 1, 1, 1, 1, 1, 1, 1, 1, 1, 1, 1, 1, 1, 1, 1, 1, 1, 1, 1,\n",
       "       1, 1, 1, 1, 1, 1, 1, 1, 1, 1, 1, 1, 1, 1, 1, 1, 1, 1, 1, 1, 1, 1,\n",
       "       1, 1, 1, 1, 1, 1, 1, 1, 1, 1, 1, 1, 1, 1, 1, 1, 1, 1, 1, 1, 1, 1,\n",
       "       1, 1, 1, 1, 1, 1, 1, 1, 1, 1, 1, 1, 1, 1, 1, 1, 1, 1, 1, 1, 1, 1,\n",
       "       1, 1, 1, 1, 1, 1, 1, 1, 1, 1, 1, 1, 1, 1, 1, 1, 1, 1, 1, 1, 1, 1,\n",
       "       1, 1, 1, 1, 1, 1, 1, 1, 1, 1, 1, 1, 1, 1, 1, 1, 1, 1, 1, 1, 1, 1,\n",
       "       1, 1, 1, 1, 1, 1, 1, 1, 1, 1, 1, 1, 1, 1, 1, 1, 1, 1, 1, 1, 1, 1,\n",
       "       1, 1, 1, 1, 1, 1, 1, 1, 1, 1, 1, 1, 1, 1, 1, 1, 1, 1, 1, 1, 1, 1,\n",
       "       1, 1, 1, 1, 1, 1, 1, 1, 1, 1, 1, 1, 1, 1, 1, 1, 1, 1, 1, 1, 1, 1,\n",
       "       1, 1, 1, 1, 1, 1, 1, 1, 1, 1, 1, 1, 1, 1, 1, 1, 1, 1, 1, 1, 1, 1,\n",
       "       1, 1, 1, 1, 1, 1, 1, 1, 1, 1, 1, 1, 1, 1, 1, 1, 1, 1, 1, 1, 1, 1,\n",
       "       1, 1, 1, 1, 0, 0, 0, 0, 0, 0, 0, 0, 0, 0, 0, 0, 0, 0, 0, 0, 0, 0,\n",
       "       0, 0, 0, 0, 0, 0, 0, 0, 0, 0, 0, 0, 0, 0, 0, 0, 0, 0, 0, 0, 0, 0,\n",
       "       0, 0, 0, 0, 0, 0, 0, 0, 0, 0, 0, 0, 0, 0, 0, 0, 0, 0, 0, 0, 0, 0,\n",
       "       0, 0, 0, 0, 0, 0, 0, 0, 0, 0, 0, 0, 0, 0, 0, 0, 0, 0, 0, 0, 0, 0,\n",
       "       0, 0, 0, 0, 0, 0, 0, 0, 0, 0, 0, 0, 0, 0, 0, 0, 0, 0, 0, 0, 0, 0,\n",
       "       0, 0, 0, 0, 0, 0, 0, 0, 0, 0, 0, 0, 0, 0, 0, 0, 0, 0, 0, 0, 0, 0,\n",
       "       0, 0, 0, 0, 0, 0, 0, 0, 0, 0, 0, 0, 0, 0, 0, 0, 0, 0, 0, 0, 0, 0,\n",
       "       0, 0, 0, 0, 0, 0, 0, 0, 0, 0, 0, 0, 0, 0, 0, 0, 0, 0, 0, 0, 0, 0,\n",
       "       0, 0, 0, 0, 0, 0, 0, 0, 0, 0, 0, 0, 0, 0, 0, 0, 0, 0, 0, 0, 0, 0,\n",
       "       0, 0, 0, 0, 0, 0, 0, 0, 0, 0, 0, 0, 0, 0, 0, 0, 0, 0])"
      ]
     },
     "execution_count": 5,
     "metadata": {},
     "output_type": "execute_result"
    }
   ],
   "source": [
    "wdbc_y = np.array(list(map(lambda x: \"________\", wdbc[:, 30])))\n",
    "wdbc_y"
   ]
  },
  {
   "cell_type": "code",
   "execution_count": 6,
   "metadata": {},
   "outputs": [
    {
     "name": "stdout",
     "output_type": "stream",
     "text": [
      "Label Balance : 0.6268\n"
     ]
    }
   ],
   "source": [
    "class_ratio = sum(wdbc_y) / len(wdbc_y)\n",
    "print('Label Balance : {0:.4f}'.format(class_ratio))"
   ]
  },
  {
   "cell_type": "code",
   "execution_count": 7,
   "metadata": {},
   "outputs": [
    {
     "name": "stdout",
     "output_type": "stream",
     "text": [
      "Before: [[13.08 15.71 85.63 ... 0.3184 0.08183 'M']\n",
      " [9.504 12.44 60.34 ... 0.245 0.07773 'M']\n",
      " [13.03 18.42 82.61 ... 0.1987 0.061689999999999995 'M']\n",
      " ...\n",
      " [20.13 28.25 131.2 ... 0.2572 0.06637 'B']\n",
      " [16.6 28.08 108.3 ... 0.2218 0.0782 'B']\n",
      " [20.6 29.33 140.1 ... 0.4087 0.124 'B']] \n",
      "\n",
      "After: [[13.08 15.71 85.63 ... 0.07282999999999999 0.3184 0.08183]\n",
      " [9.504 12.44 60.34 ... 0.062270000000000006 0.245 0.07773]\n",
      " [13.03 18.42 82.61 ... 0.05013 0.1987 0.061689999999999995]\n",
      " ...\n",
      " [20.13 28.25 131.2 ... 0.1628 0.2572 0.06637]\n",
      " [16.6 28.08 108.3 ... 0.1418 0.2218 0.0782]\n",
      " [20.6 29.33 140.1 ... 0.265 0.4087 0.124]]\n"
     ]
    }
   ],
   "source": [
    "print('Before:', wdbc, '\\n')\n",
    "wdbc_x = np.delete(wdbc, 30, axis=1)\n",
    "print('After:', wdbc_x)"
   ]
  },
  {
   "cell_type": "markdown",
   "metadata": {},
   "source": [
    "- 데이터 정규화"
   ]
  },
  {
   "cell_type": "code",
   "execution_count": 8,
   "metadata": {},
   "outputs": [
    {
     "data": {
      "text/plain": [
       "StandardScaler(copy=True, with_mean=True, with_std=True)"
      ]
     },
     "execution_count": 8,
     "metadata": {},
     "output_type": "execute_result"
    }
   ],
   "source": [
    "scaler = \"__________\"\n",
    "scaler"
   ]
  },
  {
   "cell_type": "code",
   "execution_count": 9,
   "metadata": {},
   "outputs": [
    {
     "data": {
      "text/plain": [
       "StandardScaler(copy=True, with_mean=True, with_std=True)"
      ]
     },
     "execution_count": 9,
     "metadata": {},
     "output_type": "execute_result"
    }
   ],
   "source": [
    "transformer = scaler.\"__________\"\n",
    "transformer"
   ]
  },
  {
   "cell_type": "code",
   "execution_count": 10,
   "metadata": {},
   "outputs": [
    {
     "data": {
      "text/plain": [
       "array([[-0.29748492, -0.83526195, -0.26121114, ..., -0.63519647,\n",
       "         0.45804738, -0.11829484],\n",
       "       [-1.31225167, -1.59642621, -1.30202713, ..., -0.79585459,\n",
       "        -0.72837556, -0.34537913],\n",
       "       [-0.31167349, -0.20444999, -0.38549996, ..., -0.98055057,\n",
       "        -1.47675952, -1.23377717],\n",
       "       ...,\n",
       "       [ 1.7031039 ,  2.08369821,  1.61423309, ...,  0.73359244,\n",
       "        -0.5311772 , -0.97456876],\n",
       "       [ 0.70139063,  2.04412698,  0.67177812, ...,  0.41410186,\n",
       "        -1.10337573, -0.31934752],\n",
       "       [ 1.83647648,  2.3350919 ,  1.98051471, ...,  2.28844657,\n",
       "         1.91763856,  2.21735012]])"
      ]
     },
     "execution_count": 10,
     "metadata": {},
     "output_type": "execute_result"
    }
   ],
   "source": [
    "wdbc_x = transformer.\"____________\"\n",
    "wdbc_x"
   ]
  },
  {
   "cell_type": "code",
   "execution_count": 11,
   "metadata": {},
   "outputs": [
    {
     "name": "stdout",
     "output_type": "stream",
     "text": [
      "[[1.308e+01 1.571e+01 8.563e+01 ... 7.283e-02 3.184e-01 8.183e-02]\n",
      " [9.504e+00 1.244e+01 6.034e+01 ... 6.227e-02 2.450e-01 7.773e-02]\n",
      " [1.303e+01 1.842e+01 8.261e+01 ... 5.013e-02 1.987e-01 6.169e-02]\n",
      " ...\n",
      " [2.013e+01 2.825e+01 1.312e+02 ... 1.628e-01 2.572e-01 6.637e-02]\n",
      " [1.660e+01 2.808e+01 1.083e+02 ... 1.418e-01 2.218e-01 7.820e-02]\n",
      " [2.060e+01 2.933e+01 1.401e+02 ... 2.650e-01 4.087e-01 1.240e-01]]\n"
     ]
    }
   ],
   "source": [
    "print(transformer.inverse_transform(wdbc_x))"
   ]
  },
  {
   "cell_type": "markdown",
   "metadata": {},
   "source": [
    "---"
   ]
  },
  {
   "cell_type": "markdown",
   "metadata": {},
   "source": [
    "- Class count"
   ]
  },
  {
   "cell_type": "code",
   "execution_count": 12,
   "metadata": {},
   "outputs": [
    {
     "data": {
      "text/plain": [
       "Counter({1: 356, 0: 212})"
      ]
     },
     "execution_count": 12,
     "metadata": {},
     "output_type": "execute_result"
    }
   ],
   "source": [
    "count = \"______________\""
   ]
  },
  {
   "cell_type": "code",
   "execution_count": 13,
   "metadata": {},
   "outputs": [
    {
     "data": {
      "text/plain": [
       "0.6267605633802817"
      ]
     },
     "execution_count": 13,
     "metadata": {},
     "output_type": "execute_result"
    }
   ],
   "source": [
    "# class ratio\n",
    "count[1]/(count[1]+count[0])"
   ]
  },
  {
   "cell_type": "code",
   "execution_count": 14,
   "metadata": {},
   "outputs": [
    {
     "name": "stdout",
     "output_type": "stream",
     "text": [
      "Train: 0.6423173803526449\n",
      "Test: 0.5906432748538012\n"
     ]
    }
   ],
   "source": [
    "wdbc_train_x, wdbc_test_x, wdbc_train_y, wdbc_test_y = train_test_split(wdbc_x, wdbc_y, test_size=0.3, random_state=0)\n",
    "print('Train:', Counter(wdbc_train_y)[1]/(Counter(wdbc_train_y)[1]+Counter(wdbc_train_y)[0]))\n",
    "print('Test:', Counter(wdbc_test_y)[1]/(Counter(wdbc_test_y)[1]+Counter(wdbc_test_y)[0]))"
   ]
  },
  {
   "cell_type": "markdown",
   "metadata": {},
   "source": [
    "- stratify 반영하면 class 비율을 유지시키면서 sampling 할 수 있음"
   ]
  },
  {
   "cell_type": "code",
   "execution_count": 15,
   "metadata": {},
   "outputs": [
    {
     "name": "stdout",
     "output_type": "stream",
     "text": [
      "Train: 0.6272040302267002\n",
      "Test: 0.6257309941520468\n"
     ]
    }
   ],
   "source": [
    "wdbc_train_x, wdbc_test_x, wdbc_train_y, wdbc_test_y = train_test_split(wdbc_x, wdbc_y, stratify=wdbc_y, test_size=0.3, random_state=0)\n",
    "print('Train:', Counter(wdbc_train_y)[1]/(Counter(wdbc_train_y)[1]+Counter(wdbc_train_y)[0]))\n",
    "print('Test:', Counter(wdbc_test_y)[1]/(Counter(wdbc_test_y)[1]+Counter(wdbc_test_y)[0]))"
   ]
  },
  {
   "cell_type": "markdown",
   "metadata": {},
   "source": [
    "| - | - | pred | pred |\n",
    "|---|---|:-------------:|-----:|\n",
    "| - | -  |             0 |     1|\n",
    "| actual | 0 | 59 | 5 |\n",
    "| actual | 1 | 0 | 107 |"
   ]
  },
  {
   "cell_type": "code",
   "execution_count": 2,
   "metadata": {},
   "outputs": [],
   "source": [
    "# 분류기 성능 지표 산출 함수\n",
    "def evaluation(y_true, y_pred):\n",
    "    cm = confusion_matrix(y_true=y_true, y_pred=y_pred)\n",
    "    # True positive rate: TPR\n",
    "    TPR = cm[1, 1] / sum(cm[1,:]) # recall\n",
    "    # True negative rate: TNR\n",
    "    TNR = cm[0, 0] / sum(cm[0,:])\n",
    "    # Simple Accuracy\n",
    "    ACC = (cm[0, 0] + cm[1, 1]) / np.sum(cm)\n",
    "    # Balanced Correction Rate\n",
    "    BCR = np.sqrt(TPR * TNR)\n",
    "    # F1-measure\n",
    "    Precision = cm[1,1] /sum(cm[:,1])\n",
    "    F1 = 2*TPR*Precision/(TPR+Precision)\n",
    "    return [cm, ACC, Precision,  TPR, F1, BCR]\n",
    "\n",
    "acc_metric_names = ['ACC', 'PRE', 'REC', 'F1', 'BCR']"
   ]
  },
  {
   "cell_type": "markdown",
   "metadata": {},
   "source": [
    "-  Cross Validation을 통한 파라미터 튜닝 SVM 학습 모델 정의\n",
    "    - SVM Classification의 경우, 크게 'kernel'과 'C'(cost) 그리고 'gamma'(Kernel coefficient) 등이 존재합니다.\n",
    "    - 'C'는 penalty cost를 의미하며, 'gamma'의 경우 Support Vector의 영향 area를 결정하게됩니다.\n",
    "    - 이전 Neural Network 학습과 동일하게 N-fold Cross-Validation을 통해서 'C'와 'Gamma'를 결정하여 최적화된 SVM모델을 정의하도록 하겠습니다.\n"
   ]
  },
  {
   "cell_type": "code",
   "execution_count": 17,
   "metadata": {},
   "outputs": [],
   "source": [
    "### Cross Validation을 통한 최적의 'C'와 'gamma' 파라미터 튜닝\n",
    "def CV_SVM_classifier(train_x, train_y, CV_n):\n",
    "    parameters =  {'C':[0.01,0.05,0.1,1,5,10,100],'gamma':[0.01,0.02,0.06,0.08,0.1,1,2,10,100]}\n",
    "    print(\"매개변수 그리드:\\n{}\".format(parameters))\n",
    "        \n",
    "    # SVM 객체 생성 및 그리드를 통한 학습파라미터 최적화를 통한 모델 적합\n",
    "\n",
    "    # 1) classifer instance 생성 \n",
    "    clf = \"_________________________\"\n",
    "    \n",
    "    # 2) grid search instance 생성\n",
    "    grid_clf = \"_________________________\"\n",
    "    \n",
    "    # 3) fitting \n",
    "    grid_clf.\"_________________________\"\n",
    "    \n",
    "    # SVM classifier fit\n",
    "    print(\"The optimal 'C' : {}\\nThe optimal 'Gamma' : {}\".format(grid_clf.best_params_['C'], \n",
    "                                                                  grid_clf.best_params_['gamma']))\n",
    "\n",
    "    # 최종 KNN 회귀모형 적합 및 분류 성능 지표 산출\n",
    "    opt_SVC = SVC(C=grid_clf.best_params_['C'], gamma=grid_clf.best_params_['gamma'])\n",
    "    opt_SVC.fit(X=train_x, y=train_y)\n",
    "\n",
    "    return opt_SVC"
   ]
  },
  {
   "cell_type": "markdown",
   "metadata": {},
   "source": [
    "### SVM 파라미터 Gridsearch를 통한 SVM Classifier 모델 학습\n",
    "\n",
    "5-fold cross-validation을 통해서 주언진 'wdbc'데이터 맞는  SVM Classifier 모델을 학습해보도록 하겠습니다.\n",
    "\n",
    "parameter grid는 다음과 같습니다. "
   ]
  },
  {
   "cell_type": "markdown",
   "metadata": {},
   "source": [
    "Q1. Classifier"
   ]
  },
  {
   "cell_type": "code",
   "execution_count": 86,
   "metadata": {},
   "outputs": [
    {
     "name": "stdout",
     "output_type": "stream",
     "text": [
      "매개변수 그리드:\n",
      "{'gamma': [0.01, 0.02, 0.06, 0.08, 0.1, 1, 2, 10, 100], 'C': [0.01, 0.05, 0.1, 1, 5, 10, 100]}\n",
      "The optimal 'C' : 10\n",
      "The optimal 'Gamma' : 0.02\n"
     ]
    }
   ],
   "source": [
    "WD_SVM = CV_SVM_classifier(train_x=wdbc_train_x,\n",
    "                           train_y=wdbc_train_y,\n",
    "                           CV_n=5)"
   ]
  },
  {
   "cell_type": "markdown",
   "metadata": {},
   "source": [
    " Q2. prediction"
   ]
  },
  {
   "cell_type": "code",
   "execution_count": 19,
   "metadata": {},
   "outputs": [
    {
     "data": {
      "text/plain": [
       "array([0, 1, 0, 1, 0, 1, 0, 0, 0, 0, 1, 1, 1, 1, 0, 0, 0, 1, 0, 0, 1, 1,\n",
       "       1, 0, 0, 0, 1, 0, 1, 0, 0, 1, 0, 1, 1, 1, 1, 0, 1, 0, 0, 0, 1, 0,\n",
       "       1, 0, 0, 1, 1, 1, 1, 0, 1, 0, 1, 1, 1, 1, 1, 1, 1, 1, 0, 0, 1, 1,\n",
       "       0, 0, 0, 1, 1, 0, 1, 1, 1, 1, 1, 0, 0, 1, 1, 1, 1, 0, 1, 1, 0, 0,\n",
       "       0, 0, 1, 1, 1, 1, 1, 0, 0, 1, 0, 0, 1, 1, 1, 0, 1, 0, 1, 0, 1, 1,\n",
       "       1, 0, 0, 1, 1, 1, 1, 0, 1, 1, 1, 1, 1, 1, 0, 1, 1, 1, 1, 1, 1, 1,\n",
       "       1, 1, 0, 1, 1, 1, 0, 0, 1, 0, 1, 0, 1, 0, 1, 1, 1, 1, 1, 1, 1, 1,\n",
       "       0, 1, 1, 1, 1, 1, 0, 1, 1, 1, 1, 1, 1, 0, 1, 1, 1])"
      ]
     },
     "execution_count": 19,
     "metadata": {},
     "output_type": "execute_result"
    }
   ],
   "source": [
    "WD_SVM_pred=WD_SVM.\"_____________\"\n",
    "WD_SVM_pred"
   ]
  },
  {
   "cell_type": "code",
   "execution_count": 20,
   "metadata": {},
   "outputs": [
    {
     "name": "stdout",
     "output_type": "stream",
     "text": [
      "CM: \n",
      " [[ 61   3]\n",
      " [  0 107]]\n",
      "==== SVM - Classifier Performance ====\n"
     ]
    },
    {
     "data": {
      "text/plain": [
       "TPR    1.000000\n",
       "TNR    0.953125\n",
       "ACC    0.982456\n",
       "BCR    0.976281\n",
       "F1     0.986175\n",
       "dtype: float64"
      ]
     },
     "execution_count": 20,
     "metadata": {},
     "output_type": "execute_result"
    }
   ],
   "source": [
    "### CV를 통한 SVM 분류 정확도 측정\n",
    "WD_SVM_cfm, WD_SVM_acc, WD_SVM_pre, WD_SVM_rec, WD_SVM_f1, WD_SVM_bcr = evaluation(y_pred=WD_SVM_pred,y_true=wdbc_test_y)\n",
    "print('CM: \\n', WD_SVM_cfm)\n",
    "\n",
    "print('==== SVM - Classifier Performance ====')\n",
    "SVM_result_tb = pd.Series([WD_SVM_acc, WD_SVM_pre, WD_SVM_rec, WD_SVM_f1, WD_SVM_bcr], \"____________\")\n",
    "SVM_result_tb.T"
   ]
  },
  {
   "cell_type": "markdown",
   "metadata": {},
   "source": [
    "\n",
    "\n",
    "### SVM 분류 모형과 Neural Network 비교를위해 Neural Network model 정의\n",
    "\n",
    "- 정확도 97%의 비교적 안정적인 성능을 보여줍니다."
   ]
  },
  {
   "cell_type": "code",
   "execution_count": 21,
   "metadata": {},
   "outputs": [],
   "source": [
    "### Neural Network를 통한 분류 정확도 : 과거 최적화 파라미터 히든레이어 60, 학습 iteration 500\n",
    "WD_NN = MLPClassifier(hidden_layer_sizes=60, max_iter=500).fit(wdbc_train_x,wdbc_train_y)\n",
    "WD_NN_pred=WD_NN.predict(wdbc_test_x)"
   ]
  },
  {
   "cell_type": "code",
   "execution_count": 22,
   "metadata": {},
   "outputs": [
    {
     "name": "stdout",
     "output_type": "stream",
     "text": [
      "CM: \n",
      " [[ 60   4]\n",
      " [  4 103]]\n",
      "==== Neural Network - Classifier Performance ====\n"
     ]
    },
    {
     "data": {
      "text/plain": [
       "TPR    0.962617\n",
       "TNR    0.937500\n",
       "ACC    0.953216\n",
       "BCR    0.949975\n",
       "F1     0.962617\n",
       "dtype: float64"
      ]
     },
     "execution_count": 22,
     "metadata": {},
     "output_type": "execute_result"
    }
   ],
   "source": [
    "### CV를 통한 NN 분류 정확도 측정\n",
    "WD_NN_cfm, WD_NN_acc, WD_NN_pre, WD_NN_rec, WD_NN_f1, WD_NN_bcr = evaluation(y_true=wdbc_test_y, y_pred=WD_NN_pred)\n",
    "print('CM: \\n', WD_NN_cfm)\n",
    "\n",
    "print('==== Neural Network - Classifier Performance ====')\n",
    "NN_result_tb = pd.Series([WD_NN_acc, WD_NN_pre, WD_NN_rec, WD_NN_f1, WD_NN_bcr ], index = acc_metric_names)\n",
    "NN_result_tb.T"
   ]
  },
  {
   "cell_type": "markdown",
   "metadata": {},
   "source": [
    "---"
   ]
  },
  {
   "cell_type": "markdown",
   "metadata": {},
   "source": [
    "\n",
    "\n",
    "### 반복 수행을 통한 Neural Network와 SVM의 학습 결과 비교\n",
    "\n",
    "학습 파라미터를 고정시킨 상태로 인공신경망과 SVM을 5회 반복수행하여, 그 결과를 확인해보도록 하겠습니다.\n"
   ]
  },
  {
   "cell_type": "code",
   "execution_count": 67,
   "metadata": {},
   "outputs": [],
   "source": [
    "# SVM best hyperparameters\n",
    "opt_gamma=WD_SVM.gamma\n",
    "opt_C=WD_SVM.C\n",
    "saver_dict = {'SVM':{'ACC':[], 'PRE':[], 'REC':[], 'F1':[], 'BCR': []},\n",
    "              'NN':{'ACC':[], 'PRE':[], 'REC':[], 'F1':[], 'BCR': []}}"
   ]
  },
  {
   "cell_type": "code",
   "execution_count": 68,
   "metadata": {},
   "outputs": [
    {
     "name": "stderr",
     "output_type": "stream",
     "text": [
      "\n",
      "SVM:   0%|          | 0/5 [00:00<?, ?it/s]\u001b[A\n",
      "SVM: 100%|██████████| 5/5 [00:00<00:00, 149.89it/s]\u001b[A"
     ]
    }
   ],
   "source": [
    "for i in tqdm(range(5),desc='SVM'):\n",
    "\n",
    "    # SVM classifier\n",
    "    WD_SVM = SVC(C=opt_C,gamma=opt_gamma).fit(wdbc_train_x, wdbc_train_y)\n",
    "    \n",
    "    # prediction\n",
    "    WD_SVM_pred = WD_SVM.predict(wdbc_test_x)\n",
    "    \n",
    "    # eval\n",
    "    WD_SVM_cfm, WD_SVM_acc, WD_SVM_pre, WD_SVM_rec, WD_SVM_f1, WD_SVM_bcr = evaluation(y_true=wdbc_test_y,\n",
    "                                                                                       y_pred=WD_SVM_pred)\n",
    "    saver_dict['SVM']['ACC'].append(WD_SVM_acc)\n",
    "    saver_dict['SVM']['PRE'].append(WD_SVM_pre)\n",
    "    saver_dict['SVM']['REC'].append(WD_SVM_rec)\n",
    "    saver_dict['SVM']['F1'].append(WD_SVM_f1)\n",
    "    saver_dict['SVM']['BCR'].append(WD_SVM_bcr)\n",
    "    \n"
   ]
  },
  {
   "cell_type": "code",
   "execution_count": 69,
   "metadata": {},
   "outputs": [
    {
     "data": {
      "text/plain": [
       "{'ACC': [0.9824561403508771,\n",
       "  0.9824561403508771,\n",
       "  0.9824561403508771,\n",
       "  0.9824561403508771,\n",
       "  0.9824561403508771],\n",
       " 'BCR': [0.9762812094883317,\n",
       "  0.9762812094883317,\n",
       "  0.9762812094883317,\n",
       "  0.9762812094883317,\n",
       "  0.9762812094883317],\n",
       " 'F1': [0.9861751152073733,\n",
       "  0.9861751152073733,\n",
       "  0.9861751152073733,\n",
       "  0.9861751152073733,\n",
       "  0.9861751152073733],\n",
       " 'PRE': [0.9727272727272728,\n",
       "  0.9727272727272728,\n",
       "  0.9727272727272728,\n",
       "  0.9727272727272728,\n",
       "  0.9727272727272728],\n",
       " 'REC': [1.0, 1.0, 1.0, 1.0, 1.0]}"
      ]
     },
     "execution_count": 69,
     "metadata": {},
     "output_type": "execute_result"
    }
   ],
   "source": [
    "saver_dict['SVM']"
   ]
  },
  {
   "cell_type": "code",
   "execution_count": 70,
   "metadata": {},
   "outputs": [
    {
     "name": "stderr",
     "output_type": "stream",
     "text": [
      "\n",
      "MLP:   0%|          | 0/5 [00:00<?, ?it/s]\u001b[A\n",
      "MLP:  20%|██        | 1/5 [00:00<00:01,  3.15it/s]\u001b[A\n",
      "MLP:  40%|████      | 2/5 [00:00<00:00,  3.15it/s]\u001b[A\n",
      "MLP:  60%|██████    | 3/5 [00:00<00:00,  3.10it/s]\u001b[A\n",
      "MLP:  80%|████████  | 4/5 [00:01<00:00,  3.15it/s]\u001b[A\n",
      "MLP: 100%|██████████| 5/5 [00:01<00:00,  3.19it/s]\u001b[A"
     ]
    }
   ],
   "source": [
    "for i in tqdm(range(5),desc='MLP'):\n",
    "    \n",
    "    # model\n",
    "    WD_NN = MLPClassifier(hidden_layer_sizes=60, max_iter=500).fit(wdbc_train_x, wdbc_train_y)\n",
    "    \n",
    "    # prediction\n",
    "    WD_NN_pred = WD_NN.predict(wdbc_test_x)\n",
    "\n",
    "    # eval\n",
    "    WD_NN_cfm, WD_NN_acc, WD_NN_pre, WD_NN_rec, WD_NN_f1, WD_NN_bcr = evaluation(y_true=wdbc_test_y,\n",
    "                                                                                 y_pred=WD_NN_pred)\n",
    "\n",
    "    saver_dict['NN']['ACC'].append(WD_NN_acc)\n",
    "    saver_dict['NN']['PRE'].append(WD_NN_pre)\n",
    "    saver_dict['NN']['REC'].append(WD_NN_rec)\n",
    "    saver_dict['NN']['F1'].append(WD_NN_f1)\n",
    "    saver_dict['NN']['BCR'].append(WD_NN_bcr)\n",
    "    "
   ]
  },
  {
   "cell_type": "code",
   "execution_count": 71,
   "metadata": {},
   "outputs": [
    {
     "data": {
      "text/plain": [
       "{'ACC': [0.9590643274853801,\n",
       "  0.9766081871345029,\n",
       "  0.9590643274853801,\n",
       "  0.9590643274853801,\n",
       "  0.9649122807017544],\n",
       " 'BCR': [0.9545757975514716,\n",
       "  0.9717084386376533,\n",
       "  0.9545757975514716,\n",
       "  0.9545757975514716,\n",
       "  0.9656785421293008],\n",
       " 'F1': [0.9674418604651163,\n",
       "  0.9814814814814815,\n",
       "  0.9674418604651163,\n",
       "  0.9674418604651163,\n",
       "  0.9716981132075471],\n",
       " 'PRE': [0.9629629629629629,\n",
       "  0.9724770642201835,\n",
       "  0.9629629629629629,\n",
       "  0.9629629629629629,\n",
       "  0.9809523809523809],\n",
       " 'REC': [0.9719626168224299,\n",
       "  0.9906542056074766,\n",
       "  0.9719626168224299,\n",
       "  0.9719626168224299,\n",
       "  0.9626168224299065]}"
      ]
     },
     "execution_count": 71,
     "metadata": {},
     "output_type": "execute_result"
    }
   ],
   "source": [
    "saver_dict['NN']"
   ]
  },
  {
   "cell_type": "markdown",
   "metadata": {},
   "source": [
    "### 반복 수행을 통한 Neural Network와 SVM의 학습 결과 비교\n",
    "\n",
    "5번의 반복 수행 결과, Parameter가 고정되어 있음에도 불구하고 매번 다른 학습결과가 나오는 인공신경망과 달리\n",
    "SVM의 경우 5번 모두 동일한 결과(동일한 최적해)를 산출함을 확인할 수 있습니다.\n"
   ]
  },
  {
   "cell_type": "markdown",
   "metadata": {},
   "source": [
    "- **Summary**"
   ]
  },
  {
   "cell_type": "code",
   "execution_count": 74,
   "metadata": {},
   "outputs": [
    {
     "name": "stdout",
     "output_type": "stream",
     "text": [
      "--------------------------------------------------------------\n",
      "SVM을 통한 5회 반복 분류 model 정확도:\n",
      "[0.9824561403508771, 0.9824561403508771, 0.9824561403508771, 0.9824561403508771, 0.9824561403508771]\n",
      "--------------------------------------------------------------\n",
      "\n"
     ]
    },
    {
     "data": {
      "text/html": [
       "<div>\n",
       "<style scoped>\n",
       "    .dataframe tbody tr th:only-of-type {\n",
       "        vertical-align: middle;\n",
       "    }\n",
       "\n",
       "    .dataframe tbody tr th {\n",
       "        vertical-align: top;\n",
       "    }\n",
       "\n",
       "    .dataframe thead th {\n",
       "        text-align: right;\n",
       "    }\n",
       "</style>\n",
       "<table border=\"1\" class=\"dataframe\">\n",
       "  <thead>\n",
       "    <tr style=\"text-align: right;\">\n",
       "      <th></th>\n",
       "      <th>ACC</th>\n",
       "      <th>BCR</th>\n",
       "      <th>F1</th>\n",
       "      <th>PRE</th>\n",
       "      <th>REC</th>\n",
       "    </tr>\n",
       "  </thead>\n",
       "  <tbody>\n",
       "    <tr>\n",
       "      <th>0</th>\n",
       "      <td>0.982456</td>\n",
       "      <td>0.976281</td>\n",
       "      <td>0.986175</td>\n",
       "      <td>0.972727</td>\n",
       "      <td>1.0</td>\n",
       "    </tr>\n",
       "    <tr>\n",
       "      <th>1</th>\n",
       "      <td>0.982456</td>\n",
       "      <td>0.976281</td>\n",
       "      <td>0.986175</td>\n",
       "      <td>0.972727</td>\n",
       "      <td>1.0</td>\n",
       "    </tr>\n",
       "    <tr>\n",
       "      <th>2</th>\n",
       "      <td>0.982456</td>\n",
       "      <td>0.976281</td>\n",
       "      <td>0.986175</td>\n",
       "      <td>0.972727</td>\n",
       "      <td>1.0</td>\n",
       "    </tr>\n",
       "    <tr>\n",
       "      <th>3</th>\n",
       "      <td>0.982456</td>\n",
       "      <td>0.976281</td>\n",
       "      <td>0.986175</td>\n",
       "      <td>0.972727</td>\n",
       "      <td>1.0</td>\n",
       "    </tr>\n",
       "    <tr>\n",
       "      <th>4</th>\n",
       "      <td>0.982456</td>\n",
       "      <td>0.976281</td>\n",
       "      <td>0.986175</td>\n",
       "      <td>0.972727</td>\n",
       "      <td>1.0</td>\n",
       "    </tr>\n",
       "  </tbody>\n",
       "</table>\n",
       "</div>"
      ],
      "text/plain": [
       "        ACC       BCR        F1       PRE  REC\n",
       "0  0.982456  0.976281  0.986175  0.972727  1.0\n",
       "1  0.982456  0.976281  0.986175  0.972727  1.0\n",
       "2  0.982456  0.976281  0.986175  0.972727  1.0\n",
       "3  0.982456  0.976281  0.986175  0.972727  1.0\n",
       "4  0.982456  0.976281  0.986175  0.972727  1.0"
      ]
     },
     "execution_count": 74,
     "metadata": {},
     "output_type": "execute_result"
    }
   ],
   "source": [
    "# SVM case\n",
    "print('--------------------------------------------------------------')\n",
    "print( \"SVM을 통한 5회 반복 분류 model 정확도:\\n{}\".format(saver_dict['SVM']['ACC']))\n",
    "print('--------------------------------------------------------------')\n",
    "print('')\n",
    "SVM_result = pd.DataFrame(saver_dict['SVM'])\n",
    "SVM_result"
   ]
  },
  {
   "cell_type": "code",
   "execution_count": 75,
   "metadata": {},
   "outputs": [
    {
     "name": "stdout",
     "output_type": "stream",
     "text": [
      "--------------------------------------------------------------\n",
      "Neural Network 를 통한 10개 반복 분류 model 정확도:\n",
      "[0.9590643274853801, 0.9766081871345029, 0.9590643274853801, 0.9590643274853801, 0.9649122807017544]\n",
      "--------------------------------------------------------------\n",
      "\n"
     ]
    },
    {
     "data": {
      "text/html": [
       "<div>\n",
       "<style scoped>\n",
       "    .dataframe tbody tr th:only-of-type {\n",
       "        vertical-align: middle;\n",
       "    }\n",
       "\n",
       "    .dataframe tbody tr th {\n",
       "        vertical-align: top;\n",
       "    }\n",
       "\n",
       "    .dataframe thead th {\n",
       "        text-align: right;\n",
       "    }\n",
       "</style>\n",
       "<table border=\"1\" class=\"dataframe\">\n",
       "  <thead>\n",
       "    <tr style=\"text-align: right;\">\n",
       "      <th></th>\n",
       "      <th>ACC</th>\n",
       "      <th>BCR</th>\n",
       "      <th>F1</th>\n",
       "      <th>PRE</th>\n",
       "      <th>REC</th>\n",
       "    </tr>\n",
       "  </thead>\n",
       "  <tbody>\n",
       "    <tr>\n",
       "      <th>0</th>\n",
       "      <td>0.959064</td>\n",
       "      <td>0.954576</td>\n",
       "      <td>0.967442</td>\n",
       "      <td>0.962963</td>\n",
       "      <td>0.971963</td>\n",
       "    </tr>\n",
       "    <tr>\n",
       "      <th>1</th>\n",
       "      <td>0.976608</td>\n",
       "      <td>0.971708</td>\n",
       "      <td>0.981481</td>\n",
       "      <td>0.972477</td>\n",
       "      <td>0.990654</td>\n",
       "    </tr>\n",
       "    <tr>\n",
       "      <th>2</th>\n",
       "      <td>0.959064</td>\n",
       "      <td>0.954576</td>\n",
       "      <td>0.967442</td>\n",
       "      <td>0.962963</td>\n",
       "      <td>0.971963</td>\n",
       "    </tr>\n",
       "    <tr>\n",
       "      <th>3</th>\n",
       "      <td>0.959064</td>\n",
       "      <td>0.954576</td>\n",
       "      <td>0.967442</td>\n",
       "      <td>0.962963</td>\n",
       "      <td>0.971963</td>\n",
       "    </tr>\n",
       "    <tr>\n",
       "      <th>4</th>\n",
       "      <td>0.964912</td>\n",
       "      <td>0.965679</td>\n",
       "      <td>0.971698</td>\n",
       "      <td>0.980952</td>\n",
       "      <td>0.962617</td>\n",
       "    </tr>\n",
       "  </tbody>\n",
       "</table>\n",
       "</div>"
      ],
      "text/plain": [
       "        ACC       BCR        F1       PRE       REC\n",
       "0  0.959064  0.954576  0.967442  0.962963  0.971963\n",
       "1  0.976608  0.971708  0.981481  0.972477  0.990654\n",
       "2  0.959064  0.954576  0.967442  0.962963  0.971963\n",
       "3  0.959064  0.954576  0.967442  0.962963  0.971963\n",
       "4  0.964912  0.965679  0.971698  0.980952  0.962617"
      ]
     },
     "execution_count": 75,
     "metadata": {},
     "output_type": "execute_result"
    }
   ],
   "source": [
    "# Neural Network case\n",
    "print('--------------------------------------------------------------')\n",
    "print( \"Neural Network 를 통한 10개 반복 분류 model 정확도:\\n{}\".format(saver_dict['NN']['ACC']))\n",
    "print('--------------------------------------------------------------')\n",
    "print('')\n",
    "NN_result=pd.DataFrame(saver_dict['NN'])\n",
    "NN_result"
   ]
  },
  {
   "cell_type": "markdown",
   "metadata": {},
   "source": [
    "- **Summary**"
   ]
  },
  {
   "cell_type": "code",
   "execution_count": 77,
   "metadata": {},
   "outputs": [
    {
     "data": {
      "text/plain": [
       "ACC    0.982456\n",
       "BCR    0.976281\n",
       "F1     0.986175\n",
       "PRE    0.972727\n",
       "REC    1.000000\n",
       "dtype: float64"
      ]
     },
     "execution_count": 77,
     "metadata": {},
     "output_type": "execute_result"
    }
   ],
   "source": [
    "# average \n",
    "SVM_result.mean(axis=0)"
   ]
  },
  {
   "cell_type": "code",
   "execution_count": 78,
   "metadata": {},
   "outputs": [
    {
     "data": {
      "text/plain": [
       "ACC    0.963743\n",
       "BCR    0.960223\n",
       "F1     0.971101\n",
       "PRE    0.968464\n",
       "REC    0.973832\n",
       "dtype: float64"
      ]
     },
     "execution_count": 78,
     "metadata": {},
     "output_type": "execute_result"
    }
   ],
   "source": [
    "# average \n",
    "NN_result.mean(axis=0)"
   ]
  },
  {
   "cell_type": "code",
   "execution_count": 79,
   "metadata": {},
   "outputs": [],
   "source": [
    "df = pd.concat([SVM_result.mean(axis=0),NN_result.mean(axis=0)], axis=1).T\n",
    "df.index = ['SVM', 'NN']"
   ]
  },
  {
   "cell_type": "code",
   "execution_count": 80,
   "metadata": {},
   "outputs": [
    {
     "data": {
      "text/html": [
       "<div>\n",
       "<style scoped>\n",
       "    .dataframe tbody tr th:only-of-type {\n",
       "        vertical-align: middle;\n",
       "    }\n",
       "\n",
       "    .dataframe tbody tr th {\n",
       "        vertical-align: top;\n",
       "    }\n",
       "\n",
       "    .dataframe thead th {\n",
       "        text-align: right;\n",
       "    }\n",
       "</style>\n",
       "<table border=\"1\" class=\"dataframe\">\n",
       "  <thead>\n",
       "    <tr style=\"text-align: right;\">\n",
       "      <th></th>\n",
       "      <th>ACC</th>\n",
       "      <th>BCR</th>\n",
       "      <th>F1</th>\n",
       "      <th>PRE</th>\n",
       "      <th>REC</th>\n",
       "    </tr>\n",
       "  </thead>\n",
       "  <tbody>\n",
       "    <tr>\n",
       "      <th>SVM</th>\n",
       "      <td>0.982456</td>\n",
       "      <td>0.976281</td>\n",
       "      <td>0.986175</td>\n",
       "      <td>0.972727</td>\n",
       "      <td>1.000000</td>\n",
       "    </tr>\n",
       "    <tr>\n",
       "      <th>NN</th>\n",
       "      <td>0.963743</td>\n",
       "      <td>0.960223</td>\n",
       "      <td>0.971101</td>\n",
       "      <td>0.968464</td>\n",
       "      <td>0.973832</td>\n",
       "    </tr>\n",
       "  </tbody>\n",
       "</table>\n",
       "</div>"
      ],
      "text/plain": [
       "          ACC       BCR        F1       PRE       REC\n",
       "SVM  0.982456  0.976281  0.986175  0.972727  1.000000\n",
       "NN   0.963743  0.960223  0.971101  0.968464  0.973832"
      ]
     },
     "execution_count": 80,
     "metadata": {},
     "output_type": "execute_result"
    }
   ],
   "source": [
    "df"
   ]
  },
  {
   "cell_type": "markdown",
   "metadata": {},
   "source": [
    "---"
   ]
  }
 ],
 "metadata": {
  "kernelspec": {
   "display_name": "lab",
   "language": "python",
   "name": "lab"
  },
  "language_info": {
   "codemirror_mode": {
    "name": "ipython",
    "version": 3
   },
   "file_extension": ".py",
   "mimetype": "text/x-python",
   "name": "python",
   "nbconvert_exporter": "python",
   "pygments_lexer": "ipython3",
   "version": "3.5.5"
  }
 },
 "nbformat": 4,
 "nbformat_minor": 2
}
