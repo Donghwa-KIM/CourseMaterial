{
 "cells": [
  {
   "cell_type": "markdown",
   "metadata": {},
   "source": [
    "# __Package를 사용하여 bagging 코드 작성__"
   ]
  },
  {
   "cell_type": "code",
   "execution_count": 1,
   "metadata": {},
   "outputs": [],
   "source": [
    "# sklearn으로 bagging 만들기\n",
    "# https://scikit-learn.org/stable/modules/generated/sklearn.ensemble.BaggingClassifier.html\n",
    "\n",
    "import pandas as pd\n",
    "import numpy as np\n",
    "from sklearn import model_selection # cross-validation score를 가져오기 위함\n",
    "from sklearn.model_selection import train_test_split\n",
    "from sklearn.ensemble import BaggingClassifier # bagging\n",
    "from sklearn.tree import DecisionTreeClassifier # 의사 결정 나무\n",
    "from collections import Counter # count\n",
    "from sklearn.metrics import f1_score"
   ]
  },
  {
   "cell_type": "markdown",
   "metadata": {},
   "source": [
    "- 변수설명\n",
    "    - preg: Number of times pregnant\n",
    "\n",
    "    - plas: Plasma glucose concentration a 2 hours in an oral glucose tolerance test\n",
    "\n",
    "    - pres: Diastolic blood pressure (mm Hg)\n",
    "\n",
    "    - skin: Triceps skin fold thickness (mm)\n",
    "\n",
    "    - test: 2-Hour serum insulin (mu U/ml)\n",
    "\n",
    "    - mass: Body mass index (weight in kg/(height in m)^2)\n",
    "\n",
    "    - pedi: Diabetes pedigree function\n",
    "\n",
    "    - age: Age (years)\n",
    "\n",
    "    - class = (1:tested positive for diabetes, 0: tested negative for diabetes)"
   ]
  },
  {
   "cell_type": "code",
   "execution_count": 2,
   "metadata": {},
   "outputs": [
    {
     "data": {
      "text/html": [
       "<div>\n",
       "<style scoped>\n",
       "    .dataframe tbody tr th:only-of-type {\n",
       "        vertical-align: middle;\n",
       "    }\n",
       "\n",
       "    .dataframe tbody tr th {\n",
       "        vertical-align: top;\n",
       "    }\n",
       "\n",
       "    .dataframe thead th {\n",
       "        text-align: right;\n",
       "    }\n",
       "</style>\n",
       "<table border=\"1\" class=\"dataframe\">\n",
       "  <thead>\n",
       "    <tr style=\"text-align: right;\">\n",
       "      <th></th>\n",
       "      <th>Pregnancies</th>\n",
       "      <th>Glucose</th>\n",
       "      <th>BloodPressure</th>\n",
       "      <th>SkinThickness</th>\n",
       "      <th>Insulin</th>\n",
       "      <th>BMI</th>\n",
       "      <th>DiabetesPedigreeFunction</th>\n",
       "      <th>Age</th>\n",
       "      <th>Class</th>\n",
       "    </tr>\n",
       "  </thead>\n",
       "  <tbody>\n",
       "    <tr>\n",
       "      <th>0</th>\n",
       "      <td>6</td>\n",
       "      <td>148</td>\n",
       "      <td>72</td>\n",
       "      <td>35</td>\n",
       "      <td>0</td>\n",
       "      <td>33.6</td>\n",
       "      <td>0.627</td>\n",
       "      <td>50</td>\n",
       "      <td>1</td>\n",
       "    </tr>\n",
       "    <tr>\n",
       "      <th>1</th>\n",
       "      <td>1</td>\n",
       "      <td>85</td>\n",
       "      <td>66</td>\n",
       "      <td>29</td>\n",
       "      <td>0</td>\n",
       "      <td>26.6</td>\n",
       "      <td>0.351</td>\n",
       "      <td>31</td>\n",
       "      <td>0</td>\n",
       "    </tr>\n",
       "    <tr>\n",
       "      <th>2</th>\n",
       "      <td>8</td>\n",
       "      <td>183</td>\n",
       "      <td>64</td>\n",
       "      <td>0</td>\n",
       "      <td>0</td>\n",
       "      <td>23.3</td>\n",
       "      <td>0.672</td>\n",
       "      <td>32</td>\n",
       "      <td>1</td>\n",
       "    </tr>\n",
       "    <tr>\n",
       "      <th>3</th>\n",
       "      <td>1</td>\n",
       "      <td>89</td>\n",
       "      <td>66</td>\n",
       "      <td>23</td>\n",
       "      <td>94</td>\n",
       "      <td>28.1</td>\n",
       "      <td>0.167</td>\n",
       "      <td>21</td>\n",
       "      <td>0</td>\n",
       "    </tr>\n",
       "    <tr>\n",
       "      <th>4</th>\n",
       "      <td>0</td>\n",
       "      <td>137</td>\n",
       "      <td>40</td>\n",
       "      <td>35</td>\n",
       "      <td>168</td>\n",
       "      <td>43.1</td>\n",
       "      <td>2.288</td>\n",
       "      <td>33</td>\n",
       "      <td>1</td>\n",
       "    </tr>\n",
       "  </tbody>\n",
       "</table>\n",
       "</div>"
      ],
      "text/plain": [
       "   Pregnancies  Glucose  BloodPressure  SkinThickness  Insulin   BMI  \\\n",
       "0            6      148             72             35        0  33.6   \n",
       "1            1       85             66             29        0  26.6   \n",
       "2            8      183             64              0        0  23.3   \n",
       "3            1       89             66             23       94  28.1   \n",
       "4            0      137             40             35      168  43.1   \n",
       "\n",
       "   DiabetesPedigreeFunction  Age  Class  \n",
       "0                     0.627   50      1  \n",
       "1                     0.351   31      0  \n",
       "2                     0.672   32      1  \n",
       "3                     0.167   21      0  \n",
       "4                     2.288   33      1  "
      ]
     },
     "execution_count": 2,
     "metadata": {},
     "output_type": "execute_result"
    }
   ],
   "source": [
    "filename = '../dataset/pima-indians-diabetes.data.csv'\n",
    "\n",
    "dataframe = pd.read_csv(filename, header= -1)\n",
    "dataframe.columns = ['Pregnancies', 'Glucose', 'BloodPressure', 'SkinThickness', 'Insulin', 'BMI', 'DiabetesPedigreeFunction', 'Age', 'Class']\n",
    "dataframe.head()"
   ]
  },
  {
   "cell_type": "code",
   "execution_count": 3,
   "metadata": {},
   "outputs": [
    {
     "data": {
      "text/plain": [
       "array([[  6.   , 148.   ,  72.   , ...,   0.627,  50.   ,   1.   ],\n",
       "       [  1.   ,  85.   ,  66.   , ...,   0.351,  31.   ,   0.   ],\n",
       "       [  8.   , 183.   ,  64.   , ...,   0.672,  32.   ,   1.   ],\n",
       "       ...,\n",
       "       [  5.   , 121.   ,  72.   , ...,   0.245,  30.   ,   0.   ],\n",
       "       [  1.   , 126.   ,  60.   , ...,   0.349,  47.   ,   1.   ],\n",
       "       [  1.   ,  93.   ,  70.   , ...,   0.315,  23.   ,   0.   ]])"
      ]
     },
     "execution_count": 3,
     "metadata": {},
     "output_type": "execute_result"
    }
   ],
   "source": [
    "array = dataframe.values # 손 쉬운 indexing을 위하여 array로 변형\n",
    "array"
   ]
  },
  {
   "cell_type": "code",
   "execution_count": 4,
   "metadata": {},
   "outputs": [
    {
     "name": "stdout",
     "output_type": "stream",
     "text": [
      "X: [[6.000e+00 1.480e+02 7.200e+01 3.500e+01 0.000e+00 3.360e+01 6.270e-01\n",
      "  5.000e+01]\n",
      " [1.000e+00 8.500e+01 6.600e+01 2.900e+01 0.000e+00 2.660e+01 3.510e-01\n",
      "  3.100e+01]\n",
      " [8.000e+00 1.830e+02 6.400e+01 0.000e+00 0.000e+00 2.330e+01 6.720e-01\n",
      "  3.200e+01]\n",
      " [1.000e+00 8.900e+01 6.600e+01 2.300e+01 9.400e+01 2.810e+01 1.670e-01\n",
      "  2.100e+01]\n",
      " [0.000e+00 1.370e+02 4.000e+01 3.500e+01 1.680e+02 4.310e+01 2.288e+00\n",
      "  3.300e+01]]\n",
      "y: [1 0 1 0 1]\n"
     ]
    }
   ],
   "source": [
    "X = array[:,0:8].astype(float)  # 0 - 7 column은 독립변수\n",
    "Y = array[:,8].astype(int) # 마지막 column은 종속변수\n",
    "\n",
    "print('X:',X[:5])\n",
    "print('y:',Y[:5])"
   ]
  },
  {
   "cell_type": "code",
   "execution_count": 5,
   "metadata": {},
   "outputs": [
    {
     "name": "stdout",
     "output_type": "stream",
     "text": [
      "Number of train set: 537\n",
      "Number of test set: 231\n"
     ]
    }
   ],
   "source": [
    "train_x, test_x, train_y, test_y = train_test_split(X, Y, test_size=0.3, random_state=0)\n",
    "print('Number of train set:', len(train_x))\n",
    "print('Number of test set:', len(test_x))"
   ]
  },
  {
   "cell_type": "code",
   "execution_count": 6,
   "metadata": {},
   "outputs": [],
   "source": [
    "assert len(train_x) == len(train_y)\n",
    "assert len(test_x) == len(test_y)"
   ]
  },
  {
   "cell_type": "code",
   "execution_count": 7,
   "metadata": {},
   "outputs": [
    {
     "data": {
      "text/plain": [
       "array([  1,   2,   4,   8,  16,  32,  64, 128, 256])"
      ]
     },
     "execution_count": 7,
     "metadata": {},
     "output_type": "execute_result"
    }
   ],
   "source": [
    "# hyperparameters\n",
    "seed = 1\n",
    "k = 5\n",
    "num_trees = np.power(2, range(9))\n",
    "num_trees"
   ]
  },
  {
   "cell_type": "code",
   "execution_count": 8,
   "metadata": {},
   "outputs": [
    {
     "data": {
      "text/plain": [
       "KFold(n_splits=5, random_state=1, shuffle=False)"
      ]
     },
     "execution_count": 8,
     "metadata": {},
     "output_type": "execute_result"
    }
   ],
   "source": [
    "kfold = model_selection.KFold(n_splits=k, random_state=seed)\n",
    "kfold"
   ]
  },
  {
   "cell_type": "code",
   "execution_count": 9,
   "metadata": {},
   "outputs": [
    {
     "name": "stdout",
     "output_type": "stream",
     "text": [
      "--------------------------------------------------------------------------------\n",
      "Trees :  1\n",
      "Each k-fold perf :  [0.51282051 0.73913043 0.56097561 0.52777778 0.58823529]\n",
      "Mean Accuracy : 0.5858\n",
      "--------------------------------------------------------------------------------\n",
      "Trees :  2\n",
      "Each k-fold perf :  [0.55737705 0.63888889 0.5483871  0.40677966 0.56140351]\n",
      "Mean Accuracy : 0.5426\n",
      "--------------------------------------------------------------------------------\n",
      "Trees :  4\n",
      "Each k-fold perf :  [0.54545455 0.75       0.59375    0.44444444 0.52631579]\n",
      "Mean Accuracy : 0.5720\n",
      "--------------------------------------------------------------------------------\n",
      "Trees :  8\n",
      "Each k-fold perf :  [0.50793651 0.70731707 0.67647059 0.49315068 0.5862069 ]\n",
      "Mean Accuracy : 0.5942\n",
      "--------------------------------------------------------------------------------\n",
      "Trees :  16\n",
      "Each k-fold perf :  [0.53968254 0.73417722 0.68493151 0.54794521 0.59016393]\n",
      "Mean Accuracy : 0.6194\n",
      "--------------------------------------------------------------------------------\n",
      "Trees :  32\n",
      "Each k-fold perf :  [0.59701493 0.69047619 0.67605634 0.51428571 0.63333333]\n",
      "Mean Accuracy : 0.6222\n",
      "--------------------------------------------------------------------------------\n",
      "Trees :  64\n",
      "Each k-fold perf :  [0.61764706 0.71428571 0.68571429 0.55555556 0.65625   ]\n",
      "Mean Accuracy : 0.6459\n",
      "--------------------------------------------------------------------------------\n",
      "Trees :  128\n",
      "Each k-fold perf :  [0.64788732 0.72727273 0.63013699 0.5        0.65625   ]\n",
      "Mean Accuracy : 0.6323\n",
      "--------------------------------------------------------------------------------\n",
      "Trees :  256\n",
      "Each k-fold perf :  [0.60869565 0.70454545 0.63013699 0.54285714 0.64516129]\n",
      "Mean Accuracy : 0.6263\n"
     ]
    }
   ],
   "source": [
    "perf = {}\n",
    "\n",
    "for n_tree in num_trees:\n",
    "    # tree 생성\n",
    "    DT = DecisionTreeClassifier()\n",
    "\n",
    "    # bagging 모델 생성\n",
    "    bag_model = BaggingClassifier(base_estimator=DT, n_estimators=n_tree, random_state=seed, max_samples=0.5)\n",
    "    results = model_selection.cross_val_score(bag_model, train_x, train_y, scoring='f1', cv=kfold)\n",
    "    print('-'*80)\n",
    "    print(\"Trees : \", n_tree)\n",
    "    print(\"Each k-fold perf : \", results)\n",
    "    print(\"Mean Accuracy : {:.4f}\".format(results.mean()))\n",
    "    \n",
    "    perf[n_tree] = results.mean()"
   ]
  },
  {
   "cell_type": "code",
   "execution_count": 10,
   "metadata": {},
   "outputs": [
    {
     "data": {
      "text/plain": [
       "64"
      ]
     },
     "execution_count": 10,
     "metadata": {},
     "output_type": "execute_result"
    }
   ],
   "source": [
    "best_n_tree = max(perf, key=lambda x: perf[x])\n",
    "best_n_tree"
   ]
  },
  {
   "cell_type": "markdown",
   "metadata": {},
   "source": [
    "- 최적의 파라미터를 찾은 후 모델 결정"
   ]
  },
  {
   "cell_type": "code",
   "execution_count": 11,
   "metadata": {},
   "outputs": [],
   "source": [
    "DT = DecisionTreeClassifier()\n",
    "best_bag_model = BaggingClassifier(base_estimator=DT, n_estimators=best_n_tree, random_state=seed, max_samples=0.5)"
   ]
  },
  {
   "cell_type": "code",
   "execution_count": 12,
   "metadata": {},
   "outputs": [
    {
     "data": {
      "text/plain": [
       "BaggingClassifier(base_estimator=DecisionTreeClassifier(class_weight=None, criterion='gini', max_depth=None,\n",
       "            max_features=None, max_leaf_nodes=None,\n",
       "            min_impurity_decrease=0.0, min_impurity_split=None,\n",
       "            min_samples_leaf=1, min_samples_split=2,\n",
       "            min_weight_fraction_leaf=0.0, presort=False, random_state=None,\n",
       "            splitter='best'),\n",
       "         bootstrap=True, bootstrap_features=False, max_features=1.0,\n",
       "         max_samples=0.5, n_estimators=64, n_jobs=None, oob_score=False,\n",
       "         random_state=1, verbose=0, warm_start=False)"
      ]
     },
     "execution_count": 12,
     "metadata": {},
     "output_type": "execute_result"
    }
   ],
   "source": [
    "best_bag_model.fit(train_x,train_y)"
   ]
  },
  {
   "cell_type": "code",
   "execution_count": 13,
   "metadata": {},
   "outputs": [
    {
     "data": {
      "text/plain": [
       "array([1, 0, 0, 1, 0, 0, 1, 1, 0, 0, 1, 1, 0, 0, 0, 0, 1, 0, 1, 0, 1, 0,\n",
       "       0, 0, 0, 0, 0, 1, 0, 0, 0, 0, 0, 1, 0, 1, 0, 0, 0, 1, 0, 0, 0, 1,\n",
       "       1, 0, 0, 0, 0, 0, 0, 0, 1, 1, 0, 0, 0, 1, 0, 0, 1, 1, 0, 1, 1, 1,\n",
       "       1, 0, 0, 0, 0, 0, 0, 1, 1, 0, 0, 1, 0, 0, 0, 0, 0, 0, 0, 0, 0, 0,\n",
       "       1, 0, 0, 0, 0, 0, 1, 0, 0, 0, 1, 0, 0, 0, 0, 0, 1, 0, 0, 0, 0, 1,\n",
       "       0, 0, 1, 1, 1, 1, 0, 1, 0, 1, 0, 0, 0, 0, 0, 0, 0, 0, 0, 1, 0, 0,\n",
       "       0, 1, 0, 0, 0, 0, 0, 0, 0, 1, 0, 0, 1, 0, 0, 0, 0, 0, 0, 0, 0, 0,\n",
       "       1, 0, 1, 0, 1, 1, 1, 1, 0, 0, 1, 0, 0, 0, 0, 0, 0, 0, 0, 0, 1, 0,\n",
       "       0, 0, 0, 0, 0, 1, 0, 1, 0, 0, 1, 0, 1, 0, 0, 0, 0, 0, 0, 0, 1, 0,\n",
       "       0, 0, 0, 0, 0, 0, 0, 0, 0, 0, 0, 0, 0, 0, 0, 0, 0, 0, 0, 0, 0, 0,\n",
       "       0, 0, 1, 1, 1, 1, 0, 0, 0, 0, 1])"
      ]
     },
     "execution_count": 13,
     "metadata": {},
     "output_type": "execute_result"
    }
   ],
   "source": [
    "test_pred_y = best_bag_model.predict(test_x)\n",
    "test_pred_y"
   ]
  },
  {
   "cell_type": "code",
   "execution_count": 14,
   "metadata": {},
   "outputs": [
    {
     "data": {
      "text/plain": [
       "0.6119402985074627"
      ]
     },
     "execution_count": 14,
     "metadata": {},
     "output_type": "execute_result"
    }
   ],
   "source": [
    "f1_score(y_true= test_y, y_pred= test_pred_y)"
   ]
  },
  {
   "cell_type": "markdown",
   "metadata": {},
   "source": [
    "- 변수중요도\n",
    "    - 모델이름.feature_importances_"
   ]
  },
  {
   "cell_type": "code",
   "execution_count": 15,
   "metadata": {},
   "outputs": [
    {
     "data": {
      "text/plain": [
       "Glucose                     0.336738\n",
       "BMI                         0.163339\n",
       "DiabetesPedigreeFunction    0.130176\n",
       "Age                         0.122654\n",
       "BloodPressure               0.082784\n",
       "Pregnancies                 0.061645\n",
       "Insulin                     0.053006\n",
       "SkinThickness               0.049658\n",
       "dtype: float64"
      ]
     },
     "execution_count": 15,
     "metadata": {},
     "output_type": "execute_result"
    }
   ],
   "source": [
    "def get_variable_importance(model):\n",
    "    return np.mean([tree.feature_importances_ for tree in best_bag_model.estimators_], axis =0)\n",
    "\n",
    "var_df = pd.Series(get_variable_importance(best_bag_model), index = dataframe.columns[:-1])\n",
    "\n",
    "var_df.sort_values(ascending=False)"
   ]
  },
  {
   "cell_type": "code",
   "execution_count": 16,
   "metadata": {},
   "outputs": [
    {
     "data": {
      "text/plain": [
       "Index(['Pregnancies', 'Glucose', 'BloodPressure', 'SkinThickness', 'Insulin',\n",
       "       'BMI', 'DiabetesPedigreeFunction', 'Age', 'Class'],\n",
       "      dtype='object')"
      ]
     },
     "execution_count": 16,
     "metadata": {},
     "output_type": "execute_result"
    }
   ],
   "source": [
    "dataframe.columns"
   ]
  },
  {
   "cell_type": "markdown",
   "metadata": {},
   "source": [
    "# __Package를 사용하여 random forest 코드 작성__"
   ]
  },
  {
   "cell_type": "code",
   "execution_count": 17,
   "metadata": {},
   "outputs": [],
   "source": [
    "# sklearn으로 random forest 만들기\n",
    "# https://scikit-learn.org/stable/modules/generated/sklearn.ensemble.RandomForestClassifier.html\n",
    "\n",
    "import pandas as pd\n",
    "from sklearn import model_selection\n",
    "from sklearn.ensemble import RandomForestClassifier"
   ]
  },
  {
   "cell_type": "code",
   "execution_count": 18,
   "metadata": {},
   "outputs": [
    {
     "name": "stdout",
     "output_type": "stream",
     "text": [
      "--------------------------------------------------------------------------------\n",
      "Trees :  1\n",
      "Each k-fold perf :  [0.52380952 0.68181818 0.50549451 0.58666667 0.48484848]\n",
      "Mean Accuracy : 0.5565\n",
      "--------------------------------------------------------------------------------\n",
      "Trees :  2\n",
      "Each k-fold perf :  [0.47058824 0.58974359 0.51612903 0.5        0.45283019]\n",
      "Mean Accuracy : 0.5059\n",
      "--------------------------------------------------------------------------------\n",
      "Trees :  4\n",
      "Each k-fold perf :  [0.5483871  0.69767442 0.57971014 0.48275862 0.52631579]\n",
      "Mean Accuracy : 0.5670\n",
      "--------------------------------------------------------------------------------\n",
      "Trees :  8\n",
      "Each k-fold perf :  [0.56716418 0.70588235 0.56338028 0.47058824 0.43636364]\n",
      "Mean Accuracy : 0.5487\n",
      "--------------------------------------------------------------------------------\n",
      "Trees :  16\n",
      "Each k-fold perf :  [0.6        0.6744186  0.62857143 0.52941176 0.45614035]\n",
      "Mean Accuracy : 0.5777\n",
      "--------------------------------------------------------------------------------\n",
      "Trees :  32\n",
      "Each k-fold perf :  [0.57971014 0.69767442 0.62857143 0.53521127 0.51724138]\n",
      "Mean Accuracy : 0.5917\n",
      "--------------------------------------------------------------------------------\n",
      "Trees :  64\n",
      "Each k-fold perf :  [0.61764706 0.68965517 0.64788732 0.49275362 0.6       ]\n",
      "Mean Accuracy : 0.6096\n",
      "--------------------------------------------------------------------------------\n",
      "Trees :  128\n",
      "Each k-fold perf :  [0.54545455 0.68965517 0.67605634 0.50704225 0.64516129]\n",
      "Mean Accuracy : 0.6127\n",
      "--------------------------------------------------------------------------------\n",
      "Trees :  256\n",
      "Each k-fold perf :  [0.55384615 0.68965517 0.66666667 0.47887324 0.70967742]\n",
      "Mean Accuracy : 0.6197\n"
     ]
    }
   ],
   "source": [
    "perf = {}\n",
    "\n",
    "for n_tree in num_trees:\n",
    "\n",
    "    # Randomforest 모델 생성\n",
    "    rf_model = RandomForestClassifier(n_estimators=n_tree, random_state=seed)\n",
    "    results = model_selection.cross_val_score(rf_model, train_x, train_y, scoring='f1', cv=kfold)\n",
    "    print('-'*80)\n",
    "    print(\"Trees : \", n_tree)\n",
    "    print(\"Each k-fold perf : \", results)\n",
    "    print(\"Mean Accuracy : {:.4f}\".format(results.mean()))\n",
    "    \n",
    "    perf[n_tree] = results.mean()"
   ]
  },
  {
   "cell_type": "code",
   "execution_count": 19,
   "metadata": {},
   "outputs": [
    {
     "data": {
      "text/plain": [
       "256"
      ]
     },
     "execution_count": 19,
     "metadata": {},
     "output_type": "execute_result"
    }
   ],
   "source": [
    "best_n_tree = max(perf, key=lambda x: perf[x])\n",
    "best_n_tree"
   ]
  },
  {
   "cell_type": "markdown",
   "metadata": {},
   "source": [
    "- 최적의 파라미터를 찾은 후 모델 결정"
   ]
  },
  {
   "cell_type": "code",
   "execution_count": 20,
   "metadata": {},
   "outputs": [],
   "source": [
    "best_rf_model = RandomForestClassifier(n_estimators=best_n_tree, random_state=seed)"
   ]
  },
  {
   "cell_type": "code",
   "execution_count": 21,
   "metadata": {},
   "outputs": [
    {
     "data": {
      "text/plain": [
       "RandomForestClassifier(bootstrap=True, class_weight=None, criterion='gini',\n",
       "            max_depth=None, max_features='auto', max_leaf_nodes=None,\n",
       "            min_impurity_decrease=0.0, min_impurity_split=None,\n",
       "            min_samples_leaf=1, min_samples_split=2,\n",
       "            min_weight_fraction_leaf=0.0, n_estimators=256, n_jobs=None,\n",
       "            oob_score=False, random_state=1, verbose=0, warm_start=False)"
      ]
     },
     "execution_count": 21,
     "metadata": {},
     "output_type": "execute_result"
    }
   ],
   "source": [
    "best_rf_model.fit(train_x,train_y)"
   ]
  },
  {
   "cell_type": "code",
   "execution_count": 22,
   "metadata": {},
   "outputs": [
    {
     "data": {
      "text/plain": [
       "array([1, 0, 0, 0, 0, 0, 1, 1, 0, 0, 1, 1, 0, 0, 0, 0, 1, 0, 1, 0, 1, 0,\n",
       "       0, 0, 0, 0, 0, 1, 0, 0, 0, 0, 0, 1, 0, 1, 0, 0, 0, 1, 0, 0, 0, 1,\n",
       "       1, 0, 0, 0, 0, 0, 0, 0, 1, 1, 0, 0, 0, 0, 0, 0, 1, 1, 0, 1, 1, 0,\n",
       "       1, 0, 1, 0, 0, 0, 0, 1, 1, 0, 0, 1, 0, 0, 0, 0, 0, 0, 0, 0, 0, 0,\n",
       "       1, 0, 0, 0, 0, 0, 1, 0, 0, 0, 0, 1, 0, 0, 0, 0, 0, 1, 0, 0, 0, 1,\n",
       "       0, 0, 1, 1, 1, 1, 0, 1, 0, 1, 0, 0, 0, 0, 0, 0, 0, 0, 0, 1, 0, 0,\n",
       "       0, 1, 0, 1, 0, 0, 0, 0, 0, 1, 0, 0, 1, 0, 0, 0, 0, 0, 0, 0, 0, 0,\n",
       "       1, 0, 1, 0, 0, 1, 1, 0, 0, 0, 1, 0, 0, 0, 0, 0, 0, 0, 0, 0, 0, 0,\n",
       "       0, 0, 0, 0, 0, 1, 0, 1, 0, 0, 1, 0, 1, 0, 0, 0, 0, 0, 0, 1, 1, 0,\n",
       "       0, 0, 0, 0, 0, 1, 0, 0, 0, 0, 0, 0, 0, 0, 0, 0, 0, 0, 0, 0, 0, 0,\n",
       "       0, 0, 1, 1, 1, 1, 0, 0, 0, 0, 1])"
      ]
     },
     "execution_count": 22,
     "metadata": {},
     "output_type": "execute_result"
    }
   ],
   "source": [
    "test_pred_y = best_rf_model.predict(test_x)\n",
    "test_pred_y"
   ]
  },
  {
   "cell_type": "code",
   "execution_count": 23,
   "metadata": {},
   "outputs": [
    {
     "data": {
      "text/plain": [
       "0.5909090909090909"
      ]
     },
     "execution_count": 23,
     "metadata": {},
     "output_type": "execute_result"
    }
   ],
   "source": [
    "f1_score(y_true= test_y, y_pred= test_pred_y)"
   ]
  },
  {
   "cell_type": "markdown",
   "metadata": {},
   "source": [
    "- 변수중요도\n",
    "    - 모델이름.feature_importances_"
   ]
  },
  {
   "cell_type": "code",
   "execution_count": 24,
   "metadata": {},
   "outputs": [
    {
     "data": {
      "text/plain": [
       "array([0.08073718, 0.26055887, 0.08316885, 0.06775128, 0.07522758,\n",
       "       0.16275789, 0.12784155, 0.14195681])"
      ]
     },
     "execution_count": 24,
     "metadata": {},
     "output_type": "execute_result"
    }
   ],
   "source": [
    "best_rf_model.feature_importances_"
   ]
  },
  {
   "cell_type": "code",
   "execution_count": 25,
   "metadata": {},
   "outputs": [
    {
     "data": {
      "text/plain": [
       "Glucose                     0.260559\n",
       "BMI                         0.162758\n",
       "Age                         0.141957\n",
       "DiabetesPedigreeFunction    0.127842\n",
       "BloodPressure               0.083169\n",
       "Pregnancies                 0.080737\n",
       "Insulin                     0.075228\n",
       "SkinThickness               0.067751\n",
       "dtype: float64"
      ]
     },
     "execution_count": 25,
     "metadata": {},
     "output_type": "execute_result"
    }
   ],
   "source": [
    "var_df = pd.Series(best_rf_model.feature_importances_, index = dataframe.columns[:-1])\n",
    "var_df.sort_values(ascending=False)"
   ]
  }
 ],
 "metadata": {
  "kernelspec": {
   "display_name": "Python 3",
   "language": "python",
   "name": "python3"
  },
  "language_info": {
   "codemirror_mode": {
    "name": "ipython",
    "version": 3
   },
   "file_extension": ".py",
   "mimetype": "text/x-python",
   "name": "python",
   "nbconvert_exporter": "python",
   "pygments_lexer": "ipython3",
   "version": "3.7.3"
  }
 },
 "nbformat": 4,
 "nbformat_minor": 2
}
