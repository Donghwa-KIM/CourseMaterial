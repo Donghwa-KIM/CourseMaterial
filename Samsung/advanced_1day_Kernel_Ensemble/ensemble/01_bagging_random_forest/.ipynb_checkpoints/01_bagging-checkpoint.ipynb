{
 "cells": [
  {
   "cell_type": "markdown",
   "metadata": {},
   "source": [
    "# __Ensembles__"
   ]
  },
  {
   "cell_type": "markdown",
   "metadata": {},
   "source": [
    "### __Ensembles almost always work better__"
   ]
  },
  {
   "cell_type": "markdown",
   "metadata": {},
   "source": [
    "### Bias & Variance"
   ]
  },
  {
   "cell_type": "markdown",
   "metadata": {},
   "source": [
    "![Alt text](../images/bias.png)"
   ]
  },
  {
   "cell_type": "markdown",
   "metadata": {},
   "source": [
    "## 앙상블의목적: 다수의모델을학습하여오류의감소를추구\n",
    ">분산의감소에의한오류감소: 배깅(Bagging), 랜덤포레스트(Random Forest) <br>\n",
    ">편향의감소에의한오류감소: 부스팅(Boosting)"
   ]
  },
  {
   "cell_type": "markdown",
   "metadata": {},
   "source": [
    "# __Bagging__"
   ]
  },
  {
   "cell_type": "markdown",
   "metadata": {},
   "source": [
    "### Bagging: Bootstrapp Aggregating\n",
    "> 앙상블의 각 멤버(모델)은 서로 다른 학습 데이터셋을 이용 <br>\n",
    "> 개별 데이터셋을 붓스트랩(bootstrap)이라 부름"
   ]
  },
  {
   "cell_type": "markdown",
   "metadata": {},
   "source": [
    "![Alt text](../images/bagging.png)"
   ]
  },
  {
   "cell_type": "markdown",
   "metadata": {},
   "source": [
    "### __밑바닥부터 bagging 코드 짜기__"
   ]
  },
  {
   "cell_type": "code",
   "execution_count": 1,
   "metadata": {},
   "outputs": [],
   "source": [
    "from random import seed\n",
    "from random import randrange\n",
    "from csv import reader\n",
    "\n",
    "\"\"\" file 읽기 \"\"\"\n",
    "def load_csv(filename):\n",
    "    dataset = list()\n",
    "    with open(filename, 'r') as file:\n",
    "        csv_reader = reader(file)\n",
    "        for row in csv_reader:\n",
    "            dataset.append(row)\n",
    "    return dataset"
   ]
  },
  {
   "cell_type": "code",
   "execution_count": 2,
   "metadata": {},
   "outputs": [
    {
     "data": {
      "text/plain": [
       "<_csv.reader at 0x7ff2effb3748>"
      ]
     },
     "execution_count": 2,
     "metadata": {},
     "output_type": "execute_result"
    }
   ],
   "source": [
    "filename = '../dataset/pima-indians-diabetes.data.csv'\n",
    "file = open(filename, 'r')\n",
    "csv_reader = reader(file)\n",
    "csv_reader"
   ]
  },
  {
   "cell_type": "markdown",
   "metadata": {},
   "source": [
    "- ```list``` vs ```iterator```"
   ]
  },
  {
   "cell_type": "code",
   "execution_count": 3,
   "metadata": {},
   "outputs": [
    {
     "data": {
      "text/plain": [
       "['6', '148', '72', '35', '0', '33.6', '0.627', '50', '1']"
      ]
     },
     "execution_count": 3,
     "metadata": {},
     "output_type": "execute_result"
    }
   ],
   "source": [
    "next(csv_reader)"
   ]
  },
  {
   "cell_type": "code",
   "execution_count": 4,
   "metadata": {},
   "outputs": [
    {
     "data": {
      "text/plain": [
       "[['6', '148', '72', '35', '0', '33.6', '0.627', '50', '1'],\n",
       " ['1', '85', '66', '29', '0', '26.6', '0.351', '31', '0'],\n",
       " ['8', '183', '64', '0', '0', '23.3', '0.672', '32', '1'],\n",
       " ['1', '89', '66', '23', '94', '28.1', '0.167', '21', '0'],\n",
       " ['0', '137', '40', '35', '168', '43.1', '2.288', '33', '1'],\n",
       " ['5', '116', '74', '0', '0', '25.6', '0.201', '30', '0'],\n",
       " ['3', '78', '50', '32', '88', '31.0', '0.248', '26', '1'],\n",
       " ['10', '115', '0', '0', '0', '35.3', '0.134', '29', '0'],\n",
       " ['2', '197', '70', '45', '543', '30.5', '0.158', '53', '1'],\n",
       " ['8', '125', '96', '0', '0', '0.0', '0.232', '54', '1']]"
      ]
     },
     "execution_count": 4,
     "metadata": {},
     "output_type": "execute_result"
    }
   ],
   "source": [
    "dataset = load_csv(filename)\n",
    "dataset[:10]"
   ]
  },
  {
   "cell_type": "code",
   "execution_count": 5,
   "metadata": {},
   "outputs": [],
   "source": [
    "# hyperparameters\n",
    "n_trees = 3\n",
    "n_folds = 5 # cross-validation\n",
    "max_depth = 6 # tree\n",
    "min_size = 2 # tree\n",
    "sample_size = 0.5 # tree"
   ]
  },
  {
   "cell_type": "markdown",
   "metadata": {},
   "source": [
    "```python\n",
    "\"\"\"Total Process \"\"\"\n",
    "#def evaluate_algorithm(dataset, bagging, n_folds, *args):\n",
    "    folds = cross_validation_split(dataset, n_folds)\n",
    "#     scores = list()\n",
    "#     for fold in folds:\n",
    "#         train_set = list(folds) # 5-fold\n",
    "#         train_set.remove(fold) # remove 1-fold\n",
    "#         train_set = sum(train_set, []) #4-fold\n",
    "#         test_set = list()\n",
    "#         for row in fold:\n",
    "#             row_copy = list(row)\n",
    "#             test_set.append(row_copy)\n",
    "#             row_copy[-1] = None\n",
    "#         predicted = bagging(train_set, test_set, *args)\n",
    "#         actual = [row[-1] for row in fold]\n",
    "#         accuracy = accuracy_metric(actual, predicted)\n",
    "#         scores.append(accuracy)\n",
    "#     return scores\n",
    "```"
   ]
  },
  {
   "cell_type": "markdown",
   "metadata": {},
   "source": [
    "---"
   ]
  },
  {
   "cell_type": "markdown",
   "metadata": {},
   "source": [
    "- cross_validation_split"
   ]
  },
  {
   "cell_type": "markdown",
   "metadata": {},
   "source": [
    "<p align=\"center\"><img width=\"600\" height=\"auto\" src=\"../images/k-fold.jpg\"></p>"
   ]
  },
  {
   "cell_type": "code",
   "execution_count": 6,
   "metadata": {},
   "outputs": [],
   "source": [
    "def _cross_validation_split(dataset, n_folds):\n",
    "    '''\n",
    "    case1) copy를 사용하지 않은 경우\n",
    "    '''\n",
    "    dataset_split = list()\n",
    "    fold_size = int(len(dataset) / n_folds)\n",
    "    for _ in range(n_folds):\n",
    "        fold = list()\n",
    "        while len(fold) < fold_size:\n",
    "            \n",
    "            print('-'*10)\n",
    "            print('sample space: {}'.format(len(dataset)))\n",
    "            index = randrange(len(dataset)) # 0~n까지 정수하나를 샘플링\n",
    "            print('sampling {} index'.format(index))\n",
    "            \n",
    "            fold.append(dataset.pop(index)) # pop을 통하여 fold 내에서의 중복은 불허\n",
    "            \n",
    "        dataset_split.append(fold) # 전체적으로는 복원 추출\n",
    "    return dataset_split\n",
    "\n",
    "def cross_validation_split(dataset, n_folds):\n",
    "    '''\n",
    "    case2) copy를 사용하는 경우\n",
    "    '''\n",
    "    dataset_split = list()\n",
    "    dataset_copy = list(dataset) # or dataset.copy()\n",
    "    fold_size = int(len(dataset) / n_folds)\n",
    "    for _ in range(n_folds):\n",
    "        fold = list()\n",
    "        while len(fold) < fold_size:\n",
    "            \n",
    "            #print('-'*10)\n",
    "            #print('sample space: {}'.format(len(dataset)))\n",
    "            index = randrange(len(dataset_copy)) # 0~n까지 정수하나를 샘플링\n",
    "            #print('sampling {} index'.format(index))\n",
    "            \n",
    "            fold.append(dataset_copy.pop(index)) # pop을 통하여 fold 내에서의 중복은 불허\n",
    "            \n",
    "        dataset_split.append(fold) # 전체적으로는 복원 추출\n",
    "    return dataset_split"
   ]
  },
  {
   "cell_type": "code",
   "execution_count": 7,
   "metadata": {},
   "outputs": [
    {
     "data": {
      "text/plain": [
       "[0, 1, 2, 3, 4, 5, 6, 7, 8, 9]"
      ]
     },
     "execution_count": 7,
     "metadata": {},
     "output_type": "execute_result"
    }
   ],
   "source": [
    "n_folds = 5\n",
    "_dataset = list(range(10))\n",
    "_dataset"
   ]
  },
  {
   "cell_type": "code",
   "execution_count": 8,
   "metadata": {},
   "outputs": [
    {
     "data": {
      "text/plain": [
       "2"
      ]
     },
     "execution_count": 8,
     "metadata": {},
     "output_type": "execute_result"
    }
   ],
   "source": [
    "fold_size = int(len(_dataset) / n_folds)\n",
    "fold_size"
   ]
  },
  {
   "cell_type": "code",
   "execution_count": 9,
   "metadata": {},
   "outputs": [
    {
     "data": {
      "text/plain": [
       "0"
      ]
     },
     "execution_count": 9,
     "metadata": {},
     "output_type": "execute_result"
    }
   ],
   "source": [
    "randrange(3)"
   ]
  },
  {
   "cell_type": "code",
   "execution_count": 10,
   "metadata": {},
   "outputs": [
    {
     "name": "stdout",
     "output_type": "stream",
     "text": [
      "----------\n",
      "sample space: 10\n",
      "sampling 0 index\n",
      "----------\n",
      "sample space: 9\n",
      "sampling 8 index\n",
      "----------\n",
      "sample space: 8\n",
      "sampling 3 index\n",
      "----------\n",
      "sample space: 7\n",
      "sampling 6 index\n",
      "----------\n",
      "sample space: 6\n",
      "sampling 3 index\n",
      "----------\n",
      "sample space: 5\n",
      "sampling 1 index\n",
      "----------\n",
      "sample space: 4\n",
      "sampling 2 index\n",
      "----------\n",
      "sample space: 3\n",
      "sampling 1 index\n",
      "----------\n",
      "sample space: 2\n",
      "sampling 1 index\n",
      "----------\n",
      "sample space: 1\n",
      "sampling 0 index\n"
     ]
    },
    {
     "data": {
      "text/plain": [
       "[[0, 9], [4, 8], [5, 2], [6, 3], [7, 1]]"
      ]
     },
     "execution_count": 10,
     "metadata": {},
     "output_type": "execute_result"
    }
   ],
   "source": [
    "_cross_validation_split(_dataset, n_folds=5)"
   ]
  },
  {
   "cell_type": "code",
   "execution_count": 11,
   "metadata": {},
   "outputs": [
    {
     "data": {
      "text/plain": [
       "[]"
      ]
     },
     "execution_count": 11,
     "metadata": {},
     "output_type": "execute_result"
    }
   ],
   "source": [
    "_dataset"
   ]
  },
  {
   "cell_type": "code",
   "execution_count": 12,
   "metadata": {},
   "outputs": [
    {
     "data": {
      "text/plain": [
       "[[3, 2], [4, 6], [7, 1], [5, 0], [9, 8]]"
      ]
     },
     "execution_count": 12,
     "metadata": {},
     "output_type": "execute_result"
    }
   ],
   "source": [
    "_dataset = list(range(10))\n",
    "cross_validation_split(_dataset, n_folds=5)"
   ]
  },
  {
   "cell_type": "code",
   "execution_count": 13,
   "metadata": {},
   "outputs": [
    {
     "data": {
      "text/plain": [
       "[0, 1, 2, 3, 4, 5, 6, 7, 8, 9]"
      ]
     },
     "execution_count": 13,
     "metadata": {},
     "output_type": "execute_result"
    }
   ],
   "source": [
    "_dataset"
   ]
  },
  {
   "cell_type": "markdown",
   "metadata": {},
   "source": [
    "---"
   ]
  },
  {
   "cell_type": "markdown",
   "metadata": {},
   "source": [
    "```python\n",
    "\"\"\"Total Process \"\"\"\n",
    "#def evaluate_algorithm(dataset, bagging, n_folds, *args):\n",
    "   folds = cross_validation_split(dataset, n_folds)\n",
    "    scores = list() # k-fold에 대한 k개의 score \n",
    "    for fold in folds:\n",
    "        train_set = list(folds) # 5-fold\n",
    "        train_set.remove(fold) # remove 1-fold\n",
    "        train_set = sum(train_set, []) #4-fold\n",
    "        test_set = list()\n",
    "#         for row in fold:\n",
    "#             row_copy = list(row)\n",
    "#             test_set.append(row_copy)\n",
    "#             row_copy[-1] = None\n",
    "#         predicted = bagging(train_set, test_set, *args)\n",
    "#         actual = [row[-1] for row in fold]\n",
    "#         accuracy = accuracy_metric(actual, predicted)\n",
    "#         scores.append(accuracy)\n",
    "#     return scores\n",
    "```"
   ]
  },
  {
   "cell_type": "code",
   "execution_count": 14,
   "metadata": {},
   "outputs": [],
   "source": [
    "folds = cross_validation_split(dataset, n_folds)\n",
    "fold = folds[0]\n",
    "\n",
    "train_set = list(folds)\n",
    "train_set.remove(fold)\n",
    "test_set = list()"
   ]
  },
  {
   "cell_type": "markdown",
   "metadata": {},
   "source": [
    "- unlist"
   ]
  },
  {
   "cell_type": "code",
   "execution_count": 15,
   "metadata": {},
   "outputs": [
    {
     "name": "stdout",
     "output_type": "stream",
     "text": [
      "[153, 153, 153, 153]\n"
     ]
    }
   ],
   "source": [
    "len(train_set)\n",
    "print([len(fold) for fold in train_set])"
   ]
  },
  {
   "cell_type": "code",
   "execution_count": 16,
   "metadata": {},
   "outputs": [
    {
     "data": {
      "text/plain": [
       "612"
      ]
     },
     "execution_count": 16,
     "metadata": {},
     "output_type": "execute_result"
    }
   ],
   "source": [
    "train_set = sum(train_set, [])\n",
    "len(train_set)"
   ]
  },
  {
   "cell_type": "markdown",
   "metadata": {},
   "source": [
    "- list + list는 list들의 extend와 같음"
   ]
  },
  {
   "cell_type": "code",
   "execution_count": 17,
   "metadata": {},
   "outputs": [
    {
     "data": {
      "text/plain": [
       "[1, 2, 3]"
      ]
     },
     "execution_count": 17,
     "metadata": {},
     "output_type": "execute_result"
    }
   ],
   "source": [
    "tmp = []\n",
    "for element in [[1],[2],[3]]:\n",
    "    tmp.extend(element)\n",
    "tmp"
   ]
  },
  {
   "cell_type": "code",
   "execution_count": 18,
   "metadata": {},
   "outputs": [
    {
     "data": {
      "text/plain": [
       "[1, 2, 3]"
      ]
     },
     "execution_count": 18,
     "metadata": {},
     "output_type": "execute_result"
    }
   ],
   "source": [
    "sum([[1],[2],[3]],[])"
   ]
  },
  {
   "cell_type": "code",
   "execution_count": 19,
   "metadata": {},
   "outputs": [
    {
     "data": {
      "text/plain": [
       "[1]"
      ]
     },
     "execution_count": 19,
     "metadata": {},
     "output_type": "execute_result"
    }
   ],
   "source": [
    "[]+[1]"
   ]
  },
  {
   "cell_type": "code",
   "execution_count": 20,
   "metadata": {},
   "outputs": [
    {
     "data": {
      "text/plain": [
       "[1, 2]"
      ]
     },
     "execution_count": 20,
     "metadata": {},
     "output_type": "execute_result"
    }
   ],
   "source": [
    "[]+[1]+[2]"
   ]
  },
  {
   "cell_type": "code",
   "execution_count": 21,
   "metadata": {},
   "outputs": [
    {
     "data": {
      "text/plain": [
       "[1, 2, 3]"
      ]
     },
     "execution_count": 21,
     "metadata": {},
     "output_type": "execute_result"
    }
   ],
   "source": [
    "[]+[1]+[2]+[3]"
   ]
  },
  {
   "cell_type": "markdown",
   "metadata": {},
   "source": [
    "```python\n",
    "\"\"\"Total Process \"\"\"\n",
    "#def evaluate_algorithm(dataset, bagging, n_folds, *args):\n",
    "#    folds = cross_validation_split(dataset, n_folds)\n",
    "#     scores = list() # k-fold에 대한 k개의 score \n",
    "#     for fold in folds:\n",
    "#         train_set = list(folds) # 5-fold\n",
    "#         train_set.remove(fold) # remove 1-fold\n",
    "#         train_set = sum(train_set, []) #4-fold\n",
    "#         test_set = list()\n",
    "        for row in fold:\n",
    "            row_copy = list(row)\n",
    "            test_set.append(row_copy)\n",
    "            row_copy[-1] = None\n",
    "#         predicted = bagging(train_set, test_set, *args)\n",
    "#         actual = [row[-1] for row in fold]\n",
    "#         accuracy = accuracy_metric(actual, predicted)\n",
    "#         scores.append(accuracy)\n",
    "#     return scores\n",
    "```"
   ]
  },
  {
   "cell_type": "code",
   "execution_count": 22,
   "metadata": {},
   "outputs": [],
   "source": [
    "for row in fold:\n",
    "    row_copy = list(row)\n",
    "    test_set.append(row_copy)\n",
    "    row_copy[-1] = None # inplace operation\n",
    "    '''\n",
    "    row_copy = ['4', '90', '88', '47', '54', '37.7', '0.362', '29', None]\n",
    "    '''"
   ]
  },
  {
   "cell_type": "markdown",
   "metadata": {},
   "source": [
    "- inplace operation"
   ]
  },
  {
   "cell_type": "code",
   "execution_count": 23,
   "metadata": {},
   "outputs": [
    {
     "data": {
      "text/plain": [
       "[[1, 2, None]]"
      ]
     },
     "execution_count": 23,
     "metadata": {},
     "output_type": "execute_result"
    }
   ],
   "source": [
    "bucket = []\n",
    "a = [1,2,3]\n",
    "bucket.append(a)\n",
    "a[-1]= None\n",
    "bucket"
   ]
  },
  {
   "cell_type": "markdown",
   "metadata": {},
   "source": [
    "---"
   ]
  },
  {
   "cell_type": "markdown",
   "metadata": {},
   "source": [
    "```python\n",
    "\"\"\"Total Process \"\"\"\n",
    "#def evaluate_algorithm(dataset, bagging, n_folds, *args):\n",
    "#    folds = cross_validation_split(dataset, n_folds)\n",
    "#     scores = list() # k-fold에 대한 k개의 score \n",
    "#     for fold in folds:\n",
    "#         train_set = list(folds) # 5-fold\n",
    "#         train_set.remove(fold) # remove 1-fold\n",
    "#         train_set = sum(train_set, []) #4-fold\n",
    "#         test_set = list()\n",
    "#         for row in fold:\n",
    "#             row_copy = list(row)\n",
    "#             test_set.append(row_copy)\n",
    "#             row_copy[-1] = None\n",
    "         predicted = bagging(train_set, test_set, *args)\n",
    "#         actual = [row[-1] for row in fold]\n",
    "#         accuracy = accuracy_metric(actual, predicted)\n",
    "#         scores.append(accuracy)\n",
    "#     return scores\n",
    "```"
   ]
  },
  {
   "cell_type": "markdown",
   "metadata": {},
   "source": [
    "```python\n",
    "def bagging(train_set, test_set, max_depth, min_size, sample_size, n_trees):\n",
    "    trees = list()\n",
    "    for _ in range(n_trees):\n",
    "        sample = subsample(train_set, sample_size) # 이 부분이 실질적인 bagging\n",
    "#        tree = build_tree(sample, max_depth, min_size) # 이 부분은 분류 성능을 알아보기 위한 나무 설계\n",
    "#        trees.append(tree)\n",
    "#    predictions = [bagging_predict(trees, row) for row in test]\n",
    "#    return(predictions)\n",
    "```"
   ]
  },
  {
   "cell_type": "code",
   "execution_count": 24,
   "metadata": {},
   "outputs": [
    {
     "data": {
      "text/plain": [
       "3"
      ]
     },
     "execution_count": 24,
     "metadata": {},
     "output_type": "execute_result"
    }
   ],
   "source": [
    "n_trees"
   ]
  },
  {
   "cell_type": "code",
   "execution_count": 25,
   "metadata": {},
   "outputs": [
    {
     "data": {
      "text/plain": [
       "0.5"
      ]
     },
     "execution_count": 25,
     "metadata": {},
     "output_type": "execute_result"
    }
   ],
   "source": [
    "sample_size"
   ]
  },
  {
   "cell_type": "code",
   "execution_count": 26,
   "metadata": {},
   "outputs": [
    {
     "name": "stdout",
     "output_type": "stream",
     "text": [
      "306 rows:\n",
      "[['1', '128', '98', '41', '58', '32.0', '1.321', '33', '1'], ['10', '101', '76', '48', '180', '32.9', '0.171', '63', '0']],...\n"
     ]
    }
   ],
   "source": [
    "seed(2)\n",
    "def subsample(dataset, ratio):\n",
    "    sample = list()\n",
    "    n_sample = round(len(dataset) * ratio) # sample 수 정하기\n",
    "    while len(sample) < n_sample: # sample의 수가 채워질때까지\n",
    "        index = randrange(len(dataset)) # random하게 인덱스를 뽑기 때문에 중복된 인덱스가 충분히 등장할 수 있다(복원 추출인 이유).\n",
    "        sample.append(dataset[index])\n",
    "    return sample\n",
    "\n",
    "sample = subsample(train_set, sample_size)\n",
    "\n",
    "print(\"{} rows:\\n{},...\".format(len(sample), sample[:2]))"
   ]
  },
  {
   "cell_type": "markdown",
   "metadata": {},
   "source": [
    "```python\n",
    "def bagging(train_set, test, max_depth, min_size, sample_size, n_trees):\n",
    "#    trees = list()\n",
    "#    for _ in range(n_trees):\n",
    "#        sample = subsample(train_set, sample_size) # 이 부분이 실질적인 bagging\n",
    "        tree = build_tree(sample, max_depth, min_size) # 이 부분은 분류 성능을 알아보기 위한 나무 설계\n",
    "#        trees.append(tree)\n",
    "#    predictions = [bagging_predict(trees, row) for row in test]\n",
    "#    return(predictions)\n",
    "```"
   ]
  },
  {
   "cell_type": "code",
   "execution_count": 27,
   "metadata": {},
   "outputs": [
    {
     "name": "stdout",
     "output_type": "stream",
     "text": [
      "max_depth: 6\n",
      "min_size: 2\n"
     ]
    }
   ],
   "source": [
    "print(\"max_depth:\", max_depth)\n",
    "print(\"min_size:\", min_size)"
   ]
  },
  {
   "cell_type": "markdown",
   "metadata": {},
   "source": [
    "```python\n",
    "def build_tree(sample, max_depth, min_size):\n",
    "    root = get_split(sample)\n",
    "#    split(root, max_depth, min_size, 1)\n",
    "#    return root\n",
    "```"
   ]
  },
  {
   "cell_type": "code",
   "execution_count": 28,
   "metadata": {},
   "outputs": [],
   "source": [
    "# 최적의 split point 찾기\n",
    "\n",
    "def get_split(sample):\n",
    "    classes = list(set(row[-1] for row in sample)) # set을 통하여 중복 제거된 Y값(class)을 추려냄\n",
    "    '''\n",
    "    classes => ['1', '0']\n",
    "    '''\n",
    "    b_score = 999 # 충분히 큰 숫자(update에 사용)\n",
    "    '''\n",
    "    sample[0] => ['8', '109', '76', '39', '114', '27.9', '0.640', '31', '1']\n",
    "    '''\n",
    "    # 각 변수마다 적용\n",
    "    for index in range(len(sample[0])-1): # 마지막은 class라서 제외\n",
    "        # 각 row 데이터마다 적용\n",
    "        for row in sample:\n",
    "            '''\n",
    "            index => 0 (첫번째 변수)\n",
    "            row[index] => 8 (이 값을 기준으로 sample 데이터를 왼쪽, 오른쪽으로 split)\n",
    "            '''\n",
    "            groups = test_split(index, row[index], sample)\n",
    "            '''\n",
    "            len(groups) => 2\n",
    "            len(groups[0]) => 276\n",
    "            len(groups[0]) => 30\n",
    "            '''\n",
    "            gini = gini_index(groups, classes)\n",
    "            if gini < b_score: \n",
    "                # 이전 단계의 gini index가 더 클 경우에만 업데이트를 하겠다(지니 계수가 작을수록 leaf node에서 unique class를 가지게 됨)\n",
    "                b_index, b_value, b_score, b_groups = index, row[index], gini, groups\n",
    "    '''\n",
    "    b_index: 특정 변수의 index\n",
    "    b_value: 특정 변수의 값\n",
    "    b_score: gini index\n",
    "    b_groups: 두 그룹으로 나눠진 instance group\n",
    "    '''            \n",
    "    return {'index': b_index, 'value':b_value, 'groups':b_groups}\n",
    "\n",
    "def test_split(index, value, sample):\n",
    "    '''\n",
    "    index: 변수위치의 index\n",
    "    value: 해당 index(변수)의 값\n",
    "    sample: dataset\n",
    "    '''\n",
    "    left, right = list(), list()\n",
    "    for row in sample:\n",
    "        if row[index] < value:\n",
    "            left.append(row)\n",
    "        else:\n",
    "            right.append(row)\n",
    "    return left, right\n",
    "\n",
    "\n",
    "# 지니 계수 구하기\n",
    "def gini_index(groups, classes):\n",
    "    # 왼쪽, 오른쪽의 합이기 때문에 전체 dataset의 instances 개수와 동일\n",
    "    n_instances = int(sum([len(group) for group in groups])) # groups에는 왼쪽 instances와 오른쪽 instances들이 포함되어 있음\n",
    "    # 나무 노드의 왼쪽, 오른쪽 별로 지니 계수 구하기\n",
    "    gini = 0.0\n",
    "    for group in groups:\n",
    "        size = int(len(group))\n",
    "        if size == 0:\n",
    "            continue\n",
    "        score = 0.0\n",
    "        \n",
    "        # class별 score 구하기\n",
    "        for class_val in classes: # ['1', '0']\n",
    "            p = [row[-1] for row in group].count(class_val) / size\n",
    "            score += p * p # gini mesure\n",
    "        \n",
    "        # 최종 지니 계수\n",
    "        gini += (1.0 - score) * (size / n_instances)\n",
    "    return gini"
   ]
  },
  {
   "cell_type": "markdown",
   "metadata": {},
   "source": [
    "\n",
    "$$\n",
    "Gini = \\frac{n_{c_1}}{n_{c_1}+n_{c_2}}(1- \\sum^{c}_{i=1}(p_i)^2)+ \\frac{n_{c_2}}{n_{c_1}+n_{c_2}}(1- \\sum^{c}_{i=1}(p_i)^2)\n",
    "$$"
   ]
  },
  {
   "cell_type": "code",
   "execution_count": 29,
   "metadata": {},
   "outputs": [
    {
     "data": {
      "text/plain": [
       "{'groups': ([['1', '128', '98', '41', '58', '32.0', '1.321', '33', '1'],\n",
       "   ['10', '101', '76', '48', '180', '32.9', '0.171', '63', '0'],\n",
       "   ['6', '105', '80', '28', '0', '32.5', '0.878', '26', '0'],\n",
       "   ['7', '114', '64', '0', '0', '27.4', '0.732', '34', '1'],\n",
       "   ['6', '134', '70', '23', '130', '35.4', '0.542', '29', '1'],\n",
       "   ['0', '132', '78', '0', '0', '32.4', '0.393', '21', '0'],\n",
       "   ['2', '158', '90', '0', '0', '31.6', '0.805', '66', '1'],\n",
       "   ['7', '124', '70', '33', '215', '25.5', '0.161', '37', '0'],\n",
       "   ['1', '111', '94', '0', '0', '32.8', '0.265', '45', '0'],\n",
       "   ['9', '119', '80', '35', '0', '29.0', '0.263', '29', '1'],\n",
       "   ['0', '138', '0', '0', '0', '36.3', '0.933', '25', '1'],\n",
       "   ['5', '106', '82', '30', '0', '39.5', '0.286', '38', '0'],\n",
       "   ['0', '167', '0', '0', '0', '32.3', '0.839', '30', '1'],\n",
       "   ['0', '173', '78', '32', '265', '46.5', '1.159', '58', '0'],\n",
       "   ['3', '108', '62', '24', '0', '26.0', '0.223', '25', '0'],\n",
       "   ['7', '124', '70', '33', '215', '25.5', '0.161', '37', '0'],\n",
       "   ['9', '156', '86', '28', '155', '34.3', '1.189', '42', '1'],\n",
       "   ['6', '151', '62', '31', '120', '35.5', '0.692', '28', '0'],\n",
       "   ['10', '129', '76', '28', '122', '35.9', '0.280', '39', '0'],\n",
       "   ['2', '120', '54', '0', '0', '26.8', '0.455', '27', '0'],\n",
       "   ['7', '106', '60', '24', '0', '26.5', '0.296', '29', '1'],\n",
       "   ['6', '190', '92', '0', '0', '35.5', '0.278', '66', '1'],\n",
       "   ['0', '137', '70', '38', '0', '33.2', '0.170', '22', '0'],\n",
       "   ['4', '125', '80', '0', '0', '32.3', '0.536', '27', '1'],\n",
       "   ['0', '128', '68', '19', '180', '30.5', '1.391', '25', '1'],\n",
       "   ['0', '137', '40', '35', '168', '43.1', '2.288', '33', '1'],\n",
       "   ['1', '111', '86', '19', '0', '30.1', '0.143', '23', '0'],\n",
       "   ['4', '183', '0', '0', '0', '28.4', '0.212', '36', '1'],\n",
       "   ['4', '183', '0', '0', '0', '28.4', '0.212', '36', '1'],\n",
       "   ['1', '172', '68', '49', '579', '42.4', '0.702', '28', '1'],\n",
       "   ['0', '137', '70', '38', '0', '33.2', '0.170', '22', '0'],\n",
       "   ['8', '155', '62', '26', '495', '34.0', '0.543', '46', '1'],\n",
       "   ['7', '159', '66', '0', '0', '30.4', '0.383', '36', '1'],\n",
       "   ['2', '146', '0', '0', '0', '27.5', '0.240', '28', '1'],\n",
       "   ['6', '151', '62', '31', '120', '35.5', '0.692', '28', '0'],\n",
       "   ['7', '196', '90', '0', '0', '39.8', '0.451', '41', '1'],\n",
       "   ['1', '180', '0', '0', '0', '43.3', '0.282', '41', '1'],\n",
       "   ['1', '163', '72', '0', '0', '39.0', '1.222', '33', '1'],\n",
       "   ['0', '105', '64', '41', '142', '41.5', '0.173', '22', '0'],\n",
       "   ['1', '140', '74', '26', '180', '24.1', '0.828', '23', '0'],\n",
       "   ['3', '107', '62', '13', '48', '22.9', '0.678', '23', '1'],\n",
       "   ['1', '109', '58', '18', '116', '28.5', '0.219', '22', '0'],\n",
       "   ['4', '136', '70', '0', '0', '31.2', '1.182', '22', '1'],\n",
       "   ['3', '141', '0', '0', '0', '30.0', '0.761', '27', '1'],\n",
       "   ['10', '129', '62', '36', '0', '41.2', '0.441', '38', '1'],\n",
       "   ['0', '105', '64', '41', '142', '41.5', '0.173', '22', '0'],\n",
       "   ['8', '167', '106', '46', '231', '37.6', '0.165', '43', '1'],\n",
       "   ['0', '106', '70', '37', '148', '39.4', '0.605', '22', '0'],\n",
       "   ['1', '111', '86', '19', '0', '30.1', '0.143', '23', '0'],\n",
       "   ['1', '108', '60', '46', '178', '35.5', '0.415', '24', '0'],\n",
       "   ['3', '116', '74', '15', '105', '26.3', '0.107', '24', '0'],\n",
       "   ['0', '180', '90', '26', '90', '36.5', '0.314', '35', '1'],\n",
       "   ['5', '110', '68', '0', '0', '26.0', '0.292', '30', '0'],\n",
       "   ['3', '102', '74', '0', '0', '29.5', '0.121', '32', '0'],\n",
       "   ['2', '108', '52', '26', '63', '32.5', '0.318', '22', '0'],\n",
       "   ['7', '159', '64', '0', '0', '27.4', '0.294', '40', '0'],\n",
       "   ['1', '112', '80', '45', '132', '34.8', '0.217', '24', '0'],\n",
       "   ['2', '100', '68', '25', '71', '38.5', '0.324', '26', '0'],\n",
       "   ['2', '142', '82', '18', '64', '24.7', '0.761', '21', '0'],\n",
       "   ['0', '165', '90', '33', '680', '52.3', '0.427', '23', '0'],\n",
       "   ['2', '100', '64', '23', '0', '29.7', '0.368', '21', '0'],\n",
       "   ['1', '111', '62', '13', '182', '24.0', '0.138', '23', '0'],\n",
       "   ['1', '135', '54', '0', '0', '26.7', '0.687', '62', '0'],\n",
       "   ['0', '101', '62', '0', '0', '21.9', '0.336', '25', '0'],\n",
       "   ['9', '102', '76', '37', '0', '32.9', '0.665', '46', '1'],\n",
       "   ['1', '111', '62', '13', '182', '24.0', '0.138', '23', '0'],\n",
       "   ['2', '146', '76', '35', '194', '38.2', '0.329', '29', '0'],\n",
       "   ['9', '123', '70', '44', '94', '33.1', '0.374', '40', '0'],\n",
       "   ['1', '193', '50', '16', '375', '25.9', '0.655', '24', '0'],\n",
       "   ['1', '143', '74', '22', '61', '26.2', '0.256', '21', '0'],\n",
       "   ['5', '114', '74', '0', '0', '24.9', '0.744', '57', '0'],\n",
       "   ['8', '188', '78', '0', '0', '47.9', '0.137', '43', '1'],\n",
       "   ['3', '158', '76', '36', '245', '31.6', '0.851', '28', '1'],\n",
       "   ['1', '172', '68', '49', '579', '42.4', '0.702', '28', '1'],\n",
       "   ['5', '115', '76', '0', '0', '31.2', '0.343', '44', '1'],\n",
       "   ['1', '140', '74', '26', '180', '24.1', '0.828', '23', '0'],\n",
       "   ['0', '137', '40', '35', '168', '43.1', '2.288', '33', '1'],\n",
       "   ['3', '130', '78', '23', '79', '28.4', '0.323', '34', '1'],\n",
       "   ['2', '197', '70', '99', '0', '34.7', '0.575', '62', '1'],\n",
       "   ['2', '155', '52', '27', '540', '38.7', '0.240', '25', '1'],\n",
       "   ['4', '109', '64', '44', '99', '34.8', '0.905', '26', '1'],\n",
       "   ['6', '165', '68', '26', '168', '33.6', '0.631', '49', '0'],\n",
       "   ['6', '162', '62', '0', '0', '24.3', '0.178', '50', '1'],\n",
       "   ['4', '115', '72', '0', '0', '28.9', '0.376', '46', '1'],\n",
       "   ['1', '106', '76', '0', '0', '37.5', '0.197', '26', '0'],\n",
       "   ['2', '109', '92', '0', '0', '42.7', '0.845', '54', '0'],\n",
       "   ['4', '111', '72', '47', '207', '37.1', '1.390', '56', '1'],\n",
       "   ['3', '106', '72', '0', '0', '25.8', '0.207', '27', '0'],\n",
       "   ['3', '120', '70', '30', '135', '42.9', '0.452', '30', '0'],\n",
       "   ['3', '106', '54', '21', '158', '30.9', '0.292', '24', '0'],\n",
       "   ['8', '100', '76', '0', '0', '38.7', '0.190', '42', '0'],\n",
       "   ['4', '116', '72', '12', '87', '22.1', '0.463', '37', '0'],\n",
       "   ['0', '108', '68', '20', '0', '27.3', '0.787', '32', '0'],\n",
       "   ['2', '100', '68', '25', '71', '38.5', '0.324', '26', '0'],\n",
       "   ['10', '162', '84', '0', '0', '27.7', '0.182', '54', '0'],\n",
       "   ['0', '132', '78', '0', '0', '32.4', '0.393', '21', '0'],\n",
       "   ['0', '105', '90', '0', '0', '29.6', '0.197', '46', '0'],\n",
       "   ['13', '104', '72', '0', '0', '31.2', '0.465', '38', '1'],\n",
       "   ['0', '107', '60', '25', '0', '26.4', '0.133', '23', '0'],\n",
       "   ['5', '124', '74', '0', '0', '34.0', '0.220', '38', '1'],\n",
       "   ['6', '134', '80', '37', '370', '46.2', '0.238', '46', '1'],\n",
       "   ['1', '199', '76', '43', '0', '42.9', '1.394', '22', '1'],\n",
       "   ['1', '146', '56', '0', '0', '29.7', '0.564', '29', '0'],\n",
       "   ['2', '125', '60', '20', '140', '33.8', '0.088', '31', '0'],\n",
       "   ['4', '129', '86', '20', '270', '35.1', '0.231', '23', '0'],\n",
       "   ['8', '181', '68', '36', '495', '30.1', '0.615', '60', '1'],\n",
       "   ['0', '137', '40', '35', '168', '43.1', '2.288', '33', '1'],\n",
       "   ['4', '115', '72', '0', '0', '28.9', '0.376', '46', '1'],\n",
       "   ['5', '110', '68', '0', '0', '26.0', '0.292', '30', '0'],\n",
       "   ['3', '141', '0', '0', '0', '30.0', '0.761', '27', '1'],\n",
       "   ['0', '117', '0', '0', '0', '33.8', '0.932', '44', '0'],\n",
       "   ['4', '184', '78', '39', '277', '37.0', '0.264', '31', '1'],\n",
       "   ['6', '125', '68', '30', '120', '30.0', '0.464', '32', '0'],\n",
       "   ['10', '179', '70', '0', '0', '35.1', '0.200', '37', '0'],\n",
       "   ['0', '111', '65', '0', '0', '24.6', '0.660', '31', '0'],\n",
       "   ['11', '143', '94', '33', '146', '36.6', '0.254', '51', '1'],\n",
       "   ['8', '188', '78', '0', '0', '47.9', '0.137', '43', '1'],\n",
       "   ['9', '164', '84', '21', '0', '30.8', '0.831', '32', '1'],\n",
       "   ['7', '114', '76', '17', '110', '23.8', '0.466', '31', '0'],\n",
       "   ['1', '163', '72', '0', '0', '39.0', '1.222', '33', '1'],\n",
       "   ['0', '123', '88', '37', '0', '35.2', '0.197', '29', '0'],\n",
       "   ['5', '117', '92', '0', '0', '34.1', '0.337', '38', '0'],\n",
       "   ['9', '152', '78', '34', '171', '34.2', '0.893', '33', '1'],\n",
       "   ['5', '114', '74', '0', '0', '24.9', '0.744', '57', '0'],\n",
       "   ['5', '111', '72', '28', '0', '23.9', '0.407', '27', '0'],\n",
       "   ['6', '124', '72', '0', '0', '27.6', '0.368', '29', '1'],\n",
       "   ['0', '173', '78', '32', '265', '46.5', '1.159', '58', '0'],\n",
       "   ['7', '133', '84', '0', '0', '40.2', '0.696', '37', '0'],\n",
       "   ['2', '174', '88', '37', '120', '44.5', '0.646', '24', '1'],\n",
       "   ['5', '121', '72', '23', '112', '26.2', '0.245', '30', '0'],\n",
       "   ['1', '172', '68', '49', '579', '42.4', '0.702', '28', '1'],\n",
       "   ['3', '163', '70', '18', '105', '31.6', '0.268', '28', '1'],\n",
       "   ['3', '107', '62', '13', '48', '22.9', '0.678', '23', '1'],\n",
       "   ['7', '106', '60', '24', '0', '26.5', '0.296', '29', '1'],\n",
       "   ['4', '116', '72', '12', '87', '22.1', '0.463', '37', '0'],\n",
       "   ['2', '108', '64', '0', '0', '30.8', '0.158', '21', '0'],\n",
       "   ['7', '124', '70', '33', '215', '25.5', '0.161', '37', '0'],\n",
       "   ['0', '151', '90', '46', '0', '42.1', '0.371', '21', '1'],\n",
       "   ['1', '103', '30', '38', '83', '43.3', '0.183', '33', '0'],\n",
       "   ['8', '179', '72', '42', '130', '32.7', '0.719', '36', '1'],\n",
       "   ['2', '142', '82', '18', '64', '24.7', '0.761', '21', '0'],\n",
       "   ['13', '129', '0', '30', '0', '39.9', '0.569', '44', '1'],\n",
       "   ['5', '115', '98', '0', '0', '52.9', '0.209', '28', '1'],\n",
       "   ['2', '128', '64', '42', '0', '40.0', '1.101', '24', '0'],\n",
       "   ['8', '155', '62', '26', '495', '34.0', '0.543', '46', '1'],\n",
       "   ['12', '140', '82', '43', '325', '39.2', '0.528', '58', '1'],\n",
       "   ['13', '106', '70', '0', '0', '34.2', '0.251', '52', '0'],\n",
       "   ['4', '109', '64', '44', '99', '34.8', '0.905', '26', '1'],\n",
       "   ['6', '102', '90', '39', '0', '35.7', '0.674', '28', '0'],\n",
       "   ['2', '112', '78', '50', '140', '39.4', '0.175', '24', '0'],\n",
       "   ['9', '152', '78', '34', '171', '34.2', '0.893', '33', '1'],\n",
       "   ['7', '195', '70', '33', '145', '25.1', '0.163', '55', '1'],\n",
       "   ['1', '153', '82', '42', '485', '40.6', '0.687', '23', '0'],\n",
       "   ['9', '134', '74', '33', '60', '25.9', '0.460', '81', '0'],\n",
       "   ['6', '165', '68', '26', '168', '33.6', '0.631', '49', '0'],\n",
       "   ['1', '111', '94', '0', '0', '32.8', '0.265', '45', '0'],\n",
       "   ['1', '144', '82', '40', '0', '41.3', '0.607', '28', '0'],\n",
       "   ['2', '146', '0', '0', '0', '27.5', '0.240', '28', '1'],\n",
       "   ['1', '111', '94', '0', '0', '32.8', '0.265', '45', '0'],\n",
       "   ['3', '126', '88', '41', '235', '39.3', '0.704', '27', '0'],\n",
       "   ['10', '161', '68', '23', '132', '25.5', '0.326', '47', '1'],\n",
       "   ['1', '108', '60', '46', '178', '35.5', '0.415', '24', '0'],\n",
       "   ['10', '122', '78', '31', '0', '27.6', '0.512', '45', '0'],\n",
       "   ['14', '175', '62', '30', '0', '33.6', '0.212', '38', '1'],\n",
       "   ['0', '137', '68', '14', '148', '24.8', '0.143', '21', '0'],\n",
       "   ['2', '155', '74', '17', '96', '26.6', '0.433', '27', '1'],\n",
       "   ['5', '136', '84', '41', '88', '35.0', '0.286', '35', '1'],\n",
       "   ['0', '188', '82', '14', '185', '32.0', '0.682', '22', '1'],\n",
       "   ['0', '132', '78', '0', '0', '32.4', '0.393', '21', '0'],\n",
       "   ['14', '175', '62', '30', '0', '33.6', '0.212', '38', '1'],\n",
       "   ['0', '177', '60', '29', '478', '34.6', '1.072', '21', '1'],\n",
       "   ['12', '140', '82', '43', '325', '39.2', '0.528', '58', '1'],\n",
       "   ['3', '191', '68', '15', '130', '30.9', '0.299', '34', '0'],\n",
       "   ['0', '189', '104', '25', '0', '34.3', '0.435', '41', '1'],\n",
       "   ['2', '175', '88', '0', '0', '22.9', '0.326', '22', '0'],\n",
       "   ['4', '154', '72', '29', '126', '31.3', '0.338', '37', '0'],\n",
       "   ['1', '143', '74', '22', '61', '26.2', '0.256', '21', '0'],\n",
       "   ['3', '182', '74', '0', '0', '30.5', '0.345', '29', '1'],\n",
       "   ['2', '144', '58', '33', '135', '31.6', '0.422', '25', '1'],\n",
       "   ['1', '122', '64', '32', '156', '35.1', '0.692', '30', '1'],\n",
       "   ['2', '108', '52', '26', '63', '32.5', '0.318', '22', '0'],\n",
       "   ['7', '133', '84', '0', '0', '40.2', '0.696', '37', '0'],\n",
       "   ['1', '120', '80', '48', '200', '38.9', '1.162', '41', '0'],\n",
       "   ['0', '105', '84', '0', '0', '27.9', '0.741', '62', '1'],\n",
       "   ['0', '137', '40', '35', '168', '43.1', '2.288', '33', '1'],\n",
       "   ['0', '188', '82', '14', '185', '32.0', '0.682', '22', '1'],\n",
       "   ['3', '191', '68', '15', '130', '30.9', '0.299', '34', '0'],\n",
       "   ['1', '128', '82', '17', '183', '27.5', '0.115', '22', '0'],\n",
       "   ['6', '125', '76', '0', '0', '33.8', '0.121', '54', '1'],\n",
       "   ['4', '118', '70', '0', '0', '44.5', '0.904', '26', '0'],\n",
       "   ['7', '194', '68', '28', '0', '35.9', '0.745', '41', '1'],\n",
       "   ['0', '126', '84', '29', '215', '30.7', '0.520', '24', '0'],\n",
       "   ['2', '157', '74', '35', '440', '39.4', '0.134', '30', '0'],\n",
       "   ['6', '162', '62', '0', '0', '24.3', '0.178', '50', '1'],\n",
       "   ['3', '174', '58', '22', '194', '32.9', '0.593', '36', '1'],\n",
       "   ['2', '144', '58', '33', '135', '31.6', '0.422', '25', '1'],\n",
       "   ['11', '143', '94', '33', '146', '36.6', '0.254', '51', '1'],\n",
       "   ['5', '112', '66', '0', '0', '37.8', '0.261', '41', '1'],\n",
       "   ['6', '194', '78', '0', '0', '23.5', '0.129', '59', '1'],\n",
       "   ['2', '122', '76', '27', '200', '35.9', '0.483', '26', '0'],\n",
       "   ['6', '194', '78', '0', '0', '23.5', '0.129', '59', '1'],\n",
       "   ['2', '174', '88', '37', '120', '44.5', '0.646', '24', '1'],\n",
       "   ['1', '118', '58', '36', '94', '33.3', '0.261', '23', '0'],\n",
       "   ['0', '161', '50', '0', '0', '21.9', '0.254', '65', '0'],\n",
       "   ['12', '140', '82', '43', '325', '39.2', '0.528', '58', '1'],\n",
       "   ['4', '109', '64', '44', '99', '34.8', '0.905', '26', '1'],\n",
       "   ['3', '113', '50', '10', '85', '29.5', '0.626', '25', '0'],\n",
       "   ['3', '120', '70', '30', '135', '42.9', '0.452', '30', '0'],\n",
       "   ['7', '184', '84', '33', '0', '35.5', '0.355', '41', '1'],\n",
       "   ['3', '173', '82', '48', '465', '38.4', '2.137', '25', '1'],\n",
       "   ['1', '122', '90', '51', '220', '49.7', '0.325', '31', '1'],\n",
       "   ['8', '154', '78', '32', '0', '32.4', '0.443', '45', '1'],\n",
       "   ['12', '106', '80', '0', '0', '23.6', '0.137', '44', '0'],\n",
       "   ['2', '114', '68', '22', '0', '28.7', '0.092', '25', '0'],\n",
       "   ['1', '114', '66', '36', '200', '38.1', '0.289', '21', '0'],\n",
       "   ['7', '106', '60', '24', '0', '26.5', '0.296', '29', '1'],\n",
       "   ['1', '100', '72', '12', '70', '25.3', '0.658', '28', '0'],\n",
       "   ['8', '112', '72', '0', '0', '23.6', '0.840', '58', '0'],\n",
       "   ['4', '123', '62', '0', '0', '32.0', '0.226', '35', '1'],\n",
       "   ['5', '112', '66', '0', '0', '37.8', '0.261', '41', '1'],\n",
       "   ['1', '106', '76', '0', '0', '37.5', '0.197', '26', '0'],\n",
       "   ['2', '100', '68', '25', '71', '38.5', '0.324', '26', '0'],\n",
       "   ['13', '153', '88', '37', '140', '40.6', '1.174', '39', '0'],\n",
       "   ['4', '184', '78', '39', '277', '37.0', '0.264', '31', '1'],\n",
       "   ['7', '179', '95', '31', '0', '34.2', '0.164', '60', '0'],\n",
       "   ['6', '105', '80', '28', '0', '32.5', '0.878', '26', '0'],\n",
       "   ['1', '107', '50', '19', '0', '28.3', '0.181', '29', '0']],\n",
       "  [['1', '99', '58', '10', '0', '25.4', '0.551', '21', '0'],\n",
       "   ['1', '93', '56', '11', '0', '22.5', '0.417', '22', '0'],\n",
       "   ['8', '65', '72', '23', '0', '32.0', '0.600', '42', '0'],\n",
       "   ['6', '80', '80', '36', '0', '39.8', '0.177', '28', '0'],\n",
       "   ['10', '90', '85', '32', '0', '34.9', '0.825', '56', '1'],\n",
       "   ['10', '68', '106', '23', '49', '35.5', '0.285', '47', '0'],\n",
       "   ['0', '98', '82', '15', '84', '25.2', '0.299', '22', '0'],\n",
       "   ['2', '82', '52', '22', '115', '28.5', '1.699', '25', '0'],\n",
       "   ['5', '78', '48', '0', '0', '33.7', '0.654', '25', '0'],\n",
       "   ['4', '95', '64', '0', '0', '32.0', '0.161', '31', '1'],\n",
       "   ['6', '85', '78', '0', '0', '31.2', '0.382', '42', '0'],\n",
       "   ['8', '74', '70', '40', '49', '35.3', '0.705', '39', '0'],\n",
       "   ['1', '73', '50', '10', '0', '23.0', '0.248', '21', '0'],\n",
       "   ['8', '74', '70', '40', '49', '35.3', '0.705', '39', '0'],\n",
       "   ['4', '85', '58', '22', '49', '27.8', '0.306', '28', '0'],\n",
       "   ['1', '88', '62', '24', '44', '29.9', '0.422', '23', '0'],\n",
       "   ['1', '89', '24', '19', '25', '27.8', '0.559', '21', '0'],\n",
       "   ['1', '73', '50', '10', '0', '23.0', '0.248', '21', '0'],\n",
       "   ['2', '68', '70', '32', '66', '25.0', '0.187', '25', '0'],\n",
       "   ['1', '86', '66', '52', '65', '41.3', '0.917', '29', '0'],\n",
       "   ['1', '77', '56', '30', '56', '33.3', '1.251', '24', '0'],\n",
       "   ['2', '71', '70', '27', '0', '28.0', '0.586', '22', '0'],\n",
       "   ['1', '79', '75', '30', '0', '32.0', '0.396', '22', '0'],\n",
       "   ['6', '80', '80', '36', '0', '39.8', '0.177', '28', '0'],\n",
       "   ['4', '99', '72', '17', '0', '25.6', '0.294', '28', '0'],\n",
       "   ['5', '95', '72', '33', '0', '37.7', '0.370', '27', '0'],\n",
       "   ['2', '87', '0', '23', '0', '28.9', '0.773', '25', '0'],\n",
       "   ['0', '91', '68', '32', '210', '39.9', '0.381', '25', '0'],\n",
       "   ['12', '84', '72', '31', '0', '29.7', '0.297', '46', '1'],\n",
       "   ['9', '72', '78', '25', '0', '31.6', '0.280', '38', '0'],\n",
       "   ['1', '87', '60', '37', '75', '37.2', '0.509', '22', '0'],\n",
       "   ['0', '74', '52', '10', '36', '27.8', '0.269', '22', '0'],\n",
       "   ['1', '92', '62', '25', '41', '19.5', '0.482', '25', '0'],\n",
       "   ['4', '95', '64', '0', '0', '32.0', '0.161', '31', '1'],\n",
       "   ['1', '81', '72', '18', '40', '26.6', '0.283', '24', '0'],\n",
       "   ['10', '68', '106', '23', '49', '35.5', '0.285', '47', '0'],\n",
       "   ['2', '81', '72', '15', '76', '30.1', '0.547', '25', '0'],\n",
       "   ['2', '83', '65', '28', '66', '36.8', '0.629', '24', '0'],\n",
       "   ['6', '92', '62', '32', '126', '32.0', '0.085', '46', '0'],\n",
       "   ['4', '90', '0', '0', '0', '28.0', '0.610', '31', '0'],\n",
       "   ['1', '81', '74', '41', '57', '46.3', '1.096', '32', '0'],\n",
       "   ['9', '91', '68', '0', '0', '24.2', '0.200', '58', '0'],\n",
       "   ['0', '94', '0', '0', '0', '0.0', '0.256', '25', '0'],\n",
       "   ['1', '82', '64', '13', '95', '21.2', '0.415', '23', '0'],\n",
       "   ['4', '95', '60', '32', '0', '35.4', '0.284', '28', '0'],\n",
       "   ['0', '94', '70', '27', '115', '43.5', '0.347', '21', '0'],\n",
       "   ['0', '67', '76', '0', '0', '45.3', '0.194', '46', '0'],\n",
       "   ['1', '93', '56', '11', '0', '22.5', '0.417', '22', '0'],\n",
       "   ['2', '71', '70', '27', '0', '28.0', '0.586', '22', '0'],\n",
       "   ['3', '88', '58', '11', '54', '24.8', '0.267', '22', '0'],\n",
       "   ['12', '84', '72', '31', '0', '29.7', '0.297', '46', '1'],\n",
       "   ['7', '81', '78', '40', '48', '46.7', '0.261', '42', '0'],\n",
       "   ['2', '90', '60', '0', '0', '23.5', '0.191', '25', '0'],\n",
       "   ['1', '89', '66', '23', '94', '28.1', '0.167', '21', '0'],\n",
       "   ['2', '92', '52', '0', '0', '30.1', '0.141', '22', '0'],\n",
       "   ['3', '99', '62', '19', '74', '21.8', '0.279', '26', '0'],\n",
       "   ['1', '92', '62', '25', '41', '19.5', '0.482', '25', '0'],\n",
       "   ['10', '68', '106', '23', '49', '35.5', '0.285', '47', '0'],\n",
       "   ['2', '92', '62', '28', '0', '31.6', '0.130', '24', '0'],\n",
       "   ['8', '84', '74', '31', '0', '38.3', '0.457', '39', '0'],\n",
       "   ['4', '95', '60', '32', '0', '35.4', '0.284', '28', '0'],\n",
       "   ['1', '89', '66', '23', '94', '28.1', '0.167', '21', '0'],\n",
       "   ['10', '90', '85', '32', '0', '34.9', '0.825', '56', '1'],\n",
       "   ['1', '99', '58', '10', '0', '25.4', '0.551', '21', '0'],\n",
       "   ['1', '81', '72', '18', '40', '26.6', '0.283', '24', '0'],\n",
       "   ['2', '87', '58', '16', '52', '32.7', '0.166', '25', '0'],\n",
       "   ['2', '81', '60', '22', '0', '27.7', '0.290', '25', '0'],\n",
       "   ['1', '92', '62', '25', '41', '19.5', '0.482', '25', '0'],\n",
       "   ['3', '80', '0', '0', '0', '0.0', '0.174', '22', '0'],\n",
       "   ['0', '91', '68', '32', '210', '39.9', '0.381', '25', '0'],\n",
       "   ['6', '92', '92', '0', '0', '19.9', '0.188', '28', '0'],\n",
       "   ['1', '85', '66', '29', '0', '26.6', '0.351', '31', '0'],\n",
       "   ['2', '90', '68', '42', '0', '38.2', '0.503', '27', '1'],\n",
       "   ['2', '68', '62', '13', '15', '20.1', '0.257', '23', '0'],\n",
       "   ['1', '99', '58', '10', '0', '25.4', '0.551', '21', '0'],\n",
       "   ['3', '99', '80', '11', '64', '19.3', '0.284', '30', '0'],\n",
       "   ['7', '81', '78', '40', '48', '46.7', '0.261', '42', '0'],\n",
       "   ['1', '89', '66', '23', '94', '28.1', '0.167', '21', '0'],\n",
       "   ['7', '62', '78', '0', '0', '32.6', '0.391', '41', '0']]),\n",
       " 'index': 1,\n",
       " 'value': '62'}"
      ]
     },
     "execution_count": 29,
     "metadata": {},
     "output_type": "execute_result"
    }
   ],
   "source": [
    "root = get_split(sample)\n",
    "root"
   ]
  },
  {
   "cell_type": "markdown",
   "metadata": {},
   "source": [
    "```python\n",
    "def build_tree(sample, max_depth, min_size):\n",
    "#    root = get_split(sample)\n",
    "    split(root, max_depth, min_size, 1)\n",
    "#    return root\n",
    "```"
   ]
  },
  {
   "cell_type": "code",
   "execution_count": 30,
   "metadata": {},
   "outputs": [
    {
     "name": "stdout",
     "output_type": "stream",
     "text": [
      "max_depth: 6\n",
      "min_size: 2\n"
     ]
    }
   ],
   "source": [
    "print(\"max_depth:\", max_depth)\n",
    "print(\"min_size:\", min_size)"
   ]
  },
  {
   "cell_type": "markdown",
   "metadata": {},
   "source": [
    "- root가 recursive하게 변화하는 구조\n",
    "- tree split 종료조건\n",
    "    - left 또는 right tree가 비어 있을 때\n",
    "    - 현재 depth가 max_depth보다 깊을 때\n",
    "    - left child의 데이터의 수가 min_size보다 작을 때\n",
    "    - right child의 데이터의 수가 min_size보다 작을 때"
   ]
  },
  {
   "cell_type": "code",
   "execution_count": 31,
   "metadata": {},
   "outputs": [],
   "source": [
    "# 왼쪽, 오른쪽, 최종 노드 생성\n",
    "def split(node, max_depth, min_size, depth):\n",
    "    left, right = node['groups']\n",
    "    del(node['groups'])\n",
    "    # check for a no split\n",
    "    if not left or not right:\n",
    "        node['left'] = node['right'] = to_terminal(left + right)\n",
    "        return\n",
    "    # check for max depth\n",
    "    if depth >= max_depth:\n",
    "        node['left'], node['right'] = to_terminal(left), to_terminal(right)\n",
    "        return\n",
    "    # process left child\n",
    "    if len(left) <= min_size:\n",
    "        node['left'] = to_terminal(left)\n",
    "    else:\n",
    "        node['left'] = get_split(left)\n",
    "        split(node['left'], max_depth, min_size, depth+1)\n",
    "    # process right child\n",
    "    if len(right) <= min_size:\n",
    "        node['right'] = to_terminal(right)\n",
    "    else:\n",
    "        node['right'] = get_split(right)\n",
    "        split(node['right'], max_depth, min_size, depth+1)\n",
    "\n",
    "        \n",
    "# 최종 노드 class 결정\n",
    "def to_terminal(group):\n",
    "    outcomes = [row[-1] for row in group]\n",
    "    '''\n",
    "    Counter(outcomes) => Counter({'0': 178, '1': 98})\n",
    "    '''\n",
    "    return max(outcomes, key=outcomes.count)\n",
    "\n",
    "\n",
    "split(root, max_depth, min_size, 1)"
   ]
  },
  {
   "cell_type": "code",
   "execution_count": 32,
   "metadata": {},
   "outputs": [],
   "source": [
    "def build_tree(sample, max_depth, min_size):\n",
    "    root = get_split(sample)\n",
    "    split(root, max_depth, min_size, 1)\n",
    "    return root"
   ]
  },
  {
   "cell_type": "code",
   "execution_count": 33,
   "metadata": {},
   "outputs": [
    {
     "data": {
      "text/plain": [
       "{'index': 1,\n",
       " 'left': {'index': 1,\n",
       "  'left': {'index': 0,\n",
       "   'left': {'index': 6,\n",
       "    'left': {'index': 7,\n",
       "     'left': {'index': 0, 'left': '0', 'right': '0', 'value': '0'},\n",
       "     'right': {'index': 6, 'left': '0', 'right': '1', 'value': '0.323'},\n",
       "     'value': '31'},\n",
       "    'right': {'index': 5,\n",
       "     'left': {'index': 4, 'left': '0', 'right': '1', 'value': '156'},\n",
       "     'right': {'index': 0, 'left': '0', 'right': '0', 'value': '2'},\n",
       "     'value': '38.9'},\n",
       "    'value': '0.678'},\n",
       "   'right': {'index': 5,\n",
       "    'left': {'index': 0,\n",
       "     'left': {'index': 0, 'left': '0', 'right': '0', 'value': '5'},\n",
       "     'right': {'index': 0, 'left': '0', 'right': '0', 'value': '7'},\n",
       "     'value': '7'},\n",
       "    'right': {'index': 2,\n",
       "     'left': {'index': 5, 'left': '1', 'right': '0', 'value': '38.7'},\n",
       "     'right': {'index': 5, 'left': '1', 'right': '0', 'value': '32.5'},\n",
       "     'value': '80'},\n",
       "    'value': '26.5'},\n",
       "   'value': '4'},\n",
       "  'right': {'index': 5,\n",
       "   'left': {'index': 1,\n",
       "    'left': {'index': 0,\n",
       "     'left': '0',\n",
       "     'right': {'index': 0, 'left': '0', 'right': '0', 'value': '1'},\n",
       "     'value': '1'},\n",
       "    'right': {'index': 6,\n",
       "     'left': {'index': 0, 'left': '1', 'right': '1', 'value': '6'},\n",
       "     'right': {'index': 3, 'left': '0', 'right': '1', 'value': '17'},\n",
       "     'value': '0.254'},\n",
       "    'value': '155'},\n",
       "   'right': {'index': 6,\n",
       "    'left': {'index': 0,\n",
       "     'left': {'index': 0, 'left': '0', 'right': '0', 'value': '0'},\n",
       "     'right': {'index': 0, 'left': '1', 'right': '1', 'value': '8'},\n",
       "     'value': '8'},\n",
       "    'right': {'index': 5,\n",
       "     'left': {'index': 6, 'left': '1', 'right': '1', 'value': '0.702'},\n",
       "     'right': {'index': 0, 'left': '0', 'right': '0', 'value': '0'},\n",
       "     'value': '46.5'},\n",
       "    'value': '0.212'},\n",
       "   'value': '27.5'},\n",
       "  'value': '134'},\n",
       " 'right': {'index': 7,\n",
       "  'left': {'index': 6,\n",
       "   'left': {'index': 0, 'left': '0', 'right': '1', 'value': '4'},\n",
       "   'right': {'index': 3,\n",
       "    'left': {'index': 0,\n",
       "     'left': {'index': 0, 'left': '0', 'right': '0', 'value': '0'},\n",
       "     'right': {'index': 0, 'left': '0', 'right': '0', 'value': '1'},\n",
       "     'value': '1'},\n",
       "    'right': '0',\n",
       "    'value': '42'},\n",
       "   'value': '0.166'},\n",
       "  'right': {'index': 6,\n",
       "   'left': {'index': 0,\n",
       "    'left': '0',\n",
       "    'right': {'index': 0, 'left': '0', 'right': '0', 'value': '10'},\n",
       "    'value': '10'},\n",
       "   'right': {'index': 0, 'left': '1', 'right': '1', 'value': '10'},\n",
       "   'value': '0.297'},\n",
       "  'value': '46'},\n",
       " 'value': '62'}"
      ]
     },
     "execution_count": 33,
     "metadata": {},
     "output_type": "execute_result"
    }
   ],
   "source": [
    "tree = build_tree(sample, max_depth, min_size)\n",
    "tree"
   ]
  },
  {
   "cell_type": "markdown",
   "metadata": {},
   "source": [
    "- 반환되는 ```root```는 최종적인 tree가 됨"
   ]
  },
  {
   "cell_type": "markdown",
   "metadata": {},
   "source": [
    "```python\n",
    "def bagging(train_set, test_set, max_depth, min_size, sample_size, n_trees):\n",
    "    trees = list()\n",
    "#    for _ in range(n_trees):\n",
    "#        sample = subsample(train_set, sample_size) # 이 부분이 실질적인 bagging\n",
    "#        tree = build_tree(sample, max_depth, min_size) # 이 부분은 분류 성능을 알아보기 위한 나무 설계\n",
    "        trees.append(tree)\n",
    "#    predictions = [bagging_predict(trees, row) for row in test_set]\n",
    "#    return(predictions)\n",
    "```"
   ]
  },
  {
   "cell_type": "code",
   "execution_count": 34,
   "metadata": {},
   "outputs": [
    {
     "data": {
      "text/plain": [
       "3"
      ]
     },
     "execution_count": 34,
     "metadata": {},
     "output_type": "execute_result"
    }
   ],
   "source": [
    "n_trees"
   ]
  },
  {
   "cell_type": "code",
   "execution_count": 35,
   "metadata": {},
   "outputs": [],
   "source": [
    "trees = list()\n",
    "for _ in range(n_trees):\n",
    "    sample = subsample(train_set, sample_size) # 이 부분이 실질적인 bagging\n",
    "    tree = build_tree(sample, max_depth, min_size) # 이 부분은 분류 성능을 알아보기 위한 나무 설계\n",
    "    trees.append(tree)"
   ]
  },
  {
   "cell_type": "code",
   "execution_count": 36,
   "metadata": {},
   "outputs": [
    {
     "data": {
      "text/plain": [
       "3"
      ]
     },
     "execution_count": 36,
     "metadata": {},
     "output_type": "execute_result"
    }
   ],
   "source": [
    "len(trees)"
   ]
  },
  {
   "cell_type": "markdown",
   "metadata": {},
   "source": [
    "```python\n",
    "def bagging(train_set, test_set, max_depth, min_size, sample_size, n_trees):\n",
    "    #trees = list()\n",
    "    #for _ in range(n_trees):\n",
    "    #    sample = subsample(train_set, sample_size) # 이 부분이 실질적인 bagging\n",
    "    #    tree = build_tree(sample, max_depth, min_size) # 이 부분은 분류 성능을 알아보기 위한 나무 설계\n",
    "    #    trees.append(tree)\n",
    "    predictions = [bagging_predict(trees, row) for row in test_set]\n",
    "    #return(predictions)\n",
    "```"
   ]
  },
  {
   "cell_type": "code",
   "execution_count": 37,
   "metadata": {},
   "outputs": [],
   "source": [
    "def bagging_predict(trees, row):\n",
    "    '''\n",
    "    row = ['17', '163', '72', '41', '114', '40.9', '0.817', '47', None]\n",
    "    '''\n",
    "    predictions = [predict(tree, row) for tree in trees]\n",
    "    return max(predictions, key=predictions.count) # 최빈값(mode)\n",
    "\n",
    "\n",
    "# 의사 결정 나무 예측 값\n",
    "def predict(node, row):\n",
    "    if row[node['index']] < node['value']:\n",
    "        if isinstance(node['left'], dict):\n",
    "            return predict(node['left'], row)\n",
    "        else:\n",
    "            return node['left']\n",
    "    else:\n",
    "        if isinstance(node['right'], dict):\n",
    "            return predict(node['right'], row)\n",
    "        else:\n",
    "            return node['right']\n",
    "\n",
    "\n",
    "predictions = [bagging_predict(trees, row) for row in test_set]"
   ]
  },
  {
   "cell_type": "code",
   "execution_count": 38,
   "metadata": {},
   "outputs": [],
   "source": [
    "# e.g. 첫번째 tree와, 첫번째 testset의 row를 가져옴\n",
    "node = trees[0]\n",
    "row = test_set[0] # candidate"
   ]
  },
  {
   "cell_type": "code",
   "execution_count": 39,
   "metadata": {},
   "outputs": [
    {
     "data": {
      "text/plain": [
       "'125'"
      ]
     },
     "execution_count": 39,
     "metadata": {},
     "output_type": "execute_result"
    }
   ],
   "source": [
    "# 이 값은 left tree에 속해있나? right tree에 속해있나?\n",
    "row[node['index']]"
   ]
  },
  {
   "cell_type": "code",
   "execution_count": 40,
   "metadata": {},
   "outputs": [
    {
     "data": {
      "text/plain": [
       "'57'"
      ]
     },
     "execution_count": 40,
     "metadata": {},
     "output_type": "execute_result"
    }
   ],
   "source": [
    "# 판단 기준값\n",
    "node['value']"
   ]
  },
  {
   "cell_type": "markdown",
   "metadata": {},
   "source": [
    "- isinstance"
   ]
  },
  {
   "cell_type": "code",
   "execution_count": 41,
   "metadata": {},
   "outputs": [
    {
     "data": {
      "text/plain": [
       "True"
      ]
     },
     "execution_count": 41,
     "metadata": {},
     "output_type": "execute_result"
    }
   ],
   "source": [
    "isinstance(node['left'], dict)"
   ]
  },
  {
   "cell_type": "code",
   "execution_count": 42,
   "metadata": {},
   "outputs": [
    {
     "data": {
      "text/plain": [
       "True"
      ]
     },
     "execution_count": 42,
     "metadata": {},
     "output_type": "execute_result"
    }
   ],
   "source": [
    "isinstance([1,2,3], list)"
   ]
  },
  {
   "cell_type": "code",
   "execution_count": 43,
   "metadata": {},
   "outputs": [
    {
     "data": {
      "text/plain": [
       "True"
      ]
     },
     "execution_count": 43,
     "metadata": {},
     "output_type": "execute_result"
    }
   ],
   "source": [
    "isinstance({'key':'value'}, dict)"
   ]
  },
  {
   "cell_type": "code",
   "execution_count": 44,
   "metadata": {},
   "outputs": [
    {
     "name": "stdout",
     "output_type": "stream",
     "text": [
      "['1', '1', '0', '0', '1', '0', '1', '0', '0', '0', '1', '1', '0', '0', '0', '0', '0', '0', '0', '1', '0', '0', '0', '0', '0', '0', '0', '0', '0', '1', '0', '0', '0', '1', '0', '0', '0', '1', '0', '0', '0', '0', '0', '1', '0', '0', '0', '1', '1', '0', '0', '0', '0', '0', '0', '1', '0', '0', '0', '0', '0', '1', '0', '1', '0', '0', '0', '1', '0', '1', '0', '0', '0', '0', '1', '0', '0', '0', '0', '0', '0', '0', '1', '0', '0', '0', '1', '0', '0', '1', '0', '1', '0', '1', '1', '0', '1', '0', '0', '0', '0', '0', '0', '0', '0', '0', '0', '0', '0', '0', '0', '1', '0', '1', '0', '0', '0', '1', '0', '1', '0', '0', '1', '0', '0', '0', '0', '0', '0', '0', '0', '1', '0', '1', '1', '0', '0', '0', '0', '0', '1', '0', '1', '1', '0', '0', '0', '0', '1', '0', '1', '0', '0']\n"
     ]
    }
   ],
   "source": [
    "print(predictions)"
   ]
  },
  {
   "cell_type": "markdown",
   "metadata": {},
   "source": [
    "---"
   ]
  },
  {
   "cell_type": "code",
   "execution_count": 45,
   "metadata": {},
   "outputs": [],
   "source": [
    "\"\"\" 정확도 측정 \"\"\"\n",
    "def accuracy_metric(actual, predicted):\n",
    "    correct = 0\n",
    "    for i in range(len(actual)):\n",
    "        if actual[i] == predicted[i]:\n",
    "            correct += 1 # 정답 횟수 count\n",
    "    return correct / len(actual) * 100.0"
   ]
  },
  {
   "cell_type": "code",
   "execution_count": 46,
   "metadata": {},
   "outputs": [
    {
     "data": {
      "text/plain": [
       "[['6', '125', '78', '31', '0', '27.6', '0.565', '49', '1'],\n",
       " ['9', '170', '74', '31', '0', '44.0', '0.403', '43', '1'],\n",
       " ['2', '75', '64', '24', '55', '29.7', '0.370', '33', '0'],\n",
       " ['3', '96', '78', '39', '0', '37.3', '0.238', '40', '0'],\n",
       " ['5', '44', '62', '0', '0', '25.0', '0.587', '36', '0']]"
      ]
     },
     "execution_count": 46,
     "metadata": {},
     "output_type": "execute_result"
    }
   ],
   "source": [
    "# test set from k-fold\n",
    "fold[:5]"
   ]
  },
  {
   "cell_type": "code",
   "execution_count": 47,
   "metadata": {},
   "outputs": [
    {
     "data": {
      "text/plain": [
       "76.47058823529412"
      ]
     },
     "execution_count": 47,
     "metadata": {},
     "output_type": "execute_result"
    }
   ],
   "source": [
    "actual = [row[-1] for row in fold]\n",
    "accuracy_metric(actual,predictions)"
   ]
  },
  {
   "cell_type": "markdown",
   "metadata": {},
   "source": [
    "---"
   ]
  },
  {
   "cell_type": "code",
   "execution_count": 48,
   "metadata": {},
   "outputs": [],
   "source": [
    "\n",
    "def accuracy_metric(actual, predicted):\n",
    "    correct = 0\n",
    "    for i in range(len(actual)):\n",
    "        if actual[i] == predicted[i]:\n",
    "            correct += 1 # 정답 횟수 count\n",
    "    return correct / len(actual) * 100.0\n",
    "\n",
    "\n",
    "# 의사 결정 나무 만들기\n",
    "def build_tree(train_set, max_depth, min_size):\n",
    "    root = get_split(train_set)\n",
    "    split(root, max_depth, min_size, 1)\n",
    "    return root\n",
    "\n",
    "# 최적의 split point 찾기\n",
    "def get_split(dataset):\n",
    "    class_values = list(set(row[-1] for row in dataset)) # set을 통하여 중복 제거된 Y값(class)을 추려냄\n",
    "    b_score = 999 # 충분히 큰 숫자(update에 사용)\n",
    "    for index in range(len(dataset[0])-1): # 마지막은 class라서 제외\n",
    "        for row in dataset:\n",
    "            groups = test_split(index, row[index], dataset)\n",
    "            gini = gini_index(groups, class_values)\n",
    "            if gini < b_score: # 이전 단계의 gini index가 더 클 경우에만 업데이트를 하겠다(지니 계수는 작을수록 좋다 == 작을수록 균형적이다)\n",
    "                b_index, b_value, b_score, b_groups = index, row[index], gini, groups\n",
    "    return {'index': b_index, 'value':b_value, 'groups':b_groups}\n",
    "\n",
    "\n",
    "# Split a dataset based on an attribute and an attribute value\n",
    "def test_split(index, value, dataset):\n",
    "    left, right = list(), list()\n",
    "    for row in dataset:\n",
    "        if row[index] < value:\n",
    "            left.append(row)\n",
    "        else:\n",
    "            right.append(row)\n",
    "    return left, right\n",
    "\n",
    "# 지니 계수 구하기\n",
    "def gini_index(groups, classes):\n",
    "    # 왼쪽, 오른쪽의 합이기 때문에 전체 dataset의 instances 개수와 동일\n",
    "    n_instances = float(sum([len(group) for group in groups])) # groups에는 왼쪽 instances와 오른쪽 instances들이 포함되어 있음\n",
    "    # 나무 노드의 왼쪽, 오른쪽 별로 지니 계수 구하기\n",
    "    gini = 0.0\n",
    "    for group in groups:\n",
    "        size = float(len(group))\n",
    "        if size == 0:\n",
    "            continue\n",
    "        score = 0.0\n",
    "        # class별 score 구하기\n",
    "        for class_val in classes:\n",
    "            p = [row[-1] for row in group].count(class_val) / size\n",
    "            score += p * p\n",
    "        # 최종 지니 계수\n",
    "        gini += (1.0 - score) * (size / n_instances)\n",
    "    return gini\n",
    "\n",
    "\n",
    "# 왼쪽, 오른쪽, 최종 노드 생성\n",
    "def split(node, max_depth, min_size, depth):\n",
    "    left, right = node['groups']\n",
    "    del(node['groups'])\n",
    "    # check for a no split\n",
    "    if not left or not right:\n",
    "        node['left'] = node['right'] = to_terminal(left + right)\n",
    "        return\n",
    "    # check for max depth\n",
    "    if depth >= max_depth:\n",
    "        node['left'], node['right'] = to_terminal(left), to_terminal(right)\n",
    "        return\n",
    "    # process left child\n",
    "    if len(left) <= min_size:\n",
    "        node['left'] = to_terminal(left)\n",
    "    else:\n",
    "        node['left'] = get_split(left)\n",
    "        split(node['left'], max_depth, min_size, depth+1)\n",
    "    # process right child\n",
    "    if len(right) <= min_size:\n",
    "        node['right'] = to_terminal(right)\n",
    "    else:\n",
    "        node['right'] = get_split(right)\n",
    "        split(node['right'], max_depth, min_size, depth+1)\n",
    "        \n",
    "        \n",
    "# 최종 노드 value 생성\n",
    "def to_terminal(group):\n",
    "    outcomes = [row[-1] for row in group]\n",
    "    return max(outcomes, key=outcomes.count)\n",
    "\n",
    "# Convert string column to float\n",
    "def str_column_to_float(dataset, column):\n",
    "    for row in dataset:\n",
    "        row[column] = float(row[column].strip())\n",
    "\n",
    "\n",
    "# 의사 결정 나무 예측 값\n",
    "def predict(node, row):\n",
    "    if row[node['index']] < node['value']:\n",
    "        if isinstance(node['left'], dict):\n",
    "            return predict(node['left'], row)\n",
    "        else:\n",
    "            return node['left']\n",
    "    else:\n",
    "        if isinstance(node['right'], dict):\n",
    "            return predict(node['right'], row)\n",
    "        else:\n",
    "            return node['right']\n",
    "\n",
    "def bagging_predict(trees, row):\n",
    "    predictions = [predict(tree, row) for tree in trees]\n",
    "    return max(predictions, key=predictions.count) # 최빈값(mode)\n",
    "\n",
    "def bagging(train_set, test_set, max_depth, min_size, sample_size, n_trees):\n",
    "    trees = list()\n",
    "    for _ in range(n_trees):\n",
    "        sample = subsample(train_set, sample_size) # 이 부분이 실질적인 bagging\n",
    "        tree = build_tree(sample, max_depth, min_size) # 이 부분은 분류 성능을 알아보기 위한 나무 설계\n",
    "        trees.append(tree)\n",
    "    predictions = [bagging_predict(trees, row) for row in test_set]\n",
    "    return(predictions)\n"
   ]
  },
  {
   "cell_type": "markdown",
   "metadata": {},
   "source": [
    "### k-fold data split\n",
    "> 전체 데이터를 k개의 block으로 나누고 개별 모델을 서로 다른 (k-1)개의 subset에 대해 학습한뒤 최종 결과를 결합"
   ]
  },
  {
   "cell_type": "code",
   "execution_count": 49,
   "metadata": {},
   "outputs": [],
   "source": [
    "\"\"\" 최종 평가 \"\"\"\n",
    "def evaluate_algorithm(dataset, bagging, n_folds, *args):\n",
    "    folds = cross_validation_split(dataset, n_folds)\n",
    "    scores = list()\n",
    "    for fold in folds:\n",
    "        train_set = list(folds)\n",
    "        train_set.remove(fold)\n",
    "        train_set = sum(train_set, [])\n",
    "        test_set = list()\n",
    "        for row in fold:\n",
    "            row_copy = list(row)\n",
    "            test_set.append(row_copy)\n",
    "            row_copy[-1] = None\n",
    "        predicted = bagging(train_set, test_set, *args)\n",
    "        actual = [row[-1] for row in fold]\n",
    "        accuracy = accuracy_metric(actual, predicted)\n",
    "        scores.append(accuracy)\n",
    "    return scores"
   ]
  },
  {
   "cell_type": "code",
   "execution_count": 50,
   "metadata": {},
   "outputs": [
    {
     "name": "stdout",
     "output_type": "stream",
     "text": [
      "Trees: 1\n",
      "Scores: [71.24183006535948, 69.93464052287581, 69.28104575163398, 67.97385620915033, 67.3202614379085]\n",
      "Mean Accuracy: 69.1503\n",
      "Trees: 5\n",
      "Scores: [70.58823529411765, 74.50980392156863, 75.81699346405229, 74.50980392156863, 73.20261437908496]\n",
      "Mean Accuracy: 73.7255\n",
      "Trees: 10\n",
      "Scores: [73.8562091503268, 73.20261437908496, 79.08496732026144, 71.89542483660131, 69.93464052287581]\n",
      "Mean Accuracy: 73.5948\n"
     ]
    }
   ],
   "source": [
    "seed(1)\n",
    "# 데이터 생성\n",
    "filename = '../dataset/pima-indians-diabetes.data.csv'\n",
    "dataset = load_csv(filename)\n",
    "\n",
    "# 평가하기\n",
    "n_folds = 5\n",
    "max_depth = 6\n",
    "min_size = 2\n",
    "sample_size = 0.5\n",
    "for n_trees in [1, 5, 10]:\n",
    "    scores = evaluate_algorithm(dataset, bagging, n_folds, max_depth, min_size, sample_size, n_trees)\n",
    "    print('Trees: {}'.format(n_trees))\n",
    "    print('Scores: {}'.format(scores))\n",
    "    print('Mean Accuracy: {:.4f}'.format(sum(scores)/float(len(scores))))"
   ]
  },
  {
   "cell_type": "markdown",
   "metadata": {},
   "source": [
    "- summary\n",
    "    - 나무가 많아진다고 항상 더 좋은 성능을 보장하지 않음\n",
    "    - 데이터에 맞는 나무 수를 잘 찾아야 함(validation set)"
   ]
  }
 ],
 "metadata": {
  "kernelspec": {
   "display_name": "lab",
   "language": "python",
   "name": "lab"
  },
  "language_info": {
   "codemirror_mode": {
    "name": "ipython",
    "version": 3
   },
   "file_extension": ".py",
   "mimetype": "text/x-python",
   "name": "python",
   "nbconvert_exporter": "python",
   "pygments_lexer": "ipython3",
   "version": "3.5.5"
  }
 },
 "nbformat": 4,
 "nbformat_minor": 2
}
