{
 "cells": [
  {
   "cell_type": "markdown",
   "metadata": {},
   "source": [
    "# __1. Bagging code 작성__"
   ]
  },
  {
   "cell_type": "code",
   "execution_count": 36,
   "metadata": {},
   "outputs": [],
   "source": [
    "# package 불러오기\n",
    "import pandas as pd\n",
    "import numpy as np\n",
    "from sklearn import model_selection # cross-validation score를 가져오기 위함\n",
    "from sklearn.model_selection import train_test_split\n",
    "from sklearn.ensemble import BaggingClassifier # bagging\n",
    "from sklearn.tree import DecisionTreeClassifier # 의사 결정 나무\n",
    "from collections import Counter # count\n",
    "from sklearn.metrics import accuracy_score"
   ]
  },
  {
   "cell_type": "markdown",
   "metadata": {},
   "source": [
    "- Q1. 데이터 불러오기\n",
    "    - hint\n",
    "    ```python\n",
    "    pd.read_csv()\n",
    "    ```"
   ]
  },
  {
   "cell_type": "code",
   "execution_count": 37,
   "metadata": {},
   "outputs": [
    {
     "data": {
      "text/html": [
       "<div>\n",
       "<style scoped>\n",
       "    .dataframe tbody tr th:only-of-type {\n",
       "        vertical-align: middle;\n",
       "    }\n",
       "\n",
       "    .dataframe tbody tr th {\n",
       "        vertical-align: top;\n",
       "    }\n",
       "\n",
       "    .dataframe thead th {\n",
       "        text-align: right;\n",
       "    }\n",
       "</style>\n",
       "<table border=\"1\" class=\"dataframe\">\n",
       "  <thead>\n",
       "    <tr style=\"text-align: right;\">\n",
       "      <th></th>\n",
       "      <th>sepal_length</th>\n",
       "      <th>sepal_width</th>\n",
       "      <th>petal_length</th>\n",
       "      <th>petal_width</th>\n",
       "      <th>class_label</th>\n",
       "    </tr>\n",
       "  </thead>\n",
       "  <tbody>\n",
       "    <tr>\n",
       "      <th>0</th>\n",
       "      <td>5.1</td>\n",
       "      <td>3.5</td>\n",
       "      <td>1.4</td>\n",
       "      <td>0.2</td>\n",
       "      <td>0</td>\n",
       "    </tr>\n",
       "    <tr>\n",
       "      <th>1</th>\n",
       "      <td>4.9</td>\n",
       "      <td>3.0</td>\n",
       "      <td>1.4</td>\n",
       "      <td>0.2</td>\n",
       "      <td>0</td>\n",
       "    </tr>\n",
       "    <tr>\n",
       "      <th>2</th>\n",
       "      <td>4.7</td>\n",
       "      <td>3.2</td>\n",
       "      <td>1.3</td>\n",
       "      <td>0.2</td>\n",
       "      <td>0</td>\n",
       "    </tr>\n",
       "    <tr>\n",
       "      <th>3</th>\n",
       "      <td>4.6</td>\n",
       "      <td>3.1</td>\n",
       "      <td>1.5</td>\n",
       "      <td>0.2</td>\n",
       "      <td>0</td>\n",
       "    </tr>\n",
       "    <tr>\n",
       "      <th>4</th>\n",
       "      <td>5.0</td>\n",
       "      <td>3.6</td>\n",
       "      <td>1.4</td>\n",
       "      <td>0.2</td>\n",
       "      <td>0</td>\n",
       "    </tr>\n",
       "  </tbody>\n",
       "</table>\n",
       "</div>"
      ],
      "text/plain": [
       "   sepal_length  sepal_width  petal_length  petal_width  class_label\n",
       "0           5.1          3.5           1.4          0.2            0\n",
       "1           4.9          3.0           1.4          0.2            0\n",
       "2           4.7          3.2           1.3          0.2            0\n",
       "3           4.6          3.1           1.5          0.2            0\n",
       "4           5.0          3.6           1.4          0.2            0"
      ]
     },
     "execution_count": 37,
     "metadata": {},
     "output_type": "execute_result"
    }
   ],
   "source": [
    "filename = \"../dataset/iris.csv\"\n",
    "\n",
    "dataframe = \"____\"\n",
    "\n",
    "# sepal: 꽃받침\n",
    "# petal: 꽃\n",
    "dataframe.columns = ['sepal_length', 'sepal_width', 'petal_length','petal_width', 'class_label']\n",
    "dataframe.head()"
   ]
  },
  {
   "cell_type": "code",
   "execution_count": 38,
   "metadata": {},
   "outputs": [],
   "source": [
    "array = dataframe.values # 손 쉬운 indexing을 위하여 array로 변형"
   ]
  },
  {
   "cell_type": "markdown",
   "metadata": {},
   "source": [
    "- Q2. 설명변수와 타켓변수 분리"
   ]
  },
  {
   "cell_type": "code",
   "execution_count": 39,
   "metadata": {},
   "outputs": [
    {
     "name": "stdout",
     "output_type": "stream",
     "text": [
      "X: [[5.1 3.5 1.4 0.2]\n",
      " [4.9 3.  1.4 0.2]\n",
      " [4.7 3.2 1.3 0.2]\n",
      " [4.6 3.1 1.5 0.2]]\n",
      "y: [0 0 0 0]\n"
     ]
    }
   ],
   "source": [
    "X = \"________\"\n",
    "Y = \"________\"\n",
    "\n",
    "print('X:',X[:4])\n",
    "print('y:',Y[:4])"
   ]
  },
  {
   "cell_type": "markdown",
   "metadata": {},
   "source": [
    "- Q3. 7:3으로 학습평가데이터셋 구분\n",
    "    - hint\n",
    "    ```python\n",
    "     train_test_split()\n",
    "    ```"
   ]
  },
  {
   "cell_type": "code",
   "execution_count": 40,
   "metadata": {},
   "outputs": [
    {
     "name": "stdout",
     "output_type": "stream",
     "text": [
      "Number of train set: 105\n",
      "Number of test set: 45\n"
     ]
    }
   ],
   "source": [
    "train_x, test_x, train_y, test_y = train_test_split(X, Y, test_size=0.3, random_state=0)\n",
    "print('Number of train set:', len(train_x))\n",
    "print('Number of test set:', len(test_x))"
   ]
  },
  {
   "cell_type": "code",
   "execution_count": 41,
   "metadata": {},
   "outputs": [],
   "source": [
    "assert len(train_x) == len(train_y)\n",
    "assert len(test_x) == len(test_y)"
   ]
  },
  {
   "cell_type": "markdown",
   "metadata": {},
   "source": [
    "- Q4. tree 수([  1,   2,   4,   8,  16,  32,  64, 128, 256])에 대한 파라미터 탐색\n",
    "- hint\n",
    "```python\n",
    "    np.power()\n",
    "```"
   ]
  },
  {
   "cell_type": "code",
   "execution_count": 42,
   "metadata": {},
   "outputs": [
    {
     "data": {
      "text/plain": [
       "array([  1,   2,   4,   8,  16,  32,  64, 128, 256])"
      ]
     },
     "execution_count": 42,
     "metadata": {},
     "output_type": "execute_result"
    }
   ],
   "source": [
    "# hyperparameters\n",
    "seed = 1\n",
    "k = 5\n",
    "num_trees = \"____________________\"\n",
    "num_trees"
   ]
  },
  {
   "cell_type": "code",
   "execution_count": 43,
   "metadata": {},
   "outputs": [
    {
     "data": {
      "text/plain": [
       "KFold(n_splits=5, random_state=1, shuffle=False)"
      ]
     },
     "execution_count": 43,
     "metadata": {},
     "output_type": "execute_result"
    }
   ],
   "source": [
    "kfold = model_selection.KFold(n_splits=k, random_state=seed)\n",
    "kfold"
   ]
  },
  {
   "cell_type": "code",
   "execution_count": 44,
   "metadata": {},
   "outputs": [
    {
     "name": "stdout",
     "output_type": "stream",
     "text": [
      "--------------------------------------------------------------------------------\n",
      "Trees :  1\n",
      "Each k-fold perf :  [0.95238095 0.9047619  1.         0.95238095 0.9047619 ]\n",
      "Mean Accuracy : 0.9429\n",
      "--------------------------------------------------------------------------------\n",
      "Trees :  2\n",
      "Each k-fold perf :  [0.85714286 1.         0.95238095 0.95238095 0.9047619 ]\n",
      "Mean Accuracy : 0.9333\n",
      "--------------------------------------------------------------------------------\n",
      "Trees :  4\n",
      "Each k-fold perf :  [0.85714286 1.         0.95238095 0.95238095 0.9047619 ]\n",
      "Mean Accuracy : 0.9333\n",
      "--------------------------------------------------------------------------------\n",
      "Trees :  8\n",
      "Each k-fold perf :  [0.85714286 1.         0.95238095 1.         0.85714286]\n",
      "Mean Accuracy : 0.9333\n",
      "--------------------------------------------------------------------------------\n",
      "Trees :  16\n",
      "Each k-fold perf :  [0.85714286 1.         0.95238095 1.         0.85714286]\n",
      "Mean Accuracy : 0.9333\n",
      "--------------------------------------------------------------------------------\n",
      "Trees :  32\n",
      "Each k-fold perf :  [0.85714286 1.         1.         1.         0.85714286]\n",
      "Mean Accuracy : 0.9429\n",
      "--------------------------------------------------------------------------------\n",
      "Trees :  64\n",
      "Each k-fold perf :  [0.85714286 1.         1.         0.95238095 0.85714286]\n",
      "Mean Accuracy : 0.9333\n",
      "--------------------------------------------------------------------------------\n",
      "Trees :  128\n",
      "Each k-fold perf :  [0.85714286 1.         1.         0.95238095 0.85714286]\n",
      "Mean Accuracy : 0.9333\n",
      "--------------------------------------------------------------------------------\n",
      "Trees :  256\n",
      "Each k-fold perf :  [0.9047619  1.         1.         0.95238095 0.85714286]\n",
      "Mean Accuracy : 0.9429\n"
     ]
    }
   ],
   "source": [
    "perf = {}\n",
    "\n",
    "for n_tree in num_trees:\n",
    "    # tree 생성\n",
    "    DT = DecisionTreeClassifier()\n",
    "\n",
    "    # bagging 모델 생성\n",
    "    bag_model = BaggingClassifier(base_estimator=DT, n_estimators=n_tree, random_state=seed, max_samples=0.5)\n",
    "    results = model_selection.cross_val_score(bag_model, train_x, train_y, scoring='accuracy', cv=kfold)\n",
    "    print('-'*80)\n",
    "    print(\"Trees : \", n_tree)\n",
    "    print(\"Each k-fold perf : \", results)\n",
    "    print(\"Mean Accuracy : {:.4f}\".format(results.mean()))\n",
    "    \n",
    "    perf[n_tree] = results.mean()"
   ]
  },
  {
   "cell_type": "markdown",
   "metadata": {},
   "source": [
    "- 성능이 가장 높은 n_tree 선택"
   ]
  },
  {
   "cell_type": "code",
   "execution_count": 45,
   "metadata": {},
   "outputs": [
    {
     "data": {
      "text/plain": [
       "1"
      ]
     },
     "execution_count": 45,
     "metadata": {},
     "output_type": "execute_result"
    }
   ],
   "source": [
    "best_n_tree = max(perf, key=lambda x: \"________\")\n",
    "best_n_tree"
   ]
  },
  {
   "cell_type": "markdown",
   "metadata": {},
   "source": [
    "- 최적의 파라미터를 찾은 후 모델 결정"
   ]
  },
  {
   "cell_type": "code",
   "execution_count": 46,
   "metadata": {},
   "outputs": [],
   "source": [
    "DT = DecisionTreeClassifier()\n",
    "best_bag_model = BaggingClassifier(base_estimator=DT, n_estimators=\"________\", random_state=seed, max_samples=0.5)"
   ]
  },
  {
   "cell_type": "markdown",
   "metadata": {},
   "source": [
    "- 모델 학습"
   ]
  },
  {
   "cell_type": "code",
   "execution_count": 47,
   "metadata": {},
   "outputs": [
    {
     "data": {
      "text/plain": [
       "BaggingClassifier(base_estimator=DecisionTreeClassifier(class_weight=None, criterion='gini', max_depth=None,\n",
       "            max_features=None, max_leaf_nodes=None,\n",
       "            min_impurity_decrease=0.0, min_impurity_split=None,\n",
       "            min_samples_leaf=1, min_samples_split=2,\n",
       "            min_weight_fraction_leaf=0.0, presort=False, random_state=None,\n",
       "            splitter='best'),\n",
       "         bootstrap=True, bootstrap_features=False, max_features=1.0,\n",
       "         max_samples=0.5, n_estimators=1, n_jobs=None, oob_score=False,\n",
       "         random_state=1, verbose=0, warm_start=False)"
      ]
     },
     "execution_count": 47,
     "metadata": {},
     "output_type": "execute_result"
    }
   ],
   "source": [
    "best_bag_model.\"_____\"(train_x,train_y)"
   ]
  },
  {
   "cell_type": "markdown",
   "metadata": {},
   "source": [
    "- test set 라벨 예측"
   ]
  },
  {
   "cell_type": "code",
   "execution_count": 48,
   "metadata": {},
   "outputs": [
    {
     "data": {
      "text/plain": [
       "array([2, 2, 0, 2, 0, 2, 0, 1, 1, 1, 2, 1, 1, 1, 1, 0, 1, 1, 0, 0, 2, 1,\n",
       "       0, 0, 2, 0, 0, 1, 2, 0, 2, 1, 0, 2, 2, 1, 0, 2, 1, 1, 2, 0, 2, 0,\n",
       "       0])"
      ]
     },
     "execution_count": 48,
     "metadata": {},
     "output_type": "execute_result"
    }
   ],
   "source": [
    "test_pred_y = best_bag_model.\"________\"(test_x)\n",
    "test_pred_y"
   ]
  },
  {
   "cell_type": "code",
   "execution_count": 49,
   "metadata": {},
   "outputs": [
    {
     "data": {
      "text/plain": [
       "0.9333333333333333"
      ]
     },
     "execution_count": 49,
     "metadata": {},
     "output_type": "execute_result"
    }
   ],
   "source": [
    "accuracy_score(y_true= \"______\", y_pred= \"______\")"
   ]
  },
  {
   "cell_type": "markdown",
   "metadata": {},
   "source": [
    "- 변수중요도\n",
    "    - 모델이름.feature_importances_"
   ]
  },
  {
   "cell_type": "code",
   "execution_count": 51,
   "metadata": {},
   "outputs": [
    {
     "data": {
      "text/plain": [
       "petal_length    0.854035\n",
       "sepal_width     0.089825\n",
       "petal_width     0.056140\n",
       "sepal_length    0.000000\n",
       "dtype: float64"
      ]
     },
     "execution_count": 51,
     "metadata": {},
     "output_type": "execute_result"
    }
   ],
   "source": [
    "def get_variable_importance(model):\n",
    "    return np.mean([tree.\"____________\" for tree in best_bag_model.\"_________\" ], axis =0)\n",
    "\n",
    "var_df = pd.Series(get_variable_importance(best_bag_model), index = dataframe.columns[:-1])\n",
    "\n",
    "var_df.sort_values(ascending=False)"
   ]
  },
  {
   "cell_type": "markdown",
   "metadata": {},
   "source": [
    "# __2. Random Forest code 작성__"
   ]
  },
  {
   "cell_type": "code",
   "execution_count": 53,
   "metadata": {},
   "outputs": [],
   "source": [
    "# sklearn으로 random forest 만들기\n",
    "# https://scikit-learn.org/stable/modules/generated/sklearn.ensemble.RandomForestClassifier.html\n",
    "\n",
    "import pandas as pd\n",
    "from sklearn import model_selection\n",
    "from sklearn.ensemble import RandomForestClassifier"
   ]
  },
  {
   "cell_type": "code",
   "execution_count": 55,
   "metadata": {},
   "outputs": [
    {
     "name": "stdout",
     "output_type": "stream",
     "text": [
      "--------------------------------------------------------------------------------\n",
      "Trees :  1\n",
      "Each k-fold perf :  [0.85714286 0.85714286 0.95238095 0.85714286 0.9047619 ]\n",
      "Mean Accuracy : 0.8857\n",
      "--------------------------------------------------------------------------------\n",
      "Trees :  2\n",
      "Each k-fold perf :  [0.9047619  1.         0.9047619  0.95238095 0.95238095]\n",
      "Mean Accuracy : 0.9429\n",
      "--------------------------------------------------------------------------------\n",
      "Trees :  4\n",
      "Each k-fold perf :  [0.80952381 1.         1.         0.95238095 0.9047619 ]\n",
      "Mean Accuracy : 0.9333\n",
      "--------------------------------------------------------------------------------\n",
      "Trees :  8\n",
      "Each k-fold perf :  [0.80952381 1.         1.         0.95238095 0.9047619 ]\n",
      "Mean Accuracy : 0.9333\n",
      "--------------------------------------------------------------------------------\n",
      "Trees :  16\n",
      "Each k-fold perf :  [0.80952381 1.         1.         0.95238095 0.85714286]\n",
      "Mean Accuracy : 0.9238\n",
      "--------------------------------------------------------------------------------\n",
      "Trees :  32\n",
      "Each k-fold perf :  [0.85714286 1.         1.         0.95238095 0.85714286]\n",
      "Mean Accuracy : 0.9333\n",
      "--------------------------------------------------------------------------------\n",
      "Trees :  64\n",
      "Each k-fold perf :  [0.85714286 1.         1.         0.95238095 0.85714286]\n",
      "Mean Accuracy : 0.9333\n",
      "--------------------------------------------------------------------------------\n",
      "Trees :  128\n",
      "Each k-fold perf :  [0.85714286 1.         1.         0.95238095 0.85714286]\n",
      "Mean Accuracy : 0.9333\n",
      "--------------------------------------------------------------------------------\n",
      "Trees :  256\n",
      "Each k-fold perf :  [0.85714286 1.         1.         0.95238095 0.85714286]\n",
      "Mean Accuracy : 0.9333\n"
     ]
    }
   ],
   "source": [
    "perf = {}\n",
    "\n",
    "for n_tree in num_trees:\n",
    "\n",
    "    # Randomforest 모델 생성\n",
    "    rf_model = \"________________\"(n_estimators=n_tree, random_state=seed)\n",
    "    results = model_selection.cross_val_score(rf_model, train_x, train_y, scoring='accuracy', cv=kfold)\n",
    "    print('-'*80)\n",
    "    print(\"Trees : \", n_tree)\n",
    "    print(\"Each k-fold perf : \", results)\n",
    "    print(\"Mean Accuracy : {:.4f}\".format(results.mean()))\n",
    "    \n",
    "    perf[n_tree] = results.mean()"
   ]
  },
  {
   "cell_type": "code",
   "execution_count": 56,
   "metadata": {},
   "outputs": [
    {
     "data": {
      "text/plain": [
       "2"
      ]
     },
     "execution_count": 56,
     "metadata": {},
     "output_type": "execute_result"
    }
   ],
   "source": [
    "best_n_tree = max(perf, key=lambda x: perf[x])\n",
    "best_n_tree"
   ]
  },
  {
   "cell_type": "markdown",
   "metadata": {},
   "source": [
    "- 최적의 파라미터를 찾은 후 모델 결정"
   ]
  },
  {
   "cell_type": "code",
   "execution_count": 57,
   "metadata": {},
   "outputs": [],
   "source": [
    "best_rf_model = \"_________________\"(n_estimators=best_n_tree, random_state=seed)"
   ]
  },
  {
   "cell_type": "code",
   "execution_count": 58,
   "metadata": {},
   "outputs": [
    {
     "data": {
      "text/plain": [
       "RandomForestClassifier(bootstrap=True, class_weight=None, criterion='gini',\n",
       "            max_depth=None, max_features='auto', max_leaf_nodes=None,\n",
       "            min_impurity_decrease=0.0, min_impurity_split=None,\n",
       "            min_samples_leaf=1, min_samples_split=2,\n",
       "            min_weight_fraction_leaf=0.0, n_estimators=2, n_jobs=None,\n",
       "            oob_score=False, random_state=1, verbose=0, warm_start=False)"
      ]
     },
     "execution_count": 58,
     "metadata": {},
     "output_type": "execute_result"
    }
   ],
   "source": [
    "best_rf_model.fit(train_x,train_y)"
   ]
  },
  {
   "cell_type": "code",
   "execution_count": 59,
   "metadata": {},
   "outputs": [
    {
     "data": {
      "text/plain": [
       "array([2, 1, 0, 2, 0, 2, 0, 1, 1, 1, 1, 1, 1, 1, 1, 0, 1, 1, 0, 0, 2, 1,\n",
       "       0, 0, 2, 0, 0, 1, 1, 0, 2, 1, 0, 2, 2, 1, 0, 1, 1, 1, 2, 0, 2, 0,\n",
       "       0])"
      ]
     },
     "execution_count": 59,
     "metadata": {},
     "output_type": "execute_result"
    }
   ],
   "source": [
    "test_pred_y = best_rf_model.predict(test_x)\n",
    "test_pred_y"
   ]
  },
  {
   "cell_type": "code",
   "execution_count": 61,
   "metadata": {},
   "outputs": [
    {
     "data": {
      "text/plain": [
       "0.9777777777777777"
      ]
     },
     "execution_count": 61,
     "metadata": {},
     "output_type": "execute_result"
    }
   ],
   "source": [
    "accuracy_score(y_true= test_y, y_pred= test_pred_y)"
   ]
  },
  {
   "cell_type": "markdown",
   "metadata": {},
   "source": [
    "- 변수중요도\n",
    "    - 모델이름.feature_importances_"
   ]
  },
  {
   "cell_type": "code",
   "execution_count": 63,
   "metadata": {},
   "outputs": [
    {
     "data": {
      "text/plain": [
       "petal_length    0.398716\n",
       "petal_width     0.250549\n",
       "sepal_length    0.239308\n",
       "sepal_width     0.111428\n",
       "dtype: float64"
      ]
     },
     "execution_count": 63,
     "metadata": {},
     "output_type": "execute_result"
    }
   ],
   "source": [
    "var_df = pd.Series(best_rf_model.\"________________\", index = dataframe.columns[:-1])\n",
    "var_df.sort_values(ascending=\"______\")"
   ]
  }
 ],
 "metadata": {
  "kernelspec": {
   "display_name": "Python 3",
   "language": "python",
   "name": "python3"
  },
  "language_info": {
   "codemirror_mode": {
    "name": "ipython",
    "version": 3
   },
   "file_extension": ".py",
   "mimetype": "text/x-python",
   "name": "python",
   "nbconvert_exporter": "python",
   "pygments_lexer": "ipython3",
   "version": "3.7.3"
  }
 },
 "nbformat": 4,
 "nbformat_minor": 2
}
