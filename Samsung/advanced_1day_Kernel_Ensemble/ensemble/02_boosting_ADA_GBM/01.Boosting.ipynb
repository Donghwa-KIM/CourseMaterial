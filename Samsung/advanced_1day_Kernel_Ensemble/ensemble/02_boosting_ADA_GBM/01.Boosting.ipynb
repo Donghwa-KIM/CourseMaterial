{
 "cells": [
  {
   "cell_type": "markdown",
   "metadata": {},
   "source": [
    "# __Boosting__"
   ]
  },
  {
   "cell_type": "markdown",
   "metadata": {},
   "source": [
    "<p align=\"center\"><img width=\"600\" height=\"auto\" src=\"../images/boosting.png\"></p>"
   ]
  },
  {
   "cell_type": "markdown",
   "metadata": {},
   "source": [
    "* Boosting도 Bagging과 동일하게 복원 랜덤 샘플링을 하지만, 가중치를 부여한다는 차이점이 있다\n",
    "* Bagging이 병렬로 학습하는 반면, Boosting은 순차적으로 학습되며, __학습이 끝나면 나온 결과에 따라 가중치가 재분배 됨__"
   ]
  },
  {
   "cell_type": "markdown",
   "metadata": {},
   "source": [
    "### __밑바닥부터 boosting 코드 짜기__"
   ]
  },
  {
   "cell_type": "markdown",
   "metadata": {},
   "source": [
    " - pandas-based data format"
   ]
  },
  {
   "cell_type": "code",
   "execution_count": 1,
   "metadata": {},
   "outputs": [],
   "source": [
    "import pandas as pd\n",
    "import numpy as np\n",
    "from sklearn.tree import DecisionTreeClassifier\n",
    "from sklearn.model_selection import train_test_split\n",
    "import matplotlib.pyplot as plt\n",
    "\n",
    "%matplotlib inline"
   ]
  },
  {
   "cell_type": "code",
   "execution_count": 2,
   "metadata": {},
   "outputs": [
    {
     "data": {
      "text/html": [
       "<div>\n",
       "<style scoped>\n",
       "    .dataframe tbody tr th:only-of-type {\n",
       "        vertical-align: middle;\n",
       "    }\n",
       "\n",
       "    .dataframe tbody tr th {\n",
       "        vertical-align: top;\n",
       "    }\n",
       "\n",
       "    .dataframe thead th {\n",
       "        text-align: right;\n",
       "    }\n",
       "</style>\n",
       "<table border=\"1\" class=\"dataframe\">\n",
       "  <thead>\n",
       "    <tr style=\"text-align: right;\">\n",
       "      <th></th>\n",
       "      <th>Pregnancies</th>\n",
       "      <th>Glucose</th>\n",
       "      <th>BloodPressure</th>\n",
       "      <th>SkinThickness</th>\n",
       "      <th>Insulin</th>\n",
       "      <th>BMI</th>\n",
       "      <th>DiabetesPedigreeFunction</th>\n",
       "      <th>Age</th>\n",
       "      <th>Class</th>\n",
       "    </tr>\n",
       "  </thead>\n",
       "  <tbody>\n",
       "    <tr>\n",
       "      <th>0</th>\n",
       "      <td>6</td>\n",
       "      <td>148</td>\n",
       "      <td>72</td>\n",
       "      <td>35</td>\n",
       "      <td>0</td>\n",
       "      <td>33.6</td>\n",
       "      <td>0.627</td>\n",
       "      <td>50</td>\n",
       "      <td>1</td>\n",
       "    </tr>\n",
       "    <tr>\n",
       "      <th>1</th>\n",
       "      <td>1</td>\n",
       "      <td>85</td>\n",
       "      <td>66</td>\n",
       "      <td>29</td>\n",
       "      <td>0</td>\n",
       "      <td>26.6</td>\n",
       "      <td>0.351</td>\n",
       "      <td>31</td>\n",
       "      <td>0</td>\n",
       "    </tr>\n",
       "    <tr>\n",
       "      <th>2</th>\n",
       "      <td>8</td>\n",
       "      <td>183</td>\n",
       "      <td>64</td>\n",
       "      <td>0</td>\n",
       "      <td>0</td>\n",
       "      <td>23.3</td>\n",
       "      <td>0.672</td>\n",
       "      <td>32</td>\n",
       "      <td>1</td>\n",
       "    </tr>\n",
       "    <tr>\n",
       "      <th>3</th>\n",
       "      <td>1</td>\n",
       "      <td>89</td>\n",
       "      <td>66</td>\n",
       "      <td>23</td>\n",
       "      <td>94</td>\n",
       "      <td>28.1</td>\n",
       "      <td>0.167</td>\n",
       "      <td>21</td>\n",
       "      <td>0</td>\n",
       "    </tr>\n",
       "    <tr>\n",
       "      <th>4</th>\n",
       "      <td>0</td>\n",
       "      <td>137</td>\n",
       "      <td>40</td>\n",
       "      <td>35</td>\n",
       "      <td>168</td>\n",
       "      <td>43.1</td>\n",
       "      <td>2.288</td>\n",
       "      <td>33</td>\n",
       "      <td>1</td>\n",
       "    </tr>\n",
       "  </tbody>\n",
       "</table>\n",
       "</div>"
      ],
      "text/plain": [
       "   Pregnancies  Glucose  BloodPressure  SkinThickness  Insulin   BMI  \\\n",
       "0            6      148             72             35        0  33.6   \n",
       "1            1       85             66             29        0  26.6   \n",
       "2            8      183             64              0        0  23.3   \n",
       "3            1       89             66             23       94  28.1   \n",
       "4            0      137             40             35      168  43.1   \n",
       "\n",
       "   DiabetesPedigreeFunction  Age  Class  \n",
       "0                     0.627   50      1  \n",
       "1                     0.351   31      0  \n",
       "2                     0.672   32      1  \n",
       "3                     0.167   21      0  \n",
       "4                     2.288   33      1  "
      ]
     },
     "execution_count": 2,
     "metadata": {},
     "output_type": "execute_result"
    }
   ],
   "source": [
    "filename = '../dataset/pima-indians-diabetes.data.csv'\n",
    "dataframe = pd.read_csv(filename, header = -1)\n",
    "dataframe.columns = ['Pregnancies', 'Glucose', 'BloodPressure', 'SkinThickness', 'Insulin', 'BMI', 'DiabetesPedigreeFunction', 'Age', 'Class']\n",
    "dataframe.head()"
   ]
  },
  {
   "cell_type": "code",
   "execution_count": 3,
   "metadata": {},
   "outputs": [],
   "source": [
    "dataframe.loc[dataframe['Class'] == 0, 'Class'] = -1"
   ]
  },
  {
   "cell_type": "code",
   "execution_count": 4,
   "metadata": {},
   "outputs": [
    {
     "data": {
      "text/html": [
       "<div>\n",
       "<style scoped>\n",
       "    .dataframe tbody tr th:only-of-type {\n",
       "        vertical-align: middle;\n",
       "    }\n",
       "\n",
       "    .dataframe tbody tr th {\n",
       "        vertical-align: top;\n",
       "    }\n",
       "\n",
       "    .dataframe thead th {\n",
       "        text-align: right;\n",
       "    }\n",
       "</style>\n",
       "<table border=\"1\" class=\"dataframe\">\n",
       "  <thead>\n",
       "    <tr style=\"text-align: right;\">\n",
       "      <th></th>\n",
       "      <th>Pregnancies</th>\n",
       "      <th>Glucose</th>\n",
       "      <th>BloodPressure</th>\n",
       "      <th>SkinThickness</th>\n",
       "      <th>Insulin</th>\n",
       "      <th>BMI</th>\n",
       "      <th>DiabetesPedigreeFunction</th>\n",
       "      <th>Age</th>\n",
       "      <th>Class</th>\n",
       "    </tr>\n",
       "  </thead>\n",
       "  <tbody>\n",
       "    <tr>\n",
       "      <th>0</th>\n",
       "      <td>6</td>\n",
       "      <td>148</td>\n",
       "      <td>72</td>\n",
       "      <td>35</td>\n",
       "      <td>0</td>\n",
       "      <td>33.6</td>\n",
       "      <td>0.627</td>\n",
       "      <td>50</td>\n",
       "      <td>1</td>\n",
       "    </tr>\n",
       "    <tr>\n",
       "      <th>1</th>\n",
       "      <td>1</td>\n",
       "      <td>85</td>\n",
       "      <td>66</td>\n",
       "      <td>29</td>\n",
       "      <td>0</td>\n",
       "      <td>26.6</td>\n",
       "      <td>0.351</td>\n",
       "      <td>31</td>\n",
       "      <td>-1</td>\n",
       "    </tr>\n",
       "    <tr>\n",
       "      <th>2</th>\n",
       "      <td>8</td>\n",
       "      <td>183</td>\n",
       "      <td>64</td>\n",
       "      <td>0</td>\n",
       "      <td>0</td>\n",
       "      <td>23.3</td>\n",
       "      <td>0.672</td>\n",
       "      <td>32</td>\n",
       "      <td>1</td>\n",
       "    </tr>\n",
       "    <tr>\n",
       "      <th>3</th>\n",
       "      <td>1</td>\n",
       "      <td>89</td>\n",
       "      <td>66</td>\n",
       "      <td>23</td>\n",
       "      <td>94</td>\n",
       "      <td>28.1</td>\n",
       "      <td>0.167</td>\n",
       "      <td>21</td>\n",
       "      <td>-1</td>\n",
       "    </tr>\n",
       "    <tr>\n",
       "      <th>4</th>\n",
       "      <td>0</td>\n",
       "      <td>137</td>\n",
       "      <td>40</td>\n",
       "      <td>35</td>\n",
       "      <td>168</td>\n",
       "      <td>43.1</td>\n",
       "      <td>2.288</td>\n",
       "      <td>33</td>\n",
       "      <td>1</td>\n",
       "    </tr>\n",
       "  </tbody>\n",
       "</table>\n",
       "</div>"
      ],
      "text/plain": [
       "   Pregnancies  Glucose  BloodPressure  SkinThickness  Insulin   BMI  \\\n",
       "0            6      148             72             35        0  33.6   \n",
       "1            1       85             66             29        0  26.6   \n",
       "2            8      183             64              0        0  23.3   \n",
       "3            1       89             66             23       94  28.1   \n",
       "4            0      137             40             35      168  43.1   \n",
       "\n",
       "   DiabetesPedigreeFunction  Age  Class  \n",
       "0                     0.627   50      1  \n",
       "1                     0.351   31     -1  \n",
       "2                     0.672   32      1  \n",
       "3                     0.167   21     -1  \n",
       "4                     2.288   33      1  "
      ]
     },
     "execution_count": 4,
     "metadata": {},
     "output_type": "execute_result"
    }
   ],
   "source": [
    "dataframe.head()"
   ]
  },
  {
   "cell_type": "code",
   "execution_count": 5,
   "metadata": {},
   "outputs": [
    {
     "name": "stdout",
     "output_type": "stream",
     "text": [
      "Number of train examples: 614\n",
      "Number of test examples: 154\n"
     ]
    }
   ],
   "source": [
    "# training set과 test set으로 분할\n",
    "train_set, test_set = train_test_split(dataframe, test_size=0.2, random_state = 0)\n",
    "print('Number of train examples: {}'.format(len(train_set)))\n",
    "print('Number of test examples: {}'.format(len(test_set)))"
   ]
  },
  {
   "cell_type": "code",
   "execution_count": 6,
   "metadata": {},
   "outputs": [],
   "source": [
    "train_x, train_y = train_set.iloc[:, :-1], train_set.iloc[:, -1]\n",
    "test_x, test_y = test_set.iloc[:, :-1], test_set.iloc[:, -1]"
   ]
  },
  {
   "cell_type": "code",
   "execution_count": 7,
   "metadata": {},
   "outputs": [],
   "source": [
    "assert len(train_x) == len(train_y)\n",
    "assert len(test_x) == len(test_y)"
   ]
  },
  {
   "cell_type": "markdown",
   "metadata": {},
   "source": [
    "- 첫번째 분류기 생성"
   ]
  },
  {
   "cell_type": "code",
   "execution_count": 8,
   "metadata": {},
   "outputs": [
    {
     "data": {
      "text/plain": [
       "DecisionTreeClassifier(class_weight=None, criterion='gini', max_depth=1,\n",
       "            max_features=None, max_leaf_nodes=None,\n",
       "            min_impurity_decrease=0.0, min_impurity_split=None,\n",
       "            min_samples_leaf=1, min_samples_split=2,\n",
       "            min_weight_fraction_leaf=0.0, presort=False, random_state=1,\n",
       "            splitter='best')"
      ]
     },
     "execution_count": 8,
     "metadata": {},
     "output_type": "execute_result"
    }
   ],
   "source": [
    "clf_tree = DecisionTreeClassifier(max_depth=1, random_state=1)\n",
    "clf_tree"
   ]
  },
  {
   "cell_type": "code",
   "execution_count": 9,
   "metadata": {},
   "outputs": [],
   "source": [
    "\"\"\" Accuracy 구하기 \"\"\"\n",
    "\n",
    "def get_accuracy(pred, Y):\n",
    "    return sum(pred == Y) / float(len(Y)) # 맞춘 개수 / 전체 개수\n"
   ]
  },
  {
   "cell_type": "code",
   "execution_count": 10,
   "metadata": {},
   "outputs": [],
   "source": [
    "\"\"\" 예측값 구하기 \"\"\"\n",
    "\n",
    "# 나무는 bagging part에서 직접 구현해 보았으므로 여기서는 sklearn을 사용하여 손 쉽게 구현\n",
    "def fit_get_accuracy(train_y, train_x, test_y, test_x, clf):\n",
    "    clf.fit(train_x, train_y)\n",
    "    pred_trn = clf.predict(train_x)\n",
    "    pred_tst = clf.predict(test_x)\n",
    "    return {'train_acc': [get_accuracy(pred_trn, train_y)], \n",
    "            'test_acc': [get_accuracy(pred_tst, test_y)]}\n"
   ]
  },
  {
   "cell_type": "code",
   "execution_count": 11,
   "metadata": {},
   "outputs": [
    {
     "data": {
      "text/plain": [
       "{'train_acc': [0.7214983713355049], 'test_acc': [0.7207792207792207]}"
      ]
     },
     "execution_count": 11,
     "metadata": {},
     "output_type": "execute_result"
    }
   ],
   "source": [
    "acc_tree = fit_get_accuracy(train_y, train_x, test_y, test_x, clf_tree)\n",
    "acc_tree"
   ]
  },
  {
   "cell_type": "markdown",
   "metadata": {},
   "source": [
    "---"
   ]
  },
  {
   "cell_type": "code",
   "execution_count": 12,
   "metadata": {},
   "outputs": [
    {
     "name": "stdout",
     "output_type": "stream",
     "text": [
      "----------------------------------------------------------------------------------------------------\n",
      "iter 10 train perf: 0.7638436482084691\n",
      "iter 10 test perf: 0.7532467532467533\n",
      "----------------------------------------------------------------------------------------------------\n",
      "iter 20 train perf: 0.7899022801302932\n",
      "iter 20 test perf: 0.7857142857142857\n",
      "----------------------------------------------------------------------------------------------------\n",
      "iter 30 train perf: 0.7915309446254072\n",
      "iter 30 test perf: 0.7857142857142857\n",
      "----------------------------------------------------------------------------------------------------\n",
      "iter 40 train perf: 0.7882736156351792\n",
      "iter 40 test perf: 0.7922077922077922\n",
      "----------------------------------------------------------------------------------------------------\n",
      "iter 50 train perf: 0.7899022801302932\n",
      "iter 50 test perf: 0.7857142857142857\n",
      "----------------------------------------------------------------------------------------------------\n",
      "iter 60 train perf: 0.7931596091205212\n",
      "iter 60 test perf: 0.7922077922077922\n",
      "----------------------------------------------------------------------------------------------------\n",
      "iter 70 train perf: 0.8029315960912052\n",
      "iter 70 test perf: 0.8116883116883117\n",
      "----------------------------------------------------------------------------------------------------\n",
      "iter 80 train perf: 0.8029315960912052\n",
      "iter 80 test perf: 0.8116883116883117\n",
      "----------------------------------------------------------------------------------------------------\n",
      "iter 90 train perf: 0.8013029315960912\n",
      "iter 90 test perf: 0.8051948051948052\n",
      "----------------------------------------------------------------------------------------------------\n",
      "iter 100 train perf: 0.8045602605863192\n",
      "iter 100 test perf: 0.8051948051948052\n"
     ]
    }
   ],
   "source": [
    "def adaboost_clf(Y_train, X_train, Y_test, X_test, num_step, clf):\n",
    "    '''\n",
    "    각 row example의 중요도 초기화\n",
    "    '''\n",
    "    # 데이터 개수 구하기\n",
    "    n_train, n_test = len(X_train), len(X_test)\n",
    "    \n",
    "    # 각 데이터 sample의 weights 초기화 (uniform)\n",
    "    D_t = np.ones(n_train) / n_train \n",
    "    \n",
    "    # 예측되는 값을 저장할 empty array\n",
    "    #pred_train, pred_test = np.zeros(n_train), np.zeros(n_test)\n",
    "    \n",
    "    '''\n",
    "    - 이전 모델에서 잘 분류하지 못한 데이터들을 새로운 모델로 예측\n",
    "    - num_step까지 순차적으로 반복\n",
    "    '''\n",
    "    for i in range(num_step): # num_step : tree 개수\n",
    "        \n",
    "        # 데이터와 weights를 통하여 모델 fitting \n",
    "        clf.fit(X_train, Y_train, sample_weight= D_t)\n",
    "        \n",
    "        # train set 예측\n",
    "        h_x = clf.predict(X_train)\n",
    "        # test set 예측\n",
    "        test_h_x = clf.predict(X_test)    \n",
    "        \n",
    "        # Indicator function: 예측값과 실제값이 다르면 1, 같으면 0\n",
    "        indicator_1_0 = [1 if pred!=true else 0 for pred, true in zip(h_x, Y_train)] \n",
    "        yhx = [ yi * h_xi  for h_xi, yi in zip(h_x, Y_train)]                \n",
    "        \n",
    "        # eq.(1): Error\n",
    "        err_t = np.dot(D_t, indicator_1_0) / sum(D_t) \n",
    "\n",
    "        # eq.(2): Alpha\n",
    "        alpha_t = 0.5 * np.log((1 - err_t) / float(err_t)) \n",
    "        \n",
    "        # eq.(3): weight\n",
    "        D_t = np.multiply(D_t, np.exp([- alpha_t * float(yhx_i)  for yhx_i in yhx]))\n",
    "        D_t = D_t / sum(D_t)\n",
    "        \n",
    "        # eq.(4): Prediction 구하기\n",
    "        if i == 0 :\n",
    "            pred_train = [h_xi * alpha_t for h_xi in h_x]\n",
    "            pred_test = [h_xi * alpha_t for h_xi in test_h_x]\n",
    "        else:\n",
    "            pred_train = [sum(x) for x in zip(pred_train, [h_xi * alpha_t for h_xi in h_x])] \n",
    "            pred_test = [sum(x) for x in zip(pred_test, [h_xi * alpha_t for h_xi in test_h_x])]  \n",
    "\n",
    "    # eq.(4)\n",
    "    pred_train, pred_test = np.sign(pred_train), np.sign(pred_test) \n",
    "    \n",
    "    # train set과 test set의 정확도 반환\n",
    "    return {'train':get_accuracy(pred_train, Y_train), \n",
    "            'test' : get_accuracy(pred_test, Y_test)}\n",
    "\n",
    "\n",
    "# Boosting 결과\n",
    "for num_step in range(1,101):\n",
    "    acc_step = adaboost_clf(train_y, train_x, test_y, test_x, num_step, clf_tree)\n",
    "    if num_step % 10 ==0:\n",
    "        print('-'*100)\n",
    "        print('iter {} train perf:'.format(num_step), acc_step['train'])\n",
    "        print('iter {} test perf:'.format(num_step), acc_step['test'])\n",
    "\n",
    "    acc_tree['train_acc'].append(acc_step['train'])\n",
    "    acc_tree['test_acc'].append(acc_step['test'])\n",
    "    \n"
   ]
  },
  {
   "cell_type": "markdown",
   "metadata": {},
   "source": [
    "$$\\epsilon_t =  \\frac{\\sum_{y_i \\neq h_t(x_i)} D_{i}^{(t)} }{ \\sum_{i=1}^{N} D_{i}^{(t)}} \\quad \\cdot\\cdot\\cdot (1)$$"
   ]
  },
  {
   "cell_type": "markdown",
   "metadata": {},
   "source": [
    "$$\\alpha_t = \\frac{1}{2}\\ln ( \\frac{1-\\epsilon_t }{\\epsilon_t}) \\quad \\cdot\\cdot\\cdot (2)$$"
   ]
  },
  {
   "cell_type": "markdown",
   "metadata": {},
   "source": [
    "$$D_{t+1}(i) = \\frac{D_t(i) \\exp(-\\alpha_t \\ y_i h_t (x_i)) }{ Z_t} \\quad \\cdot\\cdot\\cdot (3)$$"
   ]
  },
  {
   "cell_type": "markdown",
   "metadata": {},
   "source": [
    "$$H(x) = sign( \\sum^{T}_{t=1} \\alpha_t h_t (x)) \\quad \\cdot\\cdot\\cdot (4)$$"
   ]
  },
  {
   "cell_type": "code",
   "execution_count": 13,
   "metadata": {},
   "outputs": [
    {
     "data": {
      "image/png": "[encoded data removed]",
      "text/plain": [
       "<Figure size 576x432 with 1 Axes>"
      ]
     },
     "metadata": {
      "needs_background": "light"
     },
     "output_type": "display_data"
    },
    {
     "name": "stdout",
     "output_type": "stream",
     "text": [
      "Train Accuracy :  0.8045602605863192\n",
      "Test Accuracy :  0.8051948051948052\n"
     ]
    }
   ],
   "source": [
    "\"\"\" PLOT 그리기 \"\"\"\n",
    "\n",
    "def plot_accuracy(acc_train, acc_test):\n",
    "    df_Acc = pd.DataFrame([acc_train, acc_test]).T\n",
    "    df_Acc.columns = ['Training', 'Test']\n",
    "    plot1 = df_Acc.plot(linewidth=3, figsize=(8, 6),\n",
    "                          color=['lightblue', 'darkblue'], grid=True)\n",
    "    plot1.set_xlabel('Number of iterations', fontsize=12)\n",
    "    plot1.set_ylabel('Accuracy', fontsize=12)\n",
    "    plot1.set_title('Accuracy / number of iterations', fontsize=16)\n",
    "    plt.axhline(y=acc_test[0], linewidth=1, color='red', ls='dashed')\n",
    "    plt.show()\n",
    "\n",
    "# 시각화\n",
    "plot_accuracy(acc_tree['train_acc'], acc_tree['test_acc'])\n",
    "\n",
    "print(\"Train Accuracy : \", acc_tree['train_acc'][-1])\n",
    "print(\"Test Accuracy : \", acc_tree['test_acc'][-1])"
   ]
  }
 ],
 "metadata": {
  "kernelspec": {
   "display_name": "Python 3",
   "language": "python",
   "name": "python3"
  },
  "language_info": {
   "codemirror_mode": {
    "name": "ipython",
    "version": 3
   },
   "file_extension": ".py",
   "mimetype": "text/x-python",
   "name": "python",
   "nbconvert_exporter": "python",
   "pygments_lexer": "ipython3",
   "version": "3.7.3"
  }
 },
 "nbformat": 4,
 "nbformat_minor": 2
}
